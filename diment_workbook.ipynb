{
 "cells": [
  {
   "cell_type": "code",
   "execution_count": null,
   "id": "ca928773",
   "metadata": {},
   "outputs": [],
   "source": [
    "from data import MultiMolGraphDataset\n",
    "from torch_geometric.loader import DataLoader\n",
    "import torch\n",
    "import torchmetrics\n",
    "from torchmetrics import MeanAbsoluteError\n",
    "import random\n",
    "import pandas as pd\n",
    "import numpy as np\n",
    "from siamesepairwise import SiameseDimeNet\n",
    "from torch.optim.lr_scheduler import CosineAnnealingLR\n",
    "from schedulers import CosineRestartsDecay\n",
    "import os\n",
    "import argparse\n",
    "import torch.nn.functional as F\n",
    "from torch_geometric.data import Data\n",
    "from tqdm import tqdm  # for progress bars\n",
    "from loss_utils import cosine_angle_loss, AngularErrorMetric\n",
    "\n",
    "\n",
    "device = 'cuda' if torch.cuda.is_available() else 'cpu'"
   ]
  },
  {
   "cell_type": "code",
   "execution_count": null,
   "id": "d21e6e49",
   "metadata": {},
   "outputs": [],
   "source": [
    "def seed_everything(seed: int):\n",
    "    random.seed(seed)\n",
    "    np.random.seed(seed)\n",
    "    torch.manual_seed(seed)\n",
    "    torch.cuda.manual_seed_all(seed)\n"
   ]
  },
  {
   "cell_type": "code",
   "execution_count": 2,
   "id": "9c58664d",
   "metadata": {},
   "outputs": [],
   "source": [
    "sdf_path = '/home/calvin/code/chemprop_phd_customised/habnet/data/processed/sdf_data'\n",
    "target_data = '/home/calvin/code/chemprop_phd_customised/habnet/data/processed/target_data/target_data.csv'"
   ]
  },
  {
   "cell_type": "code",
   "execution_count": null,
   "id": "b30d2f4d",
   "metadata": {},
   "outputs": [
    {
     "name": "stdout",
     "output_type": "stream",
     "text": [
      "   psi_1_dihedral  psi_1_dihedral_sin  psi_1_dihedral_cos\n",
      "0      313.550300           -0.724770            0.688991\n",
      "2      292.580884           -0.923338            0.383987\n",
      "3      233.012473           -0.798766           -0.601641\n",
      "4       34.468778            0.565957            0.824435\n",
      "5      202.755671           -0.386802           -0.922163\n"
     ]
    }
   ],
   "source": [
    "# Read in target_data with pandas and then select 'psi_1_dihedral' column and convert the dihedral angles to sin and cos \n",
    "\n",
    "# 1 & 2. Load your data\n",
    "target_df = pd.read_csv(target_data)\n",
    "\n",
    "# Drop -10 rows in the dihedral angle column\n",
    "target_df = target_df[target_df['psi_1_dihedral'] != -10]\n",
    "\n",
    "# 3. Extract the dihedral angles\n",
    "angles = target_df['psi_1_dihedral']\n",
    "\n",
    "# 3.1 Remove any -10 rows in the dihedral angle column\n",
    "angles = angles[angles != -10]\n",
    "# 3.2 Remove any NaN values\n",
    "angles = angles.dropna()\n",
    "\n",
    "# 4. If angles are in degrees, convert to radians\n",
    "angles_rad = np.deg2rad(angles)\n",
    "\n",
    "# 5. Compute sin & cos and assign\n",
    "target_df['psi_1_dihedral_sin'] = np.sin(angles_rad)\n",
    "target_df['psi_1_dihedral_cos'] = np.cos(angles_rad)\n",
    "\n",
    "# Optional: inspect\n",
    "print(target_df[['psi_1_dihedral', 'psi_1_dihedral_sin', 'psi_1_dihedral_cos']].head())\n",
    "\n",
    "\n",
    "\n",
    "# 6. Save the modified DataFrame back to CSV\n",
    "target_data = '/home/calvin/code/chemprop_phd_customised/habnet/data/processed/target_data/target_data_sin_cos.csv'\n",
    "target_df.to_csv(target_data, index=False)"
   ]
  },
  {
   "cell_type": "code",
   "execution_count": 4,
   "id": "b14afab1",
   "metadata": {},
   "outputs": [
    {
     "name": "stdout",
     "output_type": "stream",
     "text": [
      "Processing 1810 SDF files from ['/home/calvin/code/chemprop_phd_customised/habnet/data/processed/sdf_data']\n",
      "RXN IDs available in CSV: ['rmg_rxn_86', 'rxn_618', 'rxn_1833', 'rmg_rxn_182', 'rxn_1240', 'rmg_rxn_157', 'rxn_563', 'rmg_rxn_521', 'kfir_rxn_13503', 'rxn_1423']...\n",
      "  • kfir_rxn_10218.sdf → found types ['r1h', 'r2h']\n",
      "  • kfir_rxn_10391.sdf → found types ['r1h', 'r2h']\n",
      "  • kfir_rxn_11197.sdf → found types ['r1h', 'r2h']\n",
      "  • kfir_rxn_11663.sdf → found types ['r1h', 'r2h']\n",
      "  • kfir_rxn_11797.sdf → found types ['r1h', 'r2h']\n",
      "  • kfir_rxn_11915.sdf → found types ['r1h', 'r2h']\n",
      "  • kfir_rxn_12959.sdf → found types ['r1h', 'r2h']\n",
      "  • kfir_rxn_13108.sdf → found types ['r1h', 'r2h']\n",
      "  • kfir_rxn_1315.sdf → found types ['r1h', 'r2h']\n",
      "  • kfir_rxn_13503.sdf → found types ['r1h', 'r2h']\n",
      "  • kfir_rxn_13651.sdf → found types ['r1h', 'r2h']\n",
      "  • kfir_rxn_13712.sdf → found types ['r1h', 'r2h']\n",
      "  • kfir_rxn_13897.sdf → found types ['r1h', 'r2h']\n",
      "  • kfir_rxn_2.sdf → found types ['r1h', 'r2h']\n",
      "  • kfir_rxn_4303.sdf → found types ['r1h', 'r2h']\n",
      "  • kfir_rxn_4836.sdf → found types ['r1h', 'r2h']\n",
      "  • kfir_rxn_5161.sdf → found types ['r1h', 'r2h']\n",
      "  • kfir_rxn_5172.sdf → found types ['r1h', 'r2h']\n",
      "  • kfir_rxn_5389.sdf → found types ['r1h', 'r2h']\n",
      "  • kfir_rxn_5989.sdf → found types ['r1h', 'r2h']\n",
      "  • kfir_rxn_679.sdf → found types ['r1h', 'r2h']\n",
      "  • kfir_rxn_7125.sdf → found types ['r1h', 'r2h']\n",
      "  • kfir_rxn_7531.sdf → found types ['r1h', 'r2h']\n",
      "  • kfir_rxn_7559.sdf → found types ['r1h', 'r2h']\n",
      "  • kfir_rxn_8008.sdf → found types ['r1h', 'r2h']\n",
      "  • kfir_rxn_8057.sdf → found types ['r1h', 'r2h']\n",
      "  • kfir_rxn_8536.sdf → found types ['r1h', 'r2h']\n",
      "  • kfir_rxn_9205.sdf → found types ['r1h', 'r2h']\n",
      "  • kfir_rxn_9248.sdf → found types ['r1h', 'r2h']\n",
      "  • kfir_rxn_9409.sdf → found types ['r1h', 'r2h']\n",
      "  • kfir_rxn_9652.sdf → found types ['r1h', 'r2h']\n",
      "  • kfir_rxn_9679.sdf → found types ['r1h', 'r2h']\n",
      "  • kfir_rxn_9885.sdf → found types ['r1h', 'r2h']\n",
      "  • rmg_rxn_10.sdf → found types ['r1h', 'r2h']\n",
      "  • rmg_rxn_1066.sdf → found types ['r1h', 'r2h']\n",
      "  • rmg_rxn_1129.sdf → found types ['r1h', 'r2h']\n",
      "    – skipping rmg_rxn_1129.sdf: RXN 'rmg_rxn_1129' not in CSV\n",
      "  • rmg_rxn_1130.sdf → found types ['r1h', 'r2h']\n",
      "  • rmg_rxn_1134.sdf → found types ['r1h', 'r2h']\n",
      "  • rmg_rxn_1137.sdf → found types ['r1h', 'r2h']\n",
      "    – skipping rmg_rxn_1137.sdf: RXN 'rmg_rxn_1137' not in CSV\n",
      "  • rmg_rxn_1141.sdf → found types ['r1h', 'r2h']\n",
      "    – skipping rmg_rxn_1141.sdf: RXN 'rmg_rxn_1141' not in CSV\n",
      "  • rmg_rxn_1142.sdf → found types ['r1h', 'r2h']\n",
      "    – skipping rmg_rxn_1142.sdf: RXN 'rmg_rxn_1142' not in CSV\n",
      "  • rmg_rxn_1146.sdf → found types ['r1h', 'r2h']\n",
      "    – skipping rmg_rxn_1146.sdf: RXN 'rmg_rxn_1146' not in CSV\n",
      "  • rmg_rxn_1147.sdf → found types ['r1h', 'r2h']\n",
      "    – skipping rmg_rxn_1147.sdf: RXN 'rmg_rxn_1147' not in CSV\n",
      "  • rmg_rxn_1152.sdf → found types ['r1h', 'r2h']\n",
      "    – skipping rmg_rxn_1152.sdf: RXN 'rmg_rxn_1152' not in CSV\n",
      "  • rmg_rxn_1153.sdf → found types ['r1h', 'r2h']\n",
      "    – skipping rmg_rxn_1153.sdf: RXN 'rmg_rxn_1153' not in CSV\n",
      "  • rmg_rxn_1154.sdf → found types ['r1h', 'r2h']\n",
      "    – skipping rmg_rxn_1154.sdf: RXN 'rmg_rxn_1154' not in CSV\n",
      "  • rmg_rxn_1155.sdf → found types ['r1h', 'r2h']\n",
      "    – skipping rmg_rxn_1155.sdf: RXN 'rmg_rxn_1155' not in CSV\n",
      "  • rmg_rxn_1156.sdf → found types ['r1h', 'r2h']\n",
      "  • rmg_rxn_1157.sdf → found types ['r1h', 'r2h']\n",
      "    – skipping rmg_rxn_1157.sdf: RXN 'rmg_rxn_1157' not in CSV\n",
      "  • rmg_rxn_1160.sdf → found types ['r1h', 'r2h']\n",
      "    – skipping rmg_rxn_1160.sdf: RXN 'rmg_rxn_1160' not in CSV\n",
      "  • rmg_rxn_1161.sdf → found types ['r1h', 'r2h']\n",
      "    – skipping rmg_rxn_1161.sdf: RXN 'rmg_rxn_1161' not in CSV\n",
      "  • rmg_rxn_1162.sdf → found types ['r1h', 'r2h']\n",
      "  • rmg_rxn_1163.sdf → found types ['r1h', 'r2h']\n",
      "    – skipping rmg_rxn_1163.sdf: RXN 'rmg_rxn_1163' not in CSV\n",
      "  • rmg_rxn_12.sdf → found types ['r1h', 'r2h']\n",
      "  • rmg_rxn_13.sdf → found types ['r1h', 'r2h']\n",
      "  • rmg_rxn_1337.sdf → found types ['r1h', 'r2h']\n",
      "  • rmg_rxn_1339.sdf → found types ['r1h', 'r2h']\n",
      "  • rmg_rxn_1344.sdf → found types ['r1h', 'r2h']\n",
      "  • rmg_rxn_1345.sdf → found types ['r1h', 'r2h']\n",
      "  • rmg_rxn_1349.sdf → found types ['r1h', 'r2h']\n",
      "  • rmg_rxn_14.sdf → found types ['r1h', 'r2h']\n",
      "  • rmg_rxn_1446.sdf → found types ['r1h', 'r2h']\n",
      "  • rmg_rxn_1447.sdf → found types ['r1h', 'r2h']\n",
      "  • rmg_rxn_1449.sdf → found types ['r1h', 'r2h']\n",
      "  • rmg_rxn_1454.sdf → found types ['r1h', 'r2h']\n",
      "  • rmg_rxn_1474.sdf → found types ['r1h', 'r2h']\n",
      "  • rmg_rxn_1475.sdf → found types ['r1h', 'r2h']\n",
      "  • rmg_rxn_1476.sdf → found types ['r1h', 'r2h']\n",
      "  • rmg_rxn_1477.sdf → found types ['r1h', 'r2h']\n",
      "  • rmg_rxn_1478.sdf → found types ['r1h', 'r2h']\n",
      "  • rmg_rxn_1479.sdf → found types ['r1h', 'r2h']\n",
      "  • rmg_rxn_1480.sdf → found types ['r1h', 'r2h']\n",
      "  • rmg_rxn_1481.sdf → found types ['r1h', 'r2h']\n",
      "  • rmg_rxn_1482.sdf → found types ['r1h', 'r2h']\n",
      "  • rmg_rxn_1483.sdf → found types ['r1h', 'r2h']\n",
      "  • rmg_rxn_1485.sdf → found types ['r1h', 'r2h']\n",
      "  • rmg_rxn_1486.sdf → found types ['r1h', 'r2h']\n",
      "  • rmg_rxn_1487.sdf → found types ['r1h', 'r2h']\n",
      "  • rmg_rxn_1492.sdf → found types ['r1h', 'r2h']\n",
      "  • rmg_rxn_1493.sdf → found types ['r1h', 'r2h']\n",
      "  • rmg_rxn_1494.sdf → found types ['r1h', 'r2h']\n",
      "  • rmg_rxn_1496.sdf → found types ['r1h', 'r2h']\n",
      "  • rmg_rxn_15.sdf → found types ['r1h', 'r2h']\n",
      "  • rmg_rxn_1500.sdf → found types ['r1h', 'r2h']\n",
      "  • rmg_rxn_151.sdf → found types ['r1h', 'r2h']\n",
      "  • rmg_rxn_1519.sdf → found types ['r1h', 'r2h']\n",
      "  • rmg_rxn_1523.sdf → found types ['r1h', 'r2h']\n",
      "  • rmg_rxn_1527.sdf → found types ['r1h', 'r2h']\n",
      "  • rmg_rxn_153.sdf → found types ['r1h', 'r2h']\n",
      "  • rmg_rxn_1532.sdf → found types ['r1h', 'r2h']\n",
      "  • rmg_rxn_1534.sdf → found types ['r1h', 'r2h']\n",
      "  • rmg_rxn_15371.sdf → found types ['r1h', 'r2h']\n",
      "  • rmg_rxn_15379.sdf → found types ['r1h', 'r2h']\n",
      "  • rmg_rxn_1538.sdf → found types ['r1h', 'r2h']\n",
      "  • rmg_rxn_15381.sdf → found types ['r1h', 'r2h']\n",
      "  • rmg_rxn_15382.sdf → found types ['r1h', 'r2h']\n",
      "  • rmg_rxn_15383.sdf → found types ['r1h', 'r2h']\n",
      "  • rmg_rxn_15385.sdf → found types ['r1h', 'r2h']\n",
      "  • rmg_rxn_15386.sdf → found types ['r1h', 'r2h']\n",
      "  • rmg_rxn_15388.sdf → found types ['r1h', 'r2h']\n",
      "  • rmg_rxn_15390.sdf → found types ['r1h', 'r2h']\n",
      "  • rmg_rxn_15391.sdf → found types ['r1h', 'r2h']\n",
      "  • rmg_rxn_15392.sdf → found types ['r1h', 'r2h']\n",
      "  • rmg_rxn_15395.sdf → found types ['r1h', 'r2h']\n",
      "  • rmg_rxn_15397.sdf → found types ['r1h', 'r2h']\n",
      "  • rmg_rxn_1540.sdf → found types ['r1h', 'r2h']\n",
      "  • rmg_rxn_15401.sdf → found types ['r1h', 'r2h']\n",
      "    – skipping rmg_rxn_15401.sdf: RXN 'rmg_rxn_15401' not in CSV\n",
      "  • rmg_rxn_15402.sdf → found types ['r1h', 'r2h']\n",
      "  • rmg_rxn_15405.sdf → found types ['r1h', 'r2h']\n",
      "  • rmg_rxn_15406.sdf → found types ['r1h', 'r2h']\n",
      "  • rmg_rxn_15407.sdf → found types ['r1h', 'r2h']\n",
      "  • rmg_rxn_15408.sdf → found types ['r1h', 'r2h']\n",
      "  • rmg_rxn_15409.sdf → found types ['r1h', 'r2h']\n",
      "  • rmg_rxn_15410.sdf → found types ['r1h', 'r2h']\n",
      "  • rmg_rxn_15412.sdf → found types ['r1h', 'r2h']\n",
      "  • rmg_rxn_15417.sdf → found types ['r1h', 'r2h']\n",
      "  • rmg_rxn_15418.sdf → found types ['r1h', 'r2h']\n",
      "  • rmg_rxn_15419.sdf → found types ['r1h', 'r2h']\n",
      "  • rmg_rxn_15420.sdf → found types ['r1h', 'r2h']\n",
      "  • rmg_rxn_15421.sdf → found types ['r1h', 'r2h']\n",
      "  • rmg_rxn_15422.sdf → found types ['r1h', 'r2h']\n",
      "  • rmg_rxn_15423.sdf → found types ['r1h', 'r2h']\n",
      "  • rmg_rxn_15424.sdf → found types ['r1h', 'r2h']\n",
      "  • rmg_rxn_15425.sdf → found types ['r1h', 'r2h']\n",
      "  • rmg_rxn_15426.sdf → found types ['r1h', 'r2h']\n",
      "  • rmg_rxn_15427.sdf → found types ['r1h', 'r2h']\n",
      "  • rmg_rxn_15428.sdf → found types ['r1h', 'r2h']\n",
      "  • rmg_rxn_15434.sdf → found types ['r1h', 'r2h']\n",
      "  • rmg_rxn_15436.sdf → found types ['r1h', 'r2h']\n",
      "  • rmg_rxn_15439.sdf → found types ['r1h', 'r2h']\n",
      "  • rmg_rxn_1544.sdf → found types ['r1h', 'r2h']\n",
      "  • rmg_rxn_15440.sdf → found types ['r1h', 'r2h']\n",
      "    – skipping rmg_rxn_15440.sdf: RXN 'rmg_rxn_15440' not in CSV\n",
      "  • rmg_rxn_15442.sdf → found types ['r1h', 'r2h']\n",
      "  • rmg_rxn_15443.sdf → found types ['r1h', 'r2h']\n",
      "  • rmg_rxn_15450.sdf → found types ['r1h', 'r2h']\n",
      "  • rmg_rxn_15453.sdf → found types ['r1h', 'r2h']\n",
      "  • rmg_rxn_15458.sdf → found types ['r1h', 'r2h']\n",
      "  • rmg_rxn_15466.sdf → found types ['r1h', 'r2h']\n",
      "  • rmg_rxn_15467.sdf → found types ['r1h', 'r2h']\n",
      "  • rmg_rxn_15469.sdf → found types ['r1h', 'r2h']\n",
      "  • rmg_rxn_15476.sdf → found types ['r1h', 'r2h']\n",
      "  • rmg_rxn_15477.sdf → found types ['r1h', 'r2h']\n",
      "  • rmg_rxn_15478.sdf → found types ['r1h', 'r2h']\n",
      "  • rmg_rxn_15485.sdf → found types ['r1h', 'r2h']\n",
      "  • rmg_rxn_15486.sdf → found types ['r1h', 'r2h']\n",
      "  • rmg_rxn_15490.sdf → found types ['r1h', 'r2h']\n",
      "  • rmg_rxn_15491.sdf → found types ['r1h', 'r2h']\n",
      "  • rmg_rxn_15493.sdf → found types ['r1h', 'r2h']\n",
      "  • rmg_rxn_15494.sdf → found types ['r1h', 'r2h']\n",
      "  • rmg_rxn_15496.sdf → found types ['r1h', 'r2h']\n",
      "  • rmg_rxn_15497.sdf → found types ['r1h', 'r2h']\n",
      "  • rmg_rxn_15498.sdf → found types ['r1h', 'r2h']\n",
      "  • rmg_rxn_15504.sdf → found types ['r1h', 'r2h']\n",
      "  • rmg_rxn_15506.sdf → found types ['r1h', 'r2h']\n",
      "  • rmg_rxn_15508.sdf → found types ['r1h', 'r2h']\n",
      "  • rmg_rxn_15509.sdf → found types ['r1h', 'r2h']\n",
      "  • rmg_rxn_15513.sdf → found types ['r1h', 'r2h']\n"
     ]
    },
    {
     "name": "stderr",
     "output_type": "stream",
     "text": [
      "Processing...\n"
     ]
    },
    {
     "name": "stdout",
     "output_type": "stream",
     "text": [
      "  • rmg_rxn_15515.sdf → found types ['r1h', 'r2h']\n",
      "  • rmg_rxn_15516.sdf → found types ['r1h', 'r2h']\n",
      "  • rmg_rxn_15517.sdf → found types ['r1h', 'r2h']\n",
      "  • rmg_rxn_15521.sdf → found types ['r1h', 'r2h']\n",
      "  • rmg_rxn_15524.sdf → found types ['r1h', 'r2h']\n",
      "  • rmg_rxn_15526.sdf → found types ['r1h', 'r2h']\n",
      "  • rmg_rxn_15531.sdf → found types ['r1h', 'r2h']\n",
      "  • rmg_rxn_15538.sdf → found types ['r1h', 'r2h']\n",
      "  • rmg_rxn_15539.sdf → found types ['r1h', 'r2h']\n",
      "  • rmg_rxn_15540.sdf → found types ['r1h', 'r2h']\n",
      "  • rmg_rxn_15541.sdf → found types ['r1h', 'r2h']\n",
      "  • rmg_rxn_15545.sdf → found types ['r1h', 'r2h']\n",
      "  • rmg_rxn_15565.sdf → found types ['r1h', 'r2h']\n",
      "  • rmg_rxn_15566.sdf → found types ['r1h', 'r2h']\n",
      "  • rmg_rxn_15567.sdf → found types ['r1h', 'r2h']\n",
      "  • rmg_rxn_15575.sdf → found types ['r1h', 'r2h']\n",
      "  • rmg_rxn_15576.sdf → found types ['r1h', 'r2h']\n",
      "  • rmg_rxn_15577.sdf → found types ['r1h', 'r2h']\n",
      "  • rmg_rxn_15579.sdf → found types ['r1h', 'r2h']\n",
      "  • rmg_rxn_15580.sdf → found types ['r1h', 'r2h']\n",
      "  • rmg_rxn_15582.sdf → found types ['r1h', 'r2h']\n",
      "  • rmg_rxn_15584.sdf → found types ['r1h', 'r2h']\n",
      "  • rmg_rxn_15585.sdf → found types ['r1h', 'r2h']\n",
      "  • rmg_rxn_15586.sdf → found types ['r1h', 'r2h']\n",
      "  • rmg_rxn_15588.sdf → found types ['r1h', 'r2h']\n",
      "  • rmg_rxn_15589.sdf → found types ['r1h', 'r2h']\n",
      "  • rmg_rxn_15590.sdf → found types ['r1h', 'r2h']\n",
      "  • rmg_rxn_15591.sdf → found types ['r1h', 'r2h']\n",
      "  • rmg_rxn_15592.sdf → found types ['r1h', 'r2h']\n",
      "  • rmg_rxn_15595.sdf → found types ['r1h', 'r2h']\n",
      "    – skipping rmg_rxn_15595.sdf: RXN 'rmg_rxn_15595' not in CSV\n",
      "  • rmg_rxn_15596.sdf → found types ['r1h', 'r2h']\n",
      "  • rmg_rxn_15597.sdf → found types ['r1h', 'r2h']\n",
      "  • rmg_rxn_15599.sdf → found types ['r1h', 'r2h']\n",
      "  • rmg_rxn_156.sdf → found types ['r1h', 'r2h']\n",
      "  • rmg_rxn_15600.sdf → found types ['r1h', 'r2h']\n",
      "  • rmg_rxn_15601.sdf → found types ['r1h', 'r2h']\n",
      "  • rmg_rxn_15602.sdf → found types ['r1h', 'r2h']\n",
      "  • rmg_rxn_15603.sdf → found types ['r1h', 'r2h']\n",
      "  • rmg_rxn_15604.sdf → found types ['r1h', 'r2h']\n",
      "  • rmg_rxn_15605.sdf → found types ['r1h', 'r2h']\n",
      "  • rmg_rxn_1561.sdf → found types ['r1h', 'r2h']\n",
      "  • rmg_rxn_15611.sdf → found types ['r1h', 'r2h']\n",
      "  • rmg_rxn_15612.sdf → found types ['r1h', 'r2h']\n",
      "  • rmg_rxn_15613.sdf → found types ['r1h', 'r2h']\n",
      "  • rmg_rxn_15614.sdf → found types ['r1h', 'r2h']\n",
      "  • rmg_rxn_15615.sdf → found types ['r1h', 'r2h']\n",
      "  • rmg_rxn_15616.sdf → found types ['r1h', 'r2h']\n",
      "  • rmg_rxn_15617.sdf → found types ['r1h', 'r2h']\n",
      "  • rmg_rxn_15618.sdf → found types ['r1h', 'r2h']\n",
      "  • rmg_rxn_15619.sdf → found types ['r1h', 'r2h']\n",
      "  • rmg_rxn_15620.sdf → found types ['r1h', 'r2h']\n",
      "  • rmg_rxn_15622.sdf → found types ['r1h', 'r2h']\n",
      "  • rmg_rxn_15628.sdf → found types ['r1h', 'r2h']\n",
      "  • rmg_rxn_1563.sdf → found types ['r1h', 'r2h']\n",
      "  • rmg_rxn_15633.sdf → found types ['r1h', 'r2h']\n",
      "  • rmg_rxn_15634.sdf → found types ['r1h', 'r2h']\n",
      "  • rmg_rxn_15636.sdf → found types ['r1h', 'r2h']\n",
      "  • rmg_rxn_15637.sdf → found types ['r1h', 'r2h']\n",
      "  • rmg_rxn_15644.sdf → found types ['r1h', 'r2h']\n",
      "  • rmg_rxn_15647.sdf → found types ['r1h', 'r2h']\n",
      "  • rmg_rxn_1565.sdf → found types ['r1h', 'r2h']\n",
      "  • rmg_rxn_15651.sdf → found types ['r1h', 'r2h']\n",
      "  • rmg_rxn_15652.sdf → found types ['r1h', 'r2h']\n",
      "  • rmg_rxn_15653.sdf → found types ['r1h', 'r2h']\n",
      "  • rmg_rxn_15660.sdf → found types ['r1h', 'r2h']\n",
      "  • rmg_rxn_15661.sdf → found types ['r1h', 'r2h']\n",
      "  • rmg_rxn_15664.sdf → found types ['r1h', 'r2h']\n",
      "  • rmg_rxn_15667.sdf → found types ['r1h', 'r2h']\n",
      "  • rmg_rxn_15670.sdf → found types ['r1h', 'r2h']\n",
      "  • rmg_rxn_15671.sdf → found types ['r1h', 'r2h']\n",
      "  • rmg_rxn_15672.sdf → found types ['r1h', 'r2h']\n",
      "  • rmg_rxn_15675.sdf → found types ['r1h', 'r2h']\n",
      "  • rmg_rxn_15678.sdf → found types ['r1h', 'r2h']\n",
      "  • rmg_rxn_15679.sdf → found types ['r1h', 'r2h']\n",
      "  • rmg_rxn_15680.sdf → found types ['r1h', 'r2h']\n",
      "  • rmg_rxn_15684.sdf → found types ['r1h', 'r2h']\n",
      "  • rmg_rxn_15685.sdf → found types ['r1h', 'r2h']\n",
      "  • rmg_rxn_15688.sdf → found types ['r1h', 'r2h']\n",
      "  • rmg_rxn_15690.sdf → found types ['r1h', 'r2h']\n",
      "  • rmg_rxn_15691.sdf → found types ['r1h', 'r2h']\n",
      "  • rmg_rxn_15692.sdf → found types ['r1h', 'r2h']\n",
      "  • rmg_rxn_15698.sdf → found types ['r1h', 'r2h']\n",
      "  • rmg_rxn_15699.sdf → found types ['r1h', 'r2h']\n",
      "  • rmg_rxn_157.sdf → found types ['r1h', 'r2h']\n",
      "  • rmg_rxn_15701.sdf → found types ['r1h', 'r2h']\n",
      "  • rmg_rxn_15702.sdf → found types ['r1h', 'r2h']\n",
      "  • rmg_rxn_15703.sdf → found types ['r1h', 'r2h']\n",
      "  • rmg_rxn_15707.sdf → found types ['r1h', 'r2h']\n",
      "  • rmg_rxn_15708.sdf → found types ['r1h', 'r2h']\n",
      "  • rmg_rxn_15709.sdf → found types ['r1h', 'r2h']\n",
      "  • rmg_rxn_15710.sdf → found types ['r1h', 'r2h']\n",
      "  • rmg_rxn_15711.sdf → found types ['r1h', 'r2h']\n",
      "  • rmg_rxn_15713.sdf → found types ['r1h', 'r2h']\n",
      "  • rmg_rxn_15714.sdf → found types ['r1h', 'r2h']\n",
      "  • rmg_rxn_15715.sdf → found types ['r1h', 'r2h']\n",
      "  • rmg_rxn_15716.sdf → found types ['r1h', 'r2h']\n",
      "  • rmg_rxn_15719.sdf → found types ['r1h', 'r2h']\n",
      "  • rmg_rxn_15722.sdf → found types ['r1h', 'r2h']\n",
      "  • rmg_rxn_15723.sdf → found types ['r1h', 'r2h']\n",
      "  • rmg_rxn_15724.sdf → found types ['r1h', 'r2h']\n",
      "  • rmg_rxn_15725.sdf → found types ['r1h', 'r2h']\n",
      "  • rmg_rxn_15728.sdf → found types ['r1h', 'r2h']\n",
      "  • rmg_rxn_15729.sdf → found types ['r1h', 'r2h']\n",
      "  • rmg_rxn_15734.sdf → found types ['r1h', 'r2h']\n",
      "  • rmg_rxn_158.sdf → found types ['r1h', 'r2h']\n",
      "  • rmg_rxn_159.sdf → found types ['r1h', 'r2h']\n",
      "  • rmg_rxn_16.sdf → found types ['r1h', 'r2h']\n",
      "  • rmg_rxn_16460.sdf → found types ['r1h', 'r2h']\n",
      "  • rmg_rxn_16461.sdf → found types ['r1h', 'r2h']\n",
      "  • rmg_rxn_16462.sdf → found types ['r1h', 'r2h']\n",
      "  • rmg_rxn_16463.sdf → found types ['r1h', 'r2h']\n",
      "  • rmg_rxn_16464.sdf → found types ['r1h', 'r2h']\n",
      "  • rmg_rxn_16466.sdf → found types ['r1h', 'r2h']\n",
      "  • rmg_rxn_16467.sdf → found types ['r1h', 'r2h']\n",
      "  • rmg_rxn_16468.sdf → found types ['r1h', 'r2h']\n",
      "  • rmg_rxn_16469.sdf → found types ['r1h', 'r2h']\n",
      "  • rmg_rxn_16470.sdf → found types ['r1h', 'r2h']\n",
      "  • rmg_rxn_16472.sdf → found types ['r1h', 'r2h']\n",
      "  • rmg_rxn_16473.sdf → found types ['r1h', 'r2h']\n",
      "  • rmg_rxn_16474.sdf → found types ['r1h', 'r2h']\n",
      "  • rmg_rxn_16480.sdf → found types ['r1h', 'r2h']\n",
      "  • rmg_rxn_16484.sdf → found types ['r1h', 'r2h']\n",
      "  • rmg_rxn_16489.sdf → found types ['r1h', 'r2h']\n",
      "  • rmg_rxn_16491.sdf → found types ['r1h', 'r2h']\n",
      "  • rmg_rxn_16493.sdf → found types ['r1h', 'r2h']\n",
      "  • rmg_rxn_16496.sdf → found types ['r1h', 'r2h']\n",
      "  • rmg_rxn_16497.sdf → found types ['r1h', 'r2h']\n",
      "  • rmg_rxn_16498.sdf → found types ['r1h', 'r2h']\n",
      "  • rmg_rxn_165.sdf → found types ['r1h', 'r2h']\n",
      "  • rmg_rxn_16501.sdf → found types ['r1h', 'r2h']\n",
      "  • rmg_rxn_16502.sdf → found types ['r1h', 'r2h']\n",
      "  • rmg_rxn_16504.sdf → found types ['r1h', 'r2h']\n",
      "  • rmg_rxn_16505.sdf → found types ['r1h', 'r2h']\n",
      "  • rmg_rxn_16506.sdf → found types ['r1h', 'r2h']\n",
      "  • rmg_rxn_16507.sdf → found types ['r1h', 'r2h']\n",
      "  • rmg_rxn_16511.sdf → found types ['r1h', 'r2h']\n",
      "  • rmg_rxn_16513.sdf → found types ['r1h', 'r2h']\n",
      "  • rmg_rxn_16514.sdf → found types ['r1h', 'r2h']\n",
      "  • rmg_rxn_16515.sdf → found types ['r1h', 'r2h']\n",
      "  • rmg_rxn_16521.sdf → found types ['r1h', 'r2h']\n",
      "  • rmg_rxn_16522.sdf → found types ['r1h', 'r2h']\n",
      "  • rmg_rxn_16523.sdf → found types ['r1h', 'r2h']\n",
      "  • rmg_rxn_16524.sdf → found types ['r1h', 'r2h']\n",
      "  • rmg_rxn_16525.sdf → found types ['r1h', 'r2h']\n",
      "  • rmg_rxn_16527.sdf → found types ['r1h', 'r2h']\n",
      "  • rmg_rxn_16528.sdf → found types ['r1h', 'r2h']\n",
      "  • rmg_rxn_16529.sdf → found types ['r1h', 'r2h']\n",
      "  • rmg_rxn_16531.sdf → found types ['r1h', 'r2h']\n",
      "  • rmg_rxn_16532.sdf → found types ['r1h', 'r2h']\n",
      "  • rmg_rxn_16533.sdf → found types ['r1h', 'r2h']\n",
      "  • rmg_rxn_16534.sdf → found types ['r1h', 'r2h']\n",
      "  • rmg_rxn_16547.sdf → found types ['r1h', 'r2h']\n",
      "  • rmg_rxn_16548.sdf → found types ['r1h', 'r2h']\n",
      "  • rmg_rxn_16555.sdf → found types ['r1h', 'r2h']\n",
      "  • rmg_rxn_16571.sdf → found types ['r1h', 'r2h']\n",
      "  • rmg_rxn_16575.sdf → found types ['r1h', 'r2h']\n",
      "  • rmg_rxn_16585.sdf → found types ['r1h', 'r2h']\n",
      "  • rmg_rxn_16597.sdf → found types ['r1h', 'r2h']\n",
      "  • rmg_rxn_16609.sdf → found types ['r1h', 'r2h']\n",
      "  • rmg_rxn_16613.sdf → found types ['r1h', 'r2h']\n",
      "  • rmg_rxn_16633.sdf → found types ['r1h', 'r2h']\n",
      "  • rmg_rxn_16639.sdf → found types ['r1h', 'r2h']\n",
      "  • rmg_rxn_16640.sdf → found types ['r1h', 'r2h']\n",
      "  • rmg_rxn_16643.sdf → found types ['r1h', 'r2h']\n",
      "  • rmg_rxn_16646.sdf → found types ['r1h', 'r2h']\n",
      "  • rmg_rxn_16647.sdf → found types ['r1h', 'r2h']\n",
      "  • rmg_rxn_16648.sdf → found types ['r1h', 'r2h']\n",
      "  • rmg_rxn_16649.sdf → found types ['r1h', 'r2h']\n",
      "  • rmg_rxn_16653.sdf → found types ['r1h', 'r2h']\n",
      "  • rmg_rxn_16654.sdf → found types ['r1h', 'r2h']\n",
      "  • rmg_rxn_16672.sdf → found types ['r1h', 'r2h']\n",
      "  • rmg_rxn_16689.sdf → found types ['r1h', 'r2h']\n",
      "  • rmg_rxn_16690.sdf → found types ['r1h', 'r2h']\n",
      "  • rmg_rxn_16700.sdf → found types ['r1h', 'r2h']\n",
      "  • rmg_rxn_16705.sdf → found types ['r1h', 'r2h']\n",
      "  • rmg_rxn_16706.sdf → found types ['r1h', 'r2h']\n",
      "  • rmg_rxn_16713.sdf → found types ['r1h', 'r2h']\n",
      "  • rmg_rxn_16714.sdf → found types ['r1h', 'r2h']\n",
      "  • rmg_rxn_16719.sdf → found types ['r1h', 'r2h']\n",
      "  • rmg_rxn_16731.sdf → found types ['r1h', 'r2h']\n",
      "  • rmg_rxn_16735.sdf → found types ['r1h', 'r2h']\n",
      "  • rmg_rxn_16738.sdf → found types ['r1h', 'r2h']\n",
      "  • rmg_rxn_16741.sdf → found types ['r1h', 'r2h']\n",
      "  • rmg_rxn_16743.sdf → found types ['r1h', 'r2h']\n",
      "  • rmg_rxn_16751.sdf → found types ['r1h', 'r2h']\n",
      "  • rmg_rxn_16755.sdf → found types ['r1h', 'r2h']\n",
      "  • rmg_rxn_16765.sdf → found types ['r1h', 'r2h']\n",
      "  • rmg_rxn_16771.sdf → found types ['r1h', 'r2h']\n",
      "  • rmg_rxn_16772.sdf → found types ['r1h', 'r2h']\n",
      "  • rmg_rxn_16773.sdf → found types ['r1h', 'r2h']\n",
      "  • rmg_rxn_16774.sdf → found types ['r1h', 'r2h']\n",
      "  • rmg_rxn_16776.sdf → found types ['r1h', 'r2h']\n",
      "  • rmg_rxn_16785.sdf → found types ['r1h', 'r2h']\n",
      "    – skipping rmg_rxn_16785.sdf: RXN 'rmg_rxn_16785' not in CSV\n",
      "  • rmg_rxn_16786.sdf → found types ['r1h', 'r2h']\n",
      "    – skipping rmg_rxn_16786.sdf: RXN 'rmg_rxn_16786' not in CSV\n",
      "  • rmg_rxn_16791.sdf → found types ['r1h', 'r2h']\n",
      "  • rmg_rxn_16796.sdf → found types ['r1h', 'r2h']\n",
      "  • rmg_rxn_16799.sdf → found types ['r1h', 'r2h']\n",
      "  • rmg_rxn_16800.sdf → found types ['r1h', 'r2h']\n",
      "  • rmg_rxn_16802.sdf → found types ['r1h', 'r2h']\n",
      "  • rmg_rxn_16803.sdf → found types ['r1h', 'r2h']\n",
      "  • rmg_rxn_16804.sdf → found types ['r1h', 'r2h']\n",
      "  • rmg_rxn_16806.sdf → found types ['r1h', 'r2h']\n",
      "  • rmg_rxn_16807.sdf → found types ['r1h', 'r2h']\n",
      "  • rmg_rxn_16808.sdf → found types ['r1h', 'r2h']\n",
      "  • rmg_rxn_169.sdf → found types ['r1h', 'r2h']\n",
      "  • rmg_rxn_171.sdf → found types ['r1h', 'r2h']\n",
      "  • rmg_rxn_172.sdf → found types ['r1h', 'r2h']\n",
      "  • rmg_rxn_173.sdf → found types ['r1h', 'r2h']\n",
      "  • rmg_rxn_174.sdf → found types ['r1h', 'r2h']\n",
      "  • rmg_rxn_175.sdf → found types ['r1h', 'r2h']\n",
      "  • rmg_rxn_176.sdf → found types ['r1h', 'r2h']\n",
      "  • rmg_rxn_177.sdf → found types ['r1h', 'r2h']\n",
      "  • rmg_rxn_178.sdf → found types ['r1h', 'r2h']\n",
      "  • rmg_rxn_179.sdf → found types ['r1h', 'r2h']\n",
      "  • rmg_rxn_180.sdf → found types ['r1h', 'r2h']\n",
      "  • rmg_rxn_182.sdf → found types ['r1h', 'r2h']\n",
      "  • rmg_rxn_183.sdf → found types ['r1h', 'r2h']\n",
      "  • rmg_rxn_187.sdf → found types ['r1h', 'r2h']\n",
      "  • rmg_rxn_188.sdf → found types ['r1h', 'r2h']\n",
      "  • rmg_rxn_189.sdf → found types ['r1h', 'r2h']\n",
      "  • rmg_rxn_19.sdf → found types ['r1h', 'r2h']\n",
      "  • rmg_rxn_190.sdf → found types ['r1h', 'r2h']\n",
      "  • rmg_rxn_191.sdf → found types ['r1h', 'r2h']\n",
      "  • rmg_rxn_192.sdf → found types ['r1h', 'r2h']\n",
      "  • rmg_rxn_193.sdf → found types ['r1h', 'r2h']\n",
      "  • rmg_rxn_194.sdf → found types ['r1h', 'r2h']\n",
      "  • rmg_rxn_195.sdf → found types ['r1h', 'r2h']\n",
      "  • rmg_rxn_196.sdf → found types ['r1h', 'r2h']\n",
      "  • rmg_rxn_197.sdf → found types ['r1h', 'r2h']\n",
      "  • rmg_rxn_198.sdf → found types ['r1h', 'r2h']\n",
      "  • rmg_rxn_1988.sdf → found types ['r1h', 'r2h']\n",
      "  • rmg_rxn_199.sdf → found types ['r1h', 'r2h']\n",
      "  • rmg_rxn_2.sdf → found types ['r1h', 'r2h']\n",
      "  • rmg_rxn_20.sdf → found types ['r1h', 'r2h']\n",
      "  • rmg_rxn_201.sdf → found types ['r1h', 'r2h']\n",
      "  • rmg_rxn_205.sdf → found types ['r1h', 'r2h']\n",
      "  • rmg_rxn_206.sdf → found types ['r1h', 'r2h']\n",
      "  • rmg_rxn_207.sdf → found types ['r1h', 'r2h']\n",
      "  • rmg_rxn_208.sdf → found types ['r1h', 'r2h']\n",
      "  • rmg_rxn_209.sdf → found types ['r1h', 'r2h']\n",
      "  • rmg_rxn_21.sdf → found types ['r1h', 'r2h']\n",
      "  • rmg_rxn_212.sdf → found types ['r1h', 'r2h']\n",
      "  • rmg_rxn_213.sdf → found types ['r1h', 'r2h']\n",
      "  • rmg_rxn_214.sdf → found types ['r1h', 'r2h']\n",
      "  • rmg_rxn_215.sdf → found types ['r1h', 'r2h']\n",
      "  • rmg_rxn_216.sdf → found types ['r1h', 'r2h']\n",
      "  • rmg_rxn_217.sdf → found types ['r1h', 'r2h']\n",
      "  • rmg_rxn_218.sdf → found types ['r1h', 'r2h']\n",
      "  • rmg_rxn_219.sdf → found types ['r1h', 'r2h']\n",
      "  • rmg_rxn_22.sdf → found types ['r1h', 'r2h']\n",
      "  • rmg_rxn_220.sdf → found types ['r1h', 'r2h']\n",
      "  • rmg_rxn_224.sdf → found types ['r1h', 'r2h']\n",
      "  • rmg_rxn_225.sdf → found types ['r1h', 'r2h']\n",
      "  • rmg_rxn_226.sdf → found types ['r1h', 'r2h']\n",
      "  • rmg_rxn_227.sdf → found types ['r1h', 'r2h']\n",
      "  • rmg_rxn_229.sdf → found types ['r1h', 'r2h']\n",
      "  • rmg_rxn_23.sdf → found types ['r1h', 'r2h']\n",
      "  • rmg_rxn_230.sdf → found types ['r1h', 'r2h']\n",
      "  • rmg_rxn_232.sdf → found types ['r1h', 'r2h']\n",
      "  • rmg_rxn_233.sdf → found types ['r1h', 'r2h']\n",
      "  • rmg_rxn_234.sdf → found types ['r1h', 'r2h']\n",
      "  • rmg_rxn_235.sdf → found types ['r1h', 'r2h']\n",
      "  • rmg_rxn_236.sdf → found types ['r1h', 'r2h']\n",
      "  • rmg_rxn_237.sdf → found types ['r1h', 'r2h']\n",
      "  • rmg_rxn_238.sdf → found types ['r1h', 'r2h']\n",
      "  • rmg_rxn_239.sdf → found types ['r1h', 'r2h']\n",
      "  • rmg_rxn_24.sdf → found types ['r1h', 'r2h']\n",
      "  • rmg_rxn_240.sdf → found types ['r1h', 'r2h']\n",
      "  • rmg_rxn_244.sdf → found types ['r1h', 'r2h']\n",
      "  • rmg_rxn_245.sdf → found types ['r1h', 'r2h']\n",
      "  • rmg_rxn_246.sdf → found types ['r1h', 'r2h']\n",
      "  • rmg_rxn_247.sdf → found types ['r1h', 'r2h']\n",
      "  • rmg_rxn_248.sdf → found types ['r1h', 'r2h']\n",
      "  • rmg_rxn_251.sdf → found types ['r1h', 'r2h']\n",
      "  • rmg_rxn_252.sdf → found types ['r1h', 'r2h']\n",
      "  • rmg_rxn_253.sdf → found types ['r1h', 'r2h']\n",
      "  • rmg_rxn_254.sdf → found types ['r1h', 'r2h']\n",
      "  • rmg_rxn_255.sdf → found types ['r1h', 'r2h']\n",
      "  • rmg_rxn_256.sdf → found types ['r1h', 'r2h']\n",
      "  • rmg_rxn_257.sdf → found types ['r1h', 'r2h']\n",
      "  • rmg_rxn_258.sdf → found types ['r1h', 'r2h']\n",
      "  • rmg_rxn_259.sdf → found types ['r1h', 'r2h']\n",
      "  • rmg_rxn_26.sdf → found types ['r1h', 'r2h']\n",
      "  • rmg_rxn_260.sdf → found types ['r1h', 'r2h']\n",
      "  • rmg_rxn_265.sdf → found types ['r1h', 'r2h']\n",
      "  • rmg_rxn_266.sdf → found types ['r1h', 'r2h']\n",
      "  • rmg_rxn_267.sdf → found types ['r1h', 'r2h']\n",
      "  • rmg_rxn_268.sdf → found types ['r1h', 'r2h']\n",
      "  • rmg_rxn_269.sdf → found types ['r1h', 'r2h']\n",
      "  • rmg_rxn_27.sdf → found types ['r1h', 'r2h']\n",
      "  • rmg_rxn_270.sdf → found types ['r1h', 'r2h']\n",
      "  • rmg_rxn_271.sdf → found types ['r1h', 'r2h']\n",
      "  • rmg_rxn_272.sdf → found types ['r1h', 'r2h']\n",
      "  • rmg_rxn_273.sdf → found types ['r1h', 'r2h']\n",
      "  • rmg_rxn_275.sdf → found types ['r1h', 'r2h']\n",
      "  • rmg_rxn_276.sdf → found types ['r1h', 'r2h']\n",
      "  • rmg_rxn_277.sdf → found types ['r1h', 'r2h']\n",
      "  • rmg_rxn_278.sdf → found types ['r1h', 'r2h']\n",
      "  • rmg_rxn_279.sdf → found types ['r1h', 'r2h']\n",
      "  • rmg_rxn_28.sdf → found types ['r1h', 'r2h']\n",
      "  • rmg_rxn_280.sdf → found types ['r1h', 'r2h']\n",
      "  • rmg_rxn_287.sdf → found types ['r1h', 'r2h']\n",
      "  • rmg_rxn_288.sdf → found types ['r1h', 'r2h']\n",
      "  • rmg_rxn_289.sdf → found types ['r1h', 'r2h']\n",
      "  • rmg_rxn_29.sdf → found types ['r1h', 'r2h']\n",
      "  • rmg_rxn_290.sdf → found types ['r1h', 'r2h']\n",
      "  • rmg_rxn_291.sdf → found types ['r1h', 'r2h']\n",
      "  • rmg_rxn_292.sdf → found types ['r1h', 'r2h']\n",
      "  • rmg_rxn_293.sdf → found types ['r1h', 'r2h']\n",
      "  • rmg_rxn_296.sdf → found types ['r1h', 'r2h']\n",
      "  • rmg_rxn_3.sdf → found types ['r1h', 'r2h']\n",
      "  • rmg_rxn_30.sdf → found types ['r1h', 'r2h']\n",
      "  • rmg_rxn_300.sdf → found types ['r1h', 'r2h']\n",
      "  • rmg_rxn_301.sdf → found types ['r1h', 'r2h']\n",
      "  • rmg_rxn_302.sdf → found types ['r1h', 'r2h']\n",
      "  • rmg_rxn_303.sdf → found types ['r1h', 'r2h']\n",
      "  • rmg_rxn_304.sdf → found types ['r1h', 'r2h']\n",
      "  • rmg_rxn_306.sdf → found types ['r1h', 'r2h']\n",
      "  • rmg_rxn_307.sdf → found types ['r1h', 'r2h']\n",
      "  • rmg_rxn_31.sdf → found types ['r1h', 'r2h']\n",
      "  • rmg_rxn_311.sdf → found types ['r1h', 'r2h']\n",
      "  • rmg_rxn_312.sdf → found types ['r1h', 'r2h']\n",
      "  • rmg_rxn_313.sdf → found types ['r1h', 'r2h']\n",
      "  • rmg_rxn_314.sdf → found types ['r1h', 'r2h']\n",
      "  • rmg_rxn_316.sdf → found types ['r1h', 'r2h']\n",
      "  • rmg_rxn_317.sdf → found types ['r1h', 'r2h']\n",
      "  • rmg_rxn_319.sdf → found types ['r1h', 'r2h']\n",
      "  • rmg_rxn_320.sdf → found types ['r1h', 'r2h']\n",
      "  • rmg_rxn_321.sdf → found types ['r1h', 'r2h']\n",
      "  • rmg_rxn_323.sdf → found types ['r1h', 'r2h']\n",
      "  • rmg_rxn_324.sdf → found types ['r1h', 'r2h']\n",
      "  • rmg_rxn_326.sdf → found types ['r1h', 'r2h']\n",
      "  • rmg_rxn_33.sdf → found types ['r1h', 'r2h']\n",
      "  • rmg_rxn_335.sdf → found types ['r1h', 'r2h']\n",
      "  • rmg_rxn_336.sdf → found types ['r1h', 'r2h']\n",
      "  • rmg_rxn_337.sdf → found types ['r1h', 'r2h']\n",
      "  • rmg_rxn_338.sdf → found types ['r1h', 'r2h']\n",
      "  • rmg_rxn_339.sdf → found types ['r1h', 'r2h']\n",
      "  • rmg_rxn_34.sdf → found types ['r1h', 'r2h']\n",
      "  • rmg_rxn_340.sdf → found types ['r1h', 'r2h']\n",
      "  • rmg_rxn_341.sdf → found types ['r1h', 'r2h']\n",
      "  • rmg_rxn_342.sdf → found types ['r1h', 'r2h']\n",
      "  • rmg_rxn_343.sdf → found types ['r1h', 'r2h']\n",
      "  • rmg_rxn_344.sdf → found types ['r1h', 'r2h']\n",
      "  • rmg_rxn_345.sdf → found types ['r1h', 'r2h']\n",
      "  • rmg_rxn_346.sdf → found types ['r1h', 'r2h']\n",
      "  • rmg_rxn_347.sdf → found types ['r1h', 'r2h']\n",
      "  • rmg_rxn_348.sdf → found types ['r1h', 'r2h']\n",
      "  • rmg_rxn_349.sdf → found types ['r1h', 'r2h']\n",
      "  • rmg_rxn_35.sdf → found types ['r1h', 'r2h']\n",
      "  • rmg_rxn_350.sdf → found types ['r1h', 'r2h']\n",
      "  • rmg_rxn_351.sdf → found types ['r1h', 'r2h']\n",
      "  • rmg_rxn_352.sdf → found types ['r1h', 'r2h']\n",
      "  • rmg_rxn_354.sdf → found types ['r1h', 'r2h']\n",
      "  • rmg_rxn_355.sdf → found types ['r1h', 'r2h']\n",
      "  • rmg_rxn_356.sdf → found types ['r1h', 'r2h']\n",
      "  • rmg_rxn_357.sdf → found types ['r1h', 'r2h']\n",
      "  • rmg_rxn_36.sdf → found types ['r1h', 'r2h']\n",
      "  • rmg_rxn_364.sdf → found types ['r1h', 'r2h']\n",
      "  • rmg_rxn_368.sdf → found types ['r1h', 'r2h']\n",
      "  • rmg_rxn_37.sdf → found types ['r1h', 'r2h']\n",
      "  • rmg_rxn_370.sdf → found types ['r1h', 'r2h']\n",
      "  • rmg_rxn_371.sdf → found types ['r1h', 'r2h']\n",
      "  • rmg_rxn_374.sdf → found types ['r1h', 'r2h']\n",
      "  • rmg_rxn_376.sdf → found types ['r1h', 'r2h']\n",
      "  • rmg_rxn_377.sdf → found types ['r1h', 'r2h']\n",
      "  • rmg_rxn_379.sdf → found types ['r1h', 'r2h']\n",
      "  • rmg_rxn_381.sdf → found types ['r1h', 'r2h']\n",
      "  • rmg_rxn_382.sdf → found types ['r1h', 'r2h']\n",
      "  • rmg_rxn_383.sdf → found types ['r1h', 'r2h']\n",
      "  • rmg_rxn_384.sdf → found types ['r1h', 'r2h']\n",
      "  • rmg_rxn_387.sdf → found types ['r1h', 'r2h']\n",
      "  • rmg_rxn_388.sdf → found types ['r1h', 'r2h']\n",
      "  • rmg_rxn_39.sdf → found types ['r1h', 'r2h']\n",
      "  • rmg_rxn_390.sdf → found types ['r1h', 'r2h']\n",
      "  • rmg_rxn_391.sdf → found types ['r1h', 'r2h']\n",
      "  • rmg_rxn_392.sdf → found types ['r1h', 'r2h']\n",
      "  • rmg_rxn_394.sdf → found types ['r1h', 'r2h']\n",
      "  • rmg_rxn_395.sdf → found types ['r1h', 'r2h']\n",
      "  • rmg_rxn_396.sdf → found types ['r1h', 'r2h']\n",
      "  • rmg_rxn_4.sdf → found types ['r1h', 'r2h']\n",
      "  • rmg_rxn_40.sdf → found types ['r1h', 'r2h']\n",
      "  • rmg_rxn_41.sdf → found types ['r1h', 'r2h']\n",
      "  • rmg_rxn_417.sdf → found types ['r1h', 'r2h']\n",
      "  • rmg_rxn_42.sdf → found types ['r1h', 'r2h']\n",
      "  • rmg_rxn_43.sdf → found types ['r1h', 'r2h']\n",
      "  • rmg_rxn_44.sdf → found types ['r1h', 'r2h']\n",
      "  • rmg_rxn_45.sdf → found types ['r1h', 'r2h']\n",
      "  • rmg_rxn_46.sdf → found types ['r1h', 'r2h']\n",
      "  • rmg_rxn_47.sdf → found types ['r1h', 'r2h']\n",
      "  • rmg_rxn_48.sdf → found types ['r1h', 'r2h']\n",
      "  • rmg_rxn_49.sdf → found types ['r1h', 'r2h']\n",
      "  • rmg_rxn_498.sdf → found types ['r1h', 'r2h']\n",
      "  • rmg_rxn_499.sdf → found types ['r1h', 'r2h']\n",
      "  • rmg_rxn_50.sdf → found types ['r1h', 'r2h']\n",
      "  • rmg_rxn_500.sdf → found types ['r1h', 'r2h']\n",
      "  • rmg_rxn_501.sdf → found types ['r1h', 'r2h']\n",
      "  • rmg_rxn_504.sdf → found types ['r1h', 'r2h']\n",
      "  • rmg_rxn_505.sdf → found types ['r1h', 'r2h']\n",
      "  • rmg_rxn_506.sdf → found types ['r1h', 'r2h']\n",
      "  • rmg_rxn_507.sdf → found types ['r1h', 'r2h']\n",
      "  • rmg_rxn_508.sdf → found types ['r1h', 'r2h']\n",
      "  • rmg_rxn_509.sdf → found types ['r1h', 'r2h']\n",
      "  • rmg_rxn_51.sdf → found types ['r1h', 'r2h']\n",
      "  • rmg_rxn_511.sdf → found types ['r1h', 'r2h']\n",
      "  • rmg_rxn_512.sdf → found types ['r1h', 'r2h']\n",
      "  • rmg_rxn_513.sdf → found types ['r1h', 'r2h']\n",
      "  • rmg_rxn_519.sdf → found types ['r1h', 'r2h']\n",
      "  • rmg_rxn_52.sdf → found types ['r1h', 'r2h']\n",
      "  • rmg_rxn_520.sdf → found types ['r1h', 'r2h']\n",
      "  • rmg_rxn_521.sdf → found types ['r1h', 'r2h']\n",
      "  • rmg_rxn_522.sdf → found types ['r1h', 'r2h']\n",
      "  • rmg_rxn_523.sdf → found types ['r1h', 'r2h']\n",
      "  • rmg_rxn_524.sdf → found types ['r1h', 'r2h']\n",
      "  • rmg_rxn_525.sdf → found types ['r1h', 'r2h']\n",
      "  • rmg_rxn_526.sdf → found types ['r1h', 'r2h']\n",
      "  • rmg_rxn_527.sdf → found types ['r1h', 'r2h']\n",
      "  • rmg_rxn_528.sdf → found types ['r1h', 'r2h']\n",
      "  • rmg_rxn_529.sdf → found types ['r1h', 'r2h']\n",
      "  • rmg_rxn_53.sdf → found types ['r1h', 'r2h']\n",
      "  • rmg_rxn_530.sdf → found types ['r1h', 'r2h']\n",
      "  • rmg_rxn_531.sdf → found types ['r1h', 'r2h']\n",
      "  • rmg_rxn_539.sdf → found types ['r1h', 'r2h']\n",
      "  • rmg_rxn_54.sdf → found types ['r1h', 'r2h']\n",
      "  • rmg_rxn_541.sdf → found types ['r1h', 'r2h']\n",
      "  • rmg_rxn_543.sdf → found types ['r1h', 'r2h']\n",
      "  • rmg_rxn_545.sdf → found types ['r1h', 'r2h']\n",
      "  • rmg_rxn_55.sdf → found types ['r1h', 'r2h']\n",
      "  • rmg_rxn_550.sdf → found types ['r1h', 'r2h']\n",
      "  • rmg_rxn_56.sdf → found types ['r1h', 'r2h']\n",
      "  • rmg_rxn_57.sdf → found types ['r1h', 'r2h']\n",
      "  • rmg_rxn_58.sdf → found types ['r1h', 'r2h']\n",
      "  • rmg_rxn_586.sdf → found types ['r1h', 'r2h']\n",
      "  • rmg_rxn_587.sdf → found types ['r1h', 'r2h']\n",
      "  • rmg_rxn_588.sdf → found types ['r1h', 'r2h']\n",
      "  • rmg_rxn_59.sdf → found types ['r1h', 'r2h']\n",
      "  • rmg_rxn_590.sdf → found types ['r1h', 'r2h']\n",
      "  • rmg_rxn_591.sdf → found types ['r1h', 'r2h']\n",
      "  • rmg_rxn_592.sdf → found types ['r1h', 'r2h']\n",
      "  • rmg_rxn_596.sdf → found types ['r1h', 'r2h']\n",
      "  • rmg_rxn_599.sdf → found types ['r1h', 'r2h']\n",
      "  • rmg_rxn_6.sdf → found types ['r1h', 'r2h']\n",
      "  • rmg_rxn_60.sdf → found types ['r1h', 'r2h']\n",
      "  • rmg_rxn_600.sdf → found types ['r1h', 'r2h']\n",
      "  • rmg_rxn_605.sdf → found types ['r1h', 'r2h']\n",
      "  • rmg_rxn_606.sdf → found types ['r1h', 'r2h']\n",
      "  • rmg_rxn_61.sdf → found types ['r1h', 'r2h']\n",
      "  • rmg_rxn_610.sdf → found types ['r1h', 'r2h']\n",
      "  • rmg_rxn_611.sdf → found types ['r1h', 'r2h']\n",
      "  • rmg_rxn_614.sdf → found types ['r1h', 'r2h']\n",
      "  • rmg_rxn_618.sdf → found types ['r1h', 'r2h']\n",
      "  • rmg_rxn_62.sdf → found types ['r1h', 'r2h']\n",
      "  • rmg_rxn_628.sdf → found types ['r1h', 'r2h']\n",
      "  • rmg_rxn_629.sdf → found types ['r1h', 'r2h']\n",
      "  • rmg_rxn_63.sdf → found types ['r1h', 'r2h']\n",
      "  • rmg_rxn_630.sdf → found types ['r1h', 'r2h']\n",
      "  • rmg_rxn_632.sdf → found types ['r1h', 'r2h']\n",
      "  • rmg_rxn_633.sdf → found types ['r1h', 'r2h']\n",
      "  • rmg_rxn_634.sdf → found types ['r1h', 'r2h']\n",
      "  • rmg_rxn_635.sdf → found types ['r1h', 'r2h']\n",
      "  • rmg_rxn_638.sdf → found types ['r1h', 'r2h']\n",
      "  • rmg_rxn_64.sdf → found types ['r1h', 'r2h']\n",
      "  • rmg_rxn_640.sdf → found types ['r1h', 'r2h']\n",
      "  • rmg_rxn_642.sdf → found types ['r1h', 'r2h']\n",
      "  • rmg_rxn_645.sdf → found types ['r1h', 'r2h']\n",
      "  • rmg_rxn_646.sdf → found types ['r1h', 'r2h']\n",
      "  • rmg_rxn_647.sdf → found types ['r1h', 'r2h']\n",
      "  • rmg_rxn_648.sdf → found types ['r1h', 'r2h']\n",
      "  • rmg_rxn_65.sdf → found types ['r1h', 'r2h']\n",
      "  • rmg_rxn_652.sdf → found types ['r1h', 'r2h']\n",
      "  • rmg_rxn_653.sdf → found types ['r1h', 'r2h']\n",
      "  • rmg_rxn_657.sdf → found types ['r1h', 'r2h']\n",
      "  • rmg_rxn_658.sdf → found types ['r1h', 'r2h']\n",
      "  • rmg_rxn_659.sdf → found types ['r1h', 'r2h']\n",
      "  • rmg_rxn_660.sdf → found types ['r1h', 'r2h']\n",
      "  • rmg_rxn_661.sdf → found types ['r1h', 'r2h']\n",
      "  • rmg_rxn_662.sdf → found types ['r1h', 'r2h']\n",
      "  • rmg_rxn_663.sdf → found types ['r1h', 'r2h']\n",
      "  • rmg_rxn_664.sdf → found types ['r1h', 'r2h']\n",
      "  • rmg_rxn_665.sdf → found types ['r1h', 'r2h']\n",
      "  • rmg_rxn_666.sdf → found types ['r1h', 'r2h']\n",
      "  • rmg_rxn_668.sdf → found types ['r1h', 'r2h']\n",
      "  • rmg_rxn_669.sdf → found types ['r1h', 'r2h']\n",
      "  • rmg_rxn_670.sdf → found types ['r1h', 'r2h']\n",
      "  • rmg_rxn_671.sdf → found types ['r1h', 'r2h']\n",
      "  • rmg_rxn_675.sdf → found types ['r1h', 'r2h']\n",
      "  • rmg_rxn_676.sdf → found types ['r1h', 'r2h']\n",
      "  • rmg_rxn_677.sdf → found types ['r1h', 'r2h']\n",
      "  • rmg_rxn_678.sdf → found types ['r1h', 'r2h']\n",
      "  • rmg_rxn_681.sdf → found types ['r1h', 'r2h']\n",
      "  • rmg_rxn_682.sdf → found types ['r1h', 'r2h']\n",
      "  • rmg_rxn_683.sdf → found types ['r1h', 'r2h']\n",
      "  • rmg_rxn_688.sdf → found types ['r1h', 'r2h']\n",
      "  • rmg_rxn_689.sdf → found types ['r1h', 'r2h']\n",
      "  • rmg_rxn_691.sdf → found types ['r1h', 'r2h']\n",
      "  • rmg_rxn_7.sdf → found types ['r1h', 'r2h']\n",
      "  • rmg_rxn_76.sdf → found types ['r1h', 'r2h']\n",
      "  • rmg_rxn_760.sdf → found types ['r1h', 'r2h']\n",
      "  • rmg_rxn_8.sdf → found types ['r1h', 'r2h']\n",
      "  • rmg_rxn_81.sdf → found types ['r1h', 'r2h']\n",
      "  • rmg_rxn_83.sdf → found types ['r1h', 'r2h']\n",
      "  • rmg_rxn_85.sdf → found types ['r1h', 'r2h']\n",
      "  • rmg_rxn_86.sdf → found types ['r1h', 'r2h']\n",
      "  • rmg_rxn_87.sdf → found types ['r1h', 'r2h']\n",
      "  • rmg_rxn_89.sdf → found types ['r1h', 'r2h']\n",
      "  • rmg_rxn_94.sdf → found types ['r1h', 'r2h']\n",
      "  • rmg_rxn_96.sdf → found types ['r1h', 'r2h']\n",
      "  • rmg_rxn_97.sdf → found types ['r1h', 'r2h']\n",
      "  • rmg_rxn_98.sdf → found types ['r1h', 'r2h']\n",
      "  • rxn_1.sdf → found types ['r1h', 'r2h']\n",
      "  • rxn_10.sdf → found types ['r1h', 'r2h']\n",
      "  • rxn_100.sdf → found types ['r1h', 'r2h']\n",
      "  • rxn_1000.sdf → found types ['r1h', 'r2h']\n",
      "  • rxn_1001.sdf → found types ['r1h', 'r2h']\n",
      "  • rxn_1003.sdf → found types ['r1h', 'r2h']\n",
      "  • rxn_1005.sdf → found types ['r1h', 'r2h']\n",
      "  • rxn_1006.sdf → found types ['r1h', 'r2h']\n",
      "  • rxn_1007.sdf → found types ['r1h', 'r2h']\n",
      "  • rxn_1008.sdf → found types ['r1h', 'r2h']\n",
      "  • rxn_1009.sdf → found types ['r1h', 'r2h']\n",
      "  • rxn_101.sdf → found types ['r1h', 'r2h']\n",
      "  • rxn_1011.sdf → found types ['r1h', 'r2h']\n",
      "  • rxn_1012.sdf → found types ['r1h', 'r2h']\n",
      "  • rxn_1014.sdf → found types ['r1h', 'r2h']\n",
      "  • rxn_1015.sdf → found types ['r1h', 'r2h']\n",
      "  • rxn_1016.sdf → found types ['r1h', 'r2h']\n",
      "  • rxn_1017.sdf → found types ['r1h', 'r2h']\n",
      "  • rxn_1018.sdf → found types ['r1h', 'r2h']\n",
      "  • rxn_1019.sdf → found types ['r1h', 'r2h']\n",
      "  • rxn_102.sdf → found types ['r1h', 'r2h']\n",
      "  • rxn_1020.sdf → found types ['r1h', 'r2h']\n",
      "  • rxn_1023.sdf → found types ['r1h', 'r2h']\n",
      "  • rxn_1026.sdf → found types ['r1h', 'r2h']\n",
      "  • rxn_1027.sdf → found types ['r1h', 'r2h']\n",
      "  • rxn_1028.sdf → found types ['r1h', 'r2h']\n",
      "  • rxn_1029.sdf → found types ['r1h', 'r2h']\n",
      "  • rxn_103.sdf → found types ['r1h', 'r2h']\n",
      "  • rxn_1030.sdf → found types ['r1h', 'r2h']\n",
      "  • rxn_1031.sdf → found types ['r1h', 'r2h']\n",
      "  • rxn_1036.sdf → found types ['r1h', 'r2h']\n",
      "  • rxn_1037.sdf → found types ['r1h', 'r2h']\n",
      "  • rxn_1039.sdf → found types ['r1h', 'r2h']\n",
      "  • rxn_104.sdf → found types ['r1h', 'r2h']\n",
      "  • rxn_1040.sdf → found types ['r1h', 'r2h']\n",
      "  • rxn_1043.sdf → found types ['r1h', 'r2h']\n",
      "  • rxn_1044.sdf → found types ['r1h', 'r2h']\n",
      "  • rxn_1045.sdf → found types ['r1h', 'r2h']\n",
      "  • rxn_1047.sdf → found types ['r1h', 'r2h']\n",
      "  • rxn_1048.sdf → found types ['r1h', 'r2h']\n",
      "  • rxn_1049.sdf → found types ['r1h', 'r2h']\n",
      "  • rxn_105.sdf → found types ['r1h', 'r2h']\n",
      "  • rxn_1050.sdf → found types ['r1h', 'r2h']\n",
      "  • rxn_1052.sdf → found types ['r1h', 'r2h']\n",
      "  • rxn_1053.sdf → found types ['r1h', 'r2h']\n",
      "  • rxn_1054.sdf → found types ['r1h', 'r2h']\n",
      "  • rxn_1055.sdf → found types ['r1h', 'r2h']\n",
      "  • rxn_1056.sdf → found types ['r1h', 'r2h']\n",
      "  • rxn_1058.sdf → found types ['r1h', 'r2h']\n",
      "  • rxn_1059.sdf → found types ['r1h', 'r2h']\n",
      "  • rxn_106.sdf → found types ['r1h', 'r2h']\n",
      "  • rxn_1060.sdf → found types ['r1h', 'r2h']\n",
      "  • rxn_1061.sdf → found types ['r1h', 'r2h']\n",
      "  • rxn_1062.sdf → found types ['r1h', 'r2h']\n",
      "  • rxn_1063.sdf → found types ['r1h', 'r2h']\n",
      "  • rxn_1067.sdf → found types ['r1h', 'r2h']\n",
      "  • rxn_1069.sdf → found types ['r1h', 'r2h']\n",
      "  • rxn_107.sdf → found types ['r1h', 'r2h']\n",
      "  • rxn_1070.sdf → found types ['r1h', 'r2h']\n",
      "  • rxn_1071.sdf → found types ['r1h', 'r2h']\n",
      "  • rxn_1072.sdf → found types ['r1h', 'r2h']\n",
      "  • rxn_1077.sdf → found types ['r1h', 'r2h']\n",
      "  • rxn_1078.sdf → found types ['r1h', 'r2h']\n",
      "  • rxn_1079.sdf → found types ['r1h', 'r2h']\n",
      "  • rxn_108.sdf → found types ['r1h', 'r2h']\n",
      "  • rxn_1082.sdf → found types ['r1h', 'r2h']\n",
      "  • rxn_1083.sdf → found types ['r1h', 'r2h']\n",
      "  • rxn_1085.sdf → found types ['r1h', 'r2h']\n",
      "  • rxn_1087.sdf → found types ['r1h', 'r2h']\n",
      "  • rxn_1088.sdf → found types ['r1h', 'r2h']\n",
      "  • rxn_1089.sdf → found types ['r1h', 'r2h']\n",
      "  • rxn_1091.sdf → found types ['r1h', 'r2h']\n",
      "  • rxn_1092.sdf → found types ['r1h', 'r2h']\n",
      "  • rxn_1093.sdf → found types ['r1h', 'r2h']\n",
      "  • rxn_1095.sdf → found types ['r1h', 'r2h']\n",
      "  • rxn_1099.sdf → found types ['r1h', 'r2h']\n",
      "  • rxn_110.sdf → found types ['r1h', 'r2h']\n",
      "  • rxn_1103.sdf → found types ['r1h', 'r2h']\n",
      "  • rxn_1104.sdf → found types ['r1h', 'r2h']\n",
      "  • rxn_1105.sdf → found types ['r1h', 'r2h']\n",
      "  • rxn_1106.sdf → found types ['r1h', 'r2h']\n",
      "  • rxn_111.sdf → found types ['r1h', 'r2h']\n",
      "    – skipping rxn_111.sdf: RXN 'rxn_111' not in CSV\n",
      "  • rxn_1110.sdf → found types ['r1h', 'r2h']\n",
      "  • rxn_1111.sdf → found types ['r1h', 'r2h']\n",
      "  • rxn_1113.sdf → found types ['r1h', 'r2h']\n",
      "  • rxn_1114.sdf → found types ['r1h', 'r2h']\n",
      "  • rxn_1116.sdf → found types ['r1h', 'r2h']\n",
      "  • rxn_112.sdf → found types ['r1h', 'r2h']\n",
      "    – skipping rxn_112.sdf: RXN 'rxn_112' not in CSV\n",
      "  • rxn_1121.sdf → found types ['r1h', 'r2h']\n",
      "  • rxn_1122.sdf → found types ['r1h', 'r2h']\n",
      "  • rxn_1124.sdf → found types ['r1h', 'r2h']\n",
      "  • rxn_1125.sdf → found types ['r1h', 'r2h']\n",
      "    – skipping rxn_1125.sdf: RXN 'rxn_1125' not in CSV\n",
      "  • rxn_1126.sdf → found types ['r1h', 'r2h']\n",
      "  • rxn_1128.sdf → found types ['r1h', 'r2h']\n",
      "  • rxn_113.sdf → found types ['r1h', 'r2h']\n",
      "    – skipping rxn_113.sdf: RXN 'rxn_113' not in CSV\n",
      "  • rxn_1131.sdf → found types ['r1h', 'r2h']\n",
      "  • rxn_1133.sdf → found types ['r1h', 'r2h']\n",
      "  • rxn_1135.sdf → found types ['r1h', 'r2h']\n",
      "  • rxn_1136.sdf → found types ['r1h', 'r2h']\n",
      "  • rxn_1138.sdf → found types ['r1h', 'r2h']\n",
      "  • rxn_114.sdf → found types ['r1h', 'r2h']\n",
      "  • rxn_1140.sdf → found types ['r1h', 'r2h']\n",
      "  • rxn_1143.sdf → found types ['r1h', 'r2h']\n",
      "  • rxn_1144.sdf → found types ['r1h', 'r2h']\n",
      "  • rxn_1146.sdf → found types ['r1h', 'r2h']\n",
      "  • rxn_1149.sdf → found types ['r1h', 'r2h']\n",
      "  • rxn_115.sdf → found types ['r1h', 'r2h']\n",
      "  • rxn_1151.sdf → found types ['r1h', 'r2h']\n",
      "  • rxn_1152.sdf → found types ['r1h', 'r2h']\n",
      "  • rxn_1155.sdf → found types ['r1h', 'r2h']\n",
      "  • rxn_1156.sdf → found types ['r1h', 'r2h']\n",
      "  • rxn_1157.sdf → found types ['r1h', 'r2h']\n",
      "  • rxn_1158.sdf → found types ['r1h', 'r2h']\n",
      "  • rxn_1159.sdf → found types ['r1h', 'r2h']\n",
      "  • rxn_116.sdf → found types ['r1h', 'r2h']\n",
      "  • rxn_1165.sdf → found types ['r1h', 'r2h']\n",
      "  • rxn_1166.sdf → found types ['r1h', 'r2h']\n",
      "  • rxn_1169.sdf → found types ['r1h', 'r2h']\n",
      "    – skipping rxn_1169.sdf: RXN 'rxn_1169' not in CSV\n",
      "  • rxn_117.sdf → found types ['r1h', 'r2h']\n",
      "  • rxn_1170.sdf → found types ['r1h', 'r2h']\n",
      "  • rxn_1172.sdf → found types ['r1h', 'r2h']\n",
      "  • rxn_1175.sdf → found types ['r1h', 'r2h']\n",
      "  • rxn_1176.sdf → found types ['r1h', 'r2h']\n",
      "  • rxn_1177.sdf → found types ['r1h', 'r2h']\n",
      "  • rxn_1179.sdf → found types ['r1h', 'r2h']\n",
      "  • rxn_118.sdf → found types ['r1h', 'r2h']\n",
      "  • rxn_1180.sdf → found types ['r1h', 'r2h']\n",
      "  • rxn_1181.sdf → found types ['r1h', 'r2h']\n",
      "  • rxn_1182.sdf → found types ['r1h', 'r2h']\n",
      "  • rxn_1183.sdf → found types ['r1h', 'r2h']\n",
      "  • rxn_1184.sdf → found types ['r1h', 'r2h']\n",
      "  • rxn_1185.sdf → found types ['r1h', 'r2h']\n",
      "  • rxn_1187.sdf → found types ['r1h', 'r2h']\n",
      "  • rxn_1188.sdf → found types ['r1h', 'r2h']\n",
      "  • rxn_119.sdf → found types ['r1h', 'r2h']\n",
      "  • rxn_1190.sdf → found types ['r1h', 'r2h']\n",
      "  • rxn_1191.sdf → found types ['r1h', 'r2h']\n",
      "  • rxn_1192.sdf → found types ['r1h', 'r2h']\n",
      "  • rxn_1194.sdf → found types ['r1h', 'r2h']\n",
      "  • rxn_1195.sdf → found types ['r1h', 'r2h']\n",
      "  • rxn_1196.sdf → found types ['r1h', 'r2h']\n",
      "  • rxn_1198.sdf → found types ['r1h', 'r2h']\n",
      "  • rxn_1200.sdf → found types ['r1h', 'r2h']\n",
      "  • rxn_1201.sdf → found types ['r1h', 'r2h']\n",
      "  • rxn_1202.sdf → found types ['r1h', 'r2h']\n",
      "  • rxn_1203.sdf → found types ['r1h', 'r2h']\n",
      "  • rxn_1204.sdf → found types ['r1h', 'r2h']\n",
      "  • rxn_1205.sdf → found types ['r1h', 'r2h']\n",
      "  • rxn_1209.sdf → found types ['r1h', 'r2h']\n",
      "  • rxn_1210.sdf → found types ['r1h', 'r2h']\n",
      "  • rxn_1211.sdf → found types ['r1h', 'r2h']\n",
      "  • rxn_1213.sdf → found types ['r1h', 'r2h']\n",
      "    – skipping rxn_1213.sdf: RXN 'rxn_1213' not in CSV\n",
      "  • rxn_1214.sdf → found types ['r1h', 'r2h']\n",
      "  • rxn_1215.sdf → found types ['r1h', 'r2h']\n",
      "  • rxn_1216.sdf → found types ['r1h', 'r2h']\n",
      "  • rxn_1217.sdf → found types ['r1h', 'r2h']\n",
      "  • rxn_1219.sdf → found types ['r1h', 'r2h']\n",
      "  • rxn_1220.sdf → found types ['r1h', 'r2h']\n",
      "  • rxn_1221.sdf → found types ['r1h', 'r2h']\n",
      "  • rxn_1222.sdf → found types ['r1h', 'r2h']\n",
      "  • rxn_1223.sdf → found types ['r1h', 'r2h']\n",
      "  • rxn_1224.sdf → found types ['r1h', 'r2h']\n",
      "  • rxn_1225.sdf → found types ['r1h', 'r2h']\n",
      "  • rxn_1227.sdf → found types ['r1h', 'r2h']\n",
      "  • rxn_1228.sdf → found types ['r1h', 'r2h']\n",
      "  • rxn_1229.sdf → found types ['r1h', 'r2h']\n",
      "  • rxn_1230.sdf → found types ['r1h', 'r2h']\n",
      "  • rxn_1231.sdf → found types ['r1h', 'r2h']\n",
      "  • rxn_1232.sdf → found types ['r1h', 'r2h']\n",
      "  • rxn_1233.sdf → found types ['r1h', 'r2h']\n",
      "  • rxn_1234.sdf → found types ['r1h', 'r2h']\n",
      "  • rxn_1235.sdf → found types ['r1h', 'r2h']\n",
      "  • rxn_1236.sdf → found types ['r1h', 'r2h']\n",
      "  • rxn_1237.sdf → found types ['r1h', 'r2h']\n",
      "  • rxn_1238.sdf → found types ['r1h', 'r2h']\n",
      "  • rxn_1239.sdf → found types ['r1h', 'r2h']\n",
      "  • rxn_124.sdf → found types ['r1h', 'r2h']\n",
      "  • rxn_1240.sdf → found types ['r1h', 'r2h']\n",
      "  • rxn_1242.sdf → found types ['r1h', 'r2h']\n",
      "  • rxn_1243.sdf → found types ['r1h', 'r2h']\n",
      "  • rxn_1245.sdf → found types ['r1h', 'r2h']\n",
      "  • rxn_1246.sdf → found types ['r1h', 'r2h']\n",
      "  • rxn_1247.sdf → found types ['r1h', 'r2h']\n",
      "  • rxn_1248.sdf → found types ['r1h', 'r2h']\n",
      "  • rxn_1249.sdf → found types ['r1h', 'r2h']\n",
      "  • rxn_125.sdf → found types ['r1h', 'r2h']\n",
      "  • rxn_1253.sdf → found types ['r1h', 'r2h']\n",
      "  • rxn_1254.sdf → found types ['r1h', 'r2h']\n",
      "  • rxn_1255.sdf → found types ['r1h', 'r2h']\n",
      "  • rxn_1256.sdf → found types ['r1h', 'r2h']\n",
      "  • rxn_1257.sdf → found types ['r1h', 'r2h']\n",
      "    – skipping rxn_1257.sdf: RXN 'rxn_1257' not in CSV\n",
      "  • rxn_1258.sdf → found types ['r1h', 'r2h']\n",
      "  • rxn_1259.sdf → found types ['r1h', 'r2h']\n",
      "  • rxn_126.sdf → found types ['r1h', 'r2h']\n",
      "    – skipping rxn_126.sdf: RXN 'rxn_126' not in CSV\n",
      "  • rxn_1260.sdf → found types ['r1h', 'r2h']\n",
      "  • rxn_1263.sdf → found types ['r1h', 'r2h']\n",
      "  • rxn_1264.sdf → found types ['r1h', 'r2h']\n",
      "  • rxn_1265.sdf → found types ['r1h', 'r2h']\n",
      "  • rxn_1266.sdf → found types ['r1h', 'r2h']\n",
      "  • rxn_1268.sdf → found types ['r1h', 'r2h']\n",
      "  • rxn_1269.sdf → found types ['r1h', 'r2h']\n",
      "  • rxn_127.sdf → found types ['r1h', 'r2h']\n",
      "    – skipping rxn_127.sdf: RXN 'rxn_127' not in CSV\n",
      "  • rxn_1270.sdf → found types ['r1h', 'r2h']\n",
      "  • rxn_1271.sdf → found types ['r1h', 'r2h']\n",
      "  • rxn_1272.sdf → found types ['r1h', 'r2h']\n",
      "  • rxn_1273.sdf → found types ['r1h', 'r2h']\n",
      "  • rxn_1274.sdf → found types ['r1h', 'r2h']\n",
      "  • rxn_1275.sdf → found types ['r1h', 'r2h']\n",
      "  • rxn_1276.sdf → found types ['r1h', 'r2h']\n",
      "  • rxn_1278.sdf → found types ['r1h', 'r2h']\n",
      "  • rxn_1279.sdf → found types ['r1h', 'r2h']\n",
      "  • rxn_128.sdf → found types ['r1h', 'r2h']\n",
      "  • rxn_1280.sdf → found types ['r1h', 'r2h']\n",
      "  • rxn_1281.sdf → found types ['r1h', 'r2h']\n",
      "  • rxn_1282.sdf → found types ['r1h', 'r2h']\n",
      "  • rxn_1283.sdf → found types ['r1h', 'r2h']\n",
      "  • rxn_1284.sdf → found types ['r1h', 'r2h']\n",
      "  • rxn_1286.sdf → found types ['r1h', 'r2h']\n",
      "  • rxn_1287.sdf → found types ['r1h', 'r2h']\n",
      "  • rxn_1288.sdf → found types ['r1h', 'r2h']\n",
      "  • rxn_129.sdf → found types ['r1h', 'r2h']\n",
      "  • rxn_1290.sdf → found types ['r1h', 'r2h']\n",
      "  • rxn_1292.sdf → found types ['r1h', 'r2h']\n",
      "  • rxn_1293.sdf → found types ['r1h', 'r2h']\n",
      "  • rxn_1297.sdf → found types ['r1h', 'r2h']\n",
      "  • rxn_1298.sdf → found types ['r1h', 'r2h']\n",
      "  • rxn_1299.sdf → found types ['r1h', 'r2h']\n",
      "  • rxn_13.sdf → found types ['r1h', 'r2h']\n",
      "  • rxn_1301.sdf → found types ['r1h', 'r2h']\n",
      "    – skipping rxn_1301.sdf: RXN 'rxn_1301' not in CSV\n",
      "  • rxn_1302.sdf → found types ['r1h', 'r2h']\n",
      "  • rxn_1303.sdf → found types ['r1h', 'r2h']\n",
      "  • rxn_1304.sdf → found types ['r1h', 'r2h']\n",
      "  • rxn_1308.sdf → found types ['r1h', 'r2h']\n",
      "  • rxn_1309.sdf → found types ['r1h', 'r2h']\n",
      "  • rxn_131.sdf → found types ['r1h', 'r2h']\n",
      "    – skipping rxn_131.sdf: RXN 'rxn_131' not in CSV\n",
      "  • rxn_1310.sdf → found types ['r1h', 'r2h']\n",
      "  • rxn_1314.sdf → found types ['r1h', 'r2h']\n",
      "  • rxn_1316.sdf → found types ['r1h', 'r2h']\n",
      "  • rxn_1317.sdf → found types ['r1h', 'r2h']\n",
      "  • rxn_1318.sdf → found types ['r1h', 'r2h']\n",
      "  • rxn_1319.sdf → found types ['r1h', 'r2h']\n",
      "  • rxn_132.sdf → found types ['r1h', 'r2h']\n",
      "  • rxn_1320.sdf → found types ['r1h', 'r2h']\n",
      "  • rxn_1322.sdf → found types ['r1h', 'r2h']\n",
      "  • rxn_1323.sdf → found types ['r1h', 'r2h']\n",
      "  • rxn_1324.sdf → found types ['r1h', 'r2h']\n",
      "  • rxn_1325.sdf → found types ['r1h', 'r2h']\n",
      "  • rxn_1326.sdf → found types ['r1h', 'r2h']\n",
      "  • rxn_1327.sdf → found types ['r1h', 'r2h']\n",
      "  • rxn_1328.sdf → found types ['r1h', 'r2h']\n",
      "  • rxn_133.sdf → found types ['r1h', 'r2h']\n",
      "  • rxn_1330.sdf → found types ['r1h', 'r2h']\n",
      "  • rxn_1331.sdf → found types ['r1h', 'r2h']\n",
      "  • rxn_1332.sdf → found types ['r1h', 'r2h']\n",
      "  • rxn_1333.sdf → found types ['r1h', 'r2h']\n",
      "  • rxn_1336.sdf → found types ['r1h', 'r2h']\n",
      "  • rxn_1337.sdf → found types ['r1h', 'r2h']\n",
      "  • rxn_1341.sdf → found types ['r1h', 'r2h']\n",
      "  • rxn_1342.sdf → found types ['r1h', 'r2h']\n",
      "  • rxn_1346.sdf → found types ['r1h', 'r2h']\n",
      "  • rxn_1347.sdf → found types ['r1h', 'r2h']\n",
      "  • rxn_1348.sdf → found types ['r1h', 'r2h']\n",
      "  • rxn_1349.sdf → found types ['r1h', 'r2h']\n",
      "  • rxn_135.sdf → found types ['r1h', 'r2h']\n",
      "  • rxn_1351.sdf → found types ['r1h', 'r2h']\n",
      "  • rxn_1352.sdf → found types ['r1h', 'r2h']\n",
      "  • rxn_1353.sdf → found types ['r1h', 'r2h']\n",
      "  • rxn_1354.sdf → found types ['r1h', 'r2h']\n",
      "  • rxn_1356.sdf → found types ['r1h', 'r2h']\n",
      "  • rxn_1357.sdf → found types ['r1h', 'r2h']\n",
      "  • rxn_1358.sdf → found types ['r1h', 'r2h']\n",
      "  • rxn_1359.sdf → found types ['r1h', 'r2h']\n",
      "  • rxn_1360.sdf → found types ['r1h', 'r2h']\n",
      "  • rxn_1361.sdf → found types ['r1h', 'r2h']\n",
      "  • rxn_1362.sdf → found types ['r1h', 'r2h']\n",
      "  • rxn_1363.sdf → found types ['r1h', 'r2h']\n",
      "  • rxn_1364.sdf → found types ['r1h', 'r2h']\n",
      "  • rxn_1366.sdf → found types ['r1h', 'r2h']\n",
      "  • rxn_1367.sdf → found types ['r1h', 'r2h']\n",
      "  • rxn_1368.sdf → found types ['r1h', 'r2h']\n",
      "  • rxn_1369.sdf → found types ['r1h', 'r2h']\n",
      "  • rxn_1370.sdf → found types ['r1h', 'r2h']\n",
      "  • rxn_1371.sdf → found types ['r1h', 'r2h']\n",
      "  • rxn_1372.sdf → found types ['r1h', 'r2h']\n",
      "  • rxn_1374.sdf → found types ['r1h', 'r2h']\n",
      "  • rxn_1375.sdf → found types ['r1h', 'r2h']\n",
      "  • rxn_1376.sdf → found types ['r1h', 'r2h']\n",
      "  • rxn_1377.sdf → found types ['r1h', 'r2h']\n",
      "  • rxn_1378.sdf → found types ['r1h', 'r2h']\n",
      "  • rxn_1380.sdf → found types ['r1h', 'r2h']\n",
      "  • rxn_1381.sdf → found types ['r1h', 'r2h']\n",
      "  • rxn_1386.sdf → found types ['r1h', 'r2h']\n",
      "  • rxn_1387.sdf → found types ['r1h', 'r2h']\n",
      "  • rxn_1389.sdf → found types ['r1h', 'r2h']\n",
      "    – skipping rxn_1389.sdf: RXN 'rxn_1389' not in CSV\n",
      "  • rxn_139.sdf → found types ['r1h', 'r2h']\n",
      "  • rxn_1391.sdf → found types ['r1h', 'r2h']\n",
      "  • rxn_1392.sdf → found types ['r1h', 'r2h']\n",
      "  • rxn_1395.sdf → found types ['r1h', 'r2h']\n",
      "  • rxn_1396.sdf → found types ['r1h', 'r2h']\n",
      "  • rxn_1397.sdf → found types ['r1h', 'r2h']\n",
      "  • rxn_1398.sdf → found types ['r1h', 'r2h']\n",
      "  • rxn_1400.sdf → found types ['r1h', 'r2h']\n",
      "  • rxn_1401.sdf → found types ['r1h', 'r2h']\n",
      "  • rxn_1402.sdf → found types ['r1h', 'r2h']\n",
      "  • rxn_1403.sdf → found types ['r1h', 'r2h']\n",
      "  • rxn_1404.sdf → found types ['r1h', 'r2h']\n",
      "  • rxn_1405.sdf → found types ['r1h', 'r2h']\n",
      "  • rxn_1408.sdf → found types ['r1h', 'r2h']\n",
      "  • rxn_1410.sdf → found types ['r1h', 'r2h']\n",
      "  • rxn_1411.sdf → found types ['r1h', 'r2h']\n",
      "  • rxn_1412.sdf → found types ['r1h', 'r2h']\n",
      "  • rxn_1413.sdf → found types ['r1h', 'r2h']\n",
      "  • rxn_1414.sdf → found types ['r1h', 'r2h']\n",
      "  • rxn_1415.sdf → found types ['r1h', 'r2h']\n",
      "  • rxn_1416.sdf → found types ['r1h', 'r2h']\n",
      "  • rxn_1418.sdf → found types ['r1h', 'r2h']\n",
      "  • rxn_1419.sdf → found types ['r1h', 'r2h']\n",
      "  • rxn_1420.sdf → found types ['r1h', 'r2h']\n",
      "  • rxn_1421.sdf → found types ['r1h', 'r2h']\n",
      "  • rxn_1422.sdf → found types ['r1h', 'r2h']\n",
      "  • rxn_1423.sdf → found types ['r1h', 'r2h']\n",
      "  • rxn_1425.sdf → found types ['r1h', 'r2h']\n",
      "  • rxn_1429.sdf → found types ['r1h', 'r2h']\n",
      "  • rxn_143.sdf → found types ['r1h', 'r2h']\n",
      "  • rxn_1430.sdf → found types ['r1h', 'r2h']\n",
      "  • rxn_1431.sdf → found types ['r1h', 'r2h']\n",
      "  • rxn_1433.sdf → found types ['r1h', 'r2h']\n",
      "    – skipping rxn_1433.sdf: RXN 'rxn_1433' not in CSV\n",
      "  • rxn_1434.sdf → found types ['r1h', 'r2h']\n",
      "  • rxn_1435.sdf → found types ['r1h', 'r2h']\n",
      "  • rxn_1436.sdf → found types ['r1h', 'r2h']\n",
      "  • rxn_1438.sdf → found types ['r1h', 'r2h']\n",
      "  • rxn_1439.sdf → found types ['r1h', 'r2h']\n",
      "  • rxn_144.sdf → found types ['r1h', 'r2h']\n",
      "    – skipping rxn_144.sdf: RXN 'rxn_144' not in CSV\n",
      "  • rxn_1440.sdf → found types ['r1h', 'r2h']\n",
      "  • rxn_1441.sdf → found types ['r1h', 'r2h']\n",
      "  • rxn_1444.sdf → found types ['r1h', 'r2h']\n",
      "  • rxn_1446.sdf → found types ['r1h', 'r2h']\n",
      "  • rxn_1447.sdf → found types ['r1h', 'r2h']\n",
      "  • rxn_1450.sdf → found types ['r1h', 'r2h']\n",
      "  • rxn_1451.sdf → found types ['r1h', 'r2h']\n",
      "  • rxn_1452.sdf → found types ['r1h', 'r2h']\n",
      "  • rxn_1453.sdf → found types ['r1h', 'r2h']\n",
      "  • rxn_1454.sdf → found types ['r1h', 'r2h']\n",
      "  • rxn_1455.sdf → found types ['r1h', 'r2h']\n",
      "  • rxn_1458.sdf → found types ['r1h', 'r2h']\n",
      "  • rxn_146.sdf → found types ['r1h', 'r2h']\n",
      "    – skipping rxn_146.sdf: RXN 'rxn_146' not in CSV\n",
      "  • rxn_1462.sdf → found types ['r1h', 'r2h']\n",
      "  • rxn_1463.sdf → found types ['r1h', 'r2h']\n",
      "  • rxn_1464.sdf → found types ['r1h', 'r2h']\n",
      "  • rxn_1465.sdf → found types ['r1h', 'r2h']\n",
      "  • rxn_1467.sdf → found types ['r1h', 'r2h']\n",
      "  • rxn_1468.sdf → found types ['r1h', 'r2h']\n",
      "  • rxn_147.sdf → found types ['r1h', 'r2h']\n",
      "  • rxn_1476.sdf → found types ['r1h', 'r2h']\n",
      "  • rxn_1477.sdf → found types ['r1h', 'r2h']\n",
      "    – skipping rxn_1477.sdf: RXN 'rxn_1477' not in CSV\n",
      "  • rxn_1478.sdf → found types ['r1h', 'r2h']\n",
      "  • rxn_1479.sdf → found types ['r1h', 'r2h']\n",
      "  • rxn_1480.sdf → found types ['r1h', 'r2h']\n",
      "  • rxn_1485.sdf → found types ['r1h', 'r2h']\n",
      "  • rxn_1486.sdf → found types ['r1h', 'r2h']\n",
      "  • rxn_1488.sdf → found types ['r1h', 'r2h']\n",
      "  • rxn_1489.sdf → found types ['r1h', 'r2h']\n",
      "  • rxn_149.sdf → found types ['r1h', 'r2h']\n",
      "  • rxn_1490.sdf → found types ['r1h', 'r2h']\n",
      "  • rxn_1491.sdf → found types ['r1h', 'r2h']\n",
      "  • rxn_1492.sdf → found types ['r1h', 'r2h']\n",
      "  • rxn_1494.sdf → found types ['r1h', 'r2h']\n",
      "  • rxn_1495.sdf → found types ['r1h', 'r2h']\n",
      "  • rxn_1496.sdf → found types ['r1h', 'r2h']\n",
      "  • rxn_1498.sdf → found types ['r1h', 'r2h']\n",
      "  • rxn_1499.sdf → found types ['r1h', 'r2h']\n",
      "  • rxn_15.sdf → found types ['r1h', 'r2h']\n",
      "  • rxn_1500.sdf → found types ['r1h', 'r2h']\n",
      "  • rxn_1501.sdf → found types ['r1h', 'r2h']\n",
      "  • rxn_1502.sdf → found types ['r1h', 'r2h']\n",
      "  • rxn_1503.sdf → found types ['r1h', 'r2h']\n",
      "  • rxn_1504.sdf → found types ['r1h', 'r2h']\n",
      "  • rxn_1506.sdf → found types ['r1h', 'r2h']\n",
      "  • rxn_1507.sdf → found types ['r1h', 'r2h']\n",
      "  • rxn_1508.sdf → found types ['r1h', 'r2h']\n",
      "  • rxn_151.sdf → found types ['r1h', 'r2h']\n",
      "  • rxn_1510.sdf → found types ['r1h', 'r2h']\n",
      "  • rxn_1511.sdf → found types ['r1h', 'r2h']\n",
      "  • rxn_1512.sdf → found types ['r1h', 'r2h']\n",
      "  • rxn_1517.sdf → found types ['r1h', 'r2h']\n",
      "  • rxn_1523.sdf → found types ['r1h', 'r2h']\n",
      "  • rxn_1525.sdf → found types ['r1h', 'r2h']\n",
      "  • rxn_1529.sdf → found types ['r1h', 'r2h']\n",
      "  • rxn_153.sdf → found types ['r1h', 'r2h']\n",
      "  • rxn_1547.sdf → found types ['r1h', 'r2h']\n",
      "  • rxn_155.sdf → found types ['r1h', 'r2h']\n",
      "  • rxn_1555.sdf → found types ['r1h', 'r2h']\n",
      "  • rxn_1561.sdf → found types ['r1h', 'r2h']\n",
      "  • rxn_1581.sdf → found types ['r1h', 'r2h']\n",
      "  • rxn_1586.sdf → found types ['r1h', 'r2h']\n",
      "  • rxn_1587.sdf → found types ['r1h', 'r2h']\n",
      "  • rxn_1588.sdf → found types ['r1h', 'r2h']\n",
      "  • rxn_1589.sdf → found types ['r1h', 'r2h']\n",
      "  • rxn_1592.sdf → found types ['r1h', 'r2h']\n",
      "  • rxn_1593.sdf → found types ['r1h', 'r2h']\n",
      "  • rxn_1594.sdf → found types ['r1h', 'r2h']\n",
      "  • rxn_1595.sdf → found types ['r1h', 'r2h']\n",
      "  • rxn_1598.sdf → found types ['r1h', 'r2h']\n",
      "  • rxn_1599.sdf → found types ['r1h', 'r2h']\n",
      "  • rxn_16.sdf → found types ['r1h', 'r2h']\n",
      "  • rxn_1603.sdf → found types ['r1h', 'r2h']\n",
      "  • rxn_1604.sdf → found types ['r1h', 'r2h']\n",
      "  • rxn_1605.sdf → found types ['r1h', 'r2h']\n",
      "  • rxn_1606.sdf → found types ['r1h', 'r2h']\n",
      "  • rxn_1607.sdf → found types ['r1h', 'r2h']\n",
      "  • rxn_1609.sdf → found types ['r1h', 'r2h']\n",
      "  • rxn_161.sdf → found types ['r1h', 'r2h']\n",
      "  • rxn_1614.sdf → found types ['r1h', 'r2h']\n",
      "  • rxn_1615.sdf → found types ['r1h', 'r2h']\n",
      "  • rxn_1616.sdf → found types ['r1h', 'r2h']\n",
      "  • rxn_1619.sdf → found types ['r1h', 'r2h']\n",
      "  • rxn_1620.sdf → found types ['r1h', 'r2h']\n",
      "  • rxn_1621.sdf → found types ['r1h', 'r2h']\n",
      "  • rxn_1622.sdf → found types ['r1h', 'r2h']\n",
      "  • rxn_1623.sdf → found types ['r1h', 'r2h']\n",
      "  • rxn_1624.sdf → found types ['r1h', 'r2h']\n",
      "  • rxn_1625.sdf → found types ['r1h', 'r2h']\n",
      "  • rxn_1626.sdf → found types ['r1h', 'r2h']\n",
      "  • rxn_1627.sdf → found types ['r1h', 'r2h']\n",
      "  • rxn_1630.sdf → found types ['r1h', 'r2h']\n",
      "  • rxn_1631.sdf → found types ['r1h', 'r2h']\n",
      "  • rxn_1632.sdf → found types ['r1h', 'r2h']\n",
      "  • rxn_1633.sdf → found types ['r1h', 'r2h']\n",
      "  • rxn_1636.sdf → found types ['r1h', 'r2h']\n",
      "  • rxn_1641.sdf → found types ['r1h', 'r2h']\n",
      "  • rxn_1644.sdf → found types ['r1h', 'r2h']\n",
      "  • rxn_1647.sdf → found types ['r1h', 'r2h']\n",
      "  • rxn_1648.sdf → found types ['r1h', 'r2h']\n",
      "  • rxn_1649.sdf → found types ['r1h', 'r2h']\n",
      "  • rxn_1652.sdf → found types ['r1h', 'r2h']\n",
      "  • rxn_1653.sdf → found types ['r1h', 'r2h']\n",
      "  • rxn_1654.sdf → found types ['r1h', 'r2h']\n",
      "  • rxn_1655.sdf → found types ['r1h', 'r2h']\n",
      "  • rxn_1657.sdf → found types ['r1h', 'r2h']\n",
      "  • rxn_1658.sdf → found types ['r1h', 'r2h']\n",
      "  • rxn_166.sdf → found types ['r1h', 'r2h']\n",
      "  • rxn_1660.sdf → found types ['r1h', 'r2h']\n",
      "  • rxn_1661.sdf → found types ['r1h', 'r2h']\n",
      "  • rxn_1663.sdf → found types ['r1h', 'r2h']\n",
      "  • rxn_1664.sdf → found types ['r1h', 'r2h']\n",
      "  • rxn_1665.sdf → found types ['r1h', 'r2h']\n",
      "  • rxn_1666.sdf → found types ['r1h', 'r2h']\n",
      "  • rxn_1667.sdf → found types ['r1h', 'r2h']\n",
      "  • rxn_1668.sdf → found types ['r1h', 'r2h']\n",
      "  • rxn_1669.sdf → found types ['r1h', 'r2h']\n",
      "  • rxn_1670.sdf → found types ['r1h', 'r2h']\n",
      "  • rxn_1671.sdf → found types ['r1h', 'r2h']\n",
      "  • rxn_168.sdf → found types ['r1h', 'r2h']\n",
      "    – skipping rxn_168.sdf: RXN 'rxn_168' not in CSV\n",
      "  • rxn_1683.sdf → found types ['r1h', 'r2h']\n",
      "  • rxn_170.sdf → found types ['r1h', 'r2h']\n",
      "    – skipping rxn_170.sdf: RXN 'rxn_170' not in CSV\n",
      "  • rxn_174.sdf → found types ['r1h', 'r2h']\n",
      "  • rxn_175.sdf → found types ['r1h', 'r2h']\n",
      "  • rxn_176.sdf → found types ['r1h', 'r2h']\n",
      "  • rxn_178.sdf → found types ['r1h', 'r2h']\n",
      "  • rxn_1786.sdf → found types ['r1h', 'r2h']\n",
      "  • rxn_1787.sdf → found types ['r1h', 'r2h']\n",
      "  • rxn_1789.sdf → found types ['r1h', 'r2h']\n",
      "  • rxn_179.sdf → found types ['r1h', 'r2h']\n",
      "  • rxn_1791.sdf → found types ['r1h', 'r2h']\n",
      "  • rxn_1792.sdf → found types ['r1h', 'r2h']\n",
      "  • rxn_1793.sdf → found types ['r1h', 'r2h']\n",
      "  • rxn_1794.sdf → found types ['r1h', 'r2h']\n",
      "  • rxn_1795.sdf → found types ['r1h', 'r2h']\n",
      "  • rxn_1796.sdf → found types ['r1h', 'r2h']\n",
      "  • rxn_1797.sdf → found types ['r1h', 'r2h']\n",
      "    – skipping rxn_1797.sdf: RXN 'rxn_1797' not in CSV\n",
      "  • rxn_1798.sdf → found types ['r1h', 'r2h']\n",
      "  • rxn_1799.sdf → found types ['r1h', 'r2h']\n",
      "  • rxn_18.sdf → found types ['r1h', 'r2h']\n",
      "  • rxn_180.sdf → found types ['r1h', 'r2h']\n",
      "  • rxn_1800.sdf → found types ['r1h', 'r2h']\n",
      "  • rxn_1801.sdf → found types ['r1h', 'r2h']\n",
      "  • rxn_1802.sdf → found types ['r1h', 'r2h']\n",
      "  • rxn_1803.sdf → found types ['r1h', 'r2h']\n",
      "  • rxn_1804.sdf → found types ['r1h', 'r2h']\n",
      "  • rxn_1805.sdf → found types ['r1h', 'r2h']\n",
      "  • rxn_1806.sdf → found types ['r1h', 'r2h']\n",
      "  • rxn_1808.sdf → found types ['r1h', 'r2h']\n",
      "  • rxn_1809.sdf → found types ['r1h', 'r2h']\n",
      "  • rxn_1810.sdf → found types ['r1h', 'r2h']\n",
      "  • rxn_1811.sdf → found types ['r1h', 'r2h']\n",
      "  • rxn_1812.sdf → found types ['r1h', 'r2h']\n",
      "  • rxn_1813.sdf → found types ['r1h', 'r2h']\n",
      "  • rxn_1814.sdf → found types ['r1h', 'r2h']\n",
      "  • rxn_1815.sdf → found types ['r1h', 'r2h']\n",
      "  • rxn_1816.sdf → found types ['r1h', 'r2h']\n",
      "  • rxn_1818.sdf → found types ['r1h', 'r2h']\n",
      "  • rxn_1819.sdf → found types ['r1h', 'r2h']\n",
      "  • rxn_182.sdf → found types ['r1h', 'r2h']\n",
      "    – skipping rxn_182.sdf: RXN 'rxn_182' not in CSV\n",
      "  • rxn_1820.sdf → found types ['r1h', 'r2h']\n",
      "  • rxn_1821.sdf → found types ['r1h', 'r2h']\n",
      "  • rxn_1822.sdf → found types ['r1h', 'r2h']\n",
      "  • rxn_1823.sdf → found types ['r1h', 'r2h']\n",
      "  • rxn_1824.sdf → found types ['r1h', 'r2h']\n",
      "  • rxn_1825.sdf → found types ['r1h', 'r2h']\n",
      "  • rxn_1826.sdf → found types ['r1h', 'r2h']\n",
      "  • rxn_1827.sdf → found types ['r1h', 'r2h']\n",
      "  • rxn_1829.sdf → found types ['r1h', 'r2h']\n",
      "  • rxn_183.sdf → found types ['r1h', 'r2h']\n",
      "    – skipping rxn_183.sdf: RXN 'rxn_183' not in CSV\n",
      "  • rxn_1832.sdf → found types ['r1h', 'r2h']\n",
      "  • rxn_1833.sdf → found types ['r1h', 'r2h']\n",
      "  • rxn_1834.sdf → found types ['r1h', 'r2h']\n",
      "  • rxn_1835.sdf → found types ['r1h', 'r2h']\n",
      "  • rxn_1836.sdf → found types ['r1h', 'r2h']\n",
      "  • rxn_1837.sdf → found types ['r1h', 'r2h']\n",
      "  • rxn_1838.sdf → found types ['r1h', 'r2h']\n",
      "  • rxn_1839.sdf → found types ['r1h', 'r2h']\n",
      "  • rxn_184.sdf → found types ['r1h', 'r2h']\n",
      "    – skipping rxn_184.sdf: RXN 'rxn_184' not in CSV\n",
      "  • rxn_1840.sdf → found types ['r1h', 'r2h']\n",
      "  • rxn_1842.sdf → found types ['r1h', 'r2h']\n",
      "    – skipping rxn_1842.sdf: RXN 'rxn_1842' not in CSV\n",
      "  • rxn_1843.sdf → found types ['r1h', 'r2h']\n",
      "  • rxn_1844.sdf → found types ['r1h', 'r2h']\n",
      "  • rxn_1845.sdf → found types ['r1h', 'r2h']\n",
      "  • rxn_1848.sdf → found types ['r1h', 'r2h']\n",
      "  • rxn_1849.sdf → found types ['r1h', 'r2h']\n",
      "  • rxn_185.sdf → found types ['r1h', 'r2h']\n",
      "    – skipping rxn_185.sdf: RXN 'rxn_185' not in CSV\n",
      "  • rxn_1850.sdf → found types ['r1h', 'r2h']\n",
      "  • rxn_1851.sdf → found types ['r1h', 'r2h']\n",
      "  • rxn_1854.sdf → found types ['r1h', 'r2h']\n",
      "  • rxn_1855.sdf → found types ['r1h', 'r2h']\n",
      "  • rxn_1857.sdf → found types ['r1h', 'r2h']\n",
      "  • rxn_1859.sdf → found types ['r1h', 'r2h']\n",
      "  • rxn_1860.sdf → found types ['r1h', 'r2h']\n",
      "  • rxn_1861.sdf → found types ['r1h', 'r2h']\n",
      "  • rxn_1862.sdf → found types ['r1h', 'r2h']\n",
      "  • rxn_1864.sdf → found types ['r1h', 'r2h']\n",
      "  • rxn_1865.sdf → found types ['r1h', 'r2h']\n",
      "  • rxn_1866.sdf → found types ['r1h', 'r2h']\n",
      "  • rxn_1867.sdf → found types ['r1h', 'r2h']\n",
      "  • rxn_1869.sdf → found types ['r1h', 'r2h']\n",
      "  • rxn_1874.sdf → found types ['r1h', 'r2h']\n",
      "  • rxn_1875.sdf → found types ['r1h', 'r2h']\n",
      "  • rxn_1876.sdf → found types ['r1h', 'r2h']\n",
      "  • rxn_1877.sdf → found types ['r1h', 'r2h']\n",
      "  • rxn_1879.sdf → found types ['r1h', 'r2h']\n",
      "  • rxn_188.sdf → found types ['r1h', 'r2h']\n",
      "  • rxn_1880.sdf → found types ['r1h', 'r2h']\n",
      "  • rxn_1881.sdf → found types ['r1h', 'r2h']\n",
      "  • rxn_1882.sdf → found types ['r1h', 'r2h']\n",
      "  • rxn_1883.sdf → found types ['r1h', 'r2h']\n",
      "  • rxn_1884.sdf → found types ['r1h', 'r2h']\n",
      "  • rxn_1886.sdf → found types ['r1h', 'r2h']\n",
      "  • rxn_1887.sdf → found types ['r1h', 'r2h']\n",
      "  • rxn_1888.sdf → found types ['r1h', 'r2h']\n",
      "  • rxn_1889.sdf → found types ['r1h', 'r2h']\n",
      "  • rxn_189.sdf → found types ['r1h', 'r2h']\n",
      "  • rxn_1890.sdf → found types ['r1h', 'r2h']\n",
      "  • rxn_1891.sdf → found types ['r1h', 'r2h']\n",
      "  • rxn_1892.sdf → found types ['r1h', 'r2h']\n",
      "  • rxn_1893.sdf → found types ['r1h', 'r2h']\n",
      "  • rxn_1894.sdf → found types ['r1h', 'r2h']\n",
      "  • rxn_1895.sdf → found types ['r1h', 'r2h']\n",
      "  • rxn_1896.sdf → found types ['r1h', 'r2h']\n",
      "  • rxn_1897.sdf → found types ['r1h', 'r2h']\n",
      "  • rxn_1898.sdf → found types ['r1h', 'r2h']\n",
      "  • rxn_1900.sdf → found types ['r1h', 'r2h']\n",
      "  • rxn_1901.sdf → found types ['r1h', 'r2h']\n",
      "  • rxn_1902.sdf → found types ['r1h', 'r2h']\n",
      "  • rxn_1903.sdf → found types ['r1h', 'r2h']\n",
      "  • rxn_1904.sdf → found types ['r1h', 'r2h']\n",
      "  • rxn_1907.sdf → found types ['r1h', 'r2h']\n",
      "  • rxn_1908.sdf → found types ['r1h', 'r2h']\n",
      "  • rxn_1909.sdf → found types ['r1h', 'r2h']\n",
      "  • rxn_191.sdf → found types ['r1h', 'r2h']\n",
      "    – skipping rxn_191.sdf: RXN 'rxn_191' not in CSV\n",
      "  • rxn_1910.sdf → found types ['r1h', 'r2h']\n",
      "  • rxn_1911.sdf → found types ['r1h', 'r2h']\n",
      "  • rxn_1913.sdf → found types ['r1h', 'r2h']\n",
      "  • rxn_1914.sdf → found types ['r1h', 'r2h']\n",
      "  • rxn_1915.sdf → found types ['r1h', 'r2h']\n",
      "  • rxn_1916.sdf → found types ['r1h', 'r2h']\n",
      "  • rxn_1918.sdf → found types ['r1h', 'r2h']\n",
      "  • rxn_192.sdf → found types ['r1h', 'r2h']\n",
      "    – skipping rxn_192.sdf: RXN 'rxn_192' not in CSV\n",
      "  • rxn_1920.sdf → found types ['r1h', 'r2h']\n",
      "  • rxn_1921.sdf → found types ['r1h', 'r2h']\n",
      "  • rxn_1922.sdf → found types ['r1h', 'r2h']\n",
      "  • rxn_1923.sdf → found types ['r1h', 'r2h']\n",
      "  • rxn_1926.sdf → found types ['r1h', 'r2h']\n",
      "  • rxn_1927.sdf → found types ['r1h', 'r2h']\n",
      "  • rxn_1928.sdf → found types ['r1h', 'r2h']\n",
      "  • rxn_193.sdf → found types ['r1h', 'r2h']\n",
      "  • rxn_1930.sdf → found types ['r1h', 'r2h']\n",
      "  • rxn_1931.sdf → found types ['r1h', 'r2h']\n",
      "  • rxn_1933.sdf → found types ['r1h', 'r2h']\n",
      "  • rxn_1935.sdf → found types ['r1h', 'r2h']\n",
      "  • rxn_1936.sdf → found types ['r1h', 'r2h']\n",
      "  • rxn_1937.sdf → found types ['r1h', 'r2h']\n",
      "  • rxn_1938.sdf → found types ['r1h', 'r2h']\n",
      "  • rxn_194.sdf → found types ['r1h', 'r2h']\n",
      "  • rxn_1940.sdf → found types ['r1h', 'r2h']\n",
      "  • rxn_1941.sdf → found types ['r1h', 'r2h']\n",
      "  • rxn_1942.sdf → found types ['r1h', 'r2h']\n",
      "  • rxn_1945.sdf → found types ['r1h', 'r2h']\n",
      "  • rxn_1946.sdf → found types ['r1h', 'r2h']\n",
      "  • rxn_1947.sdf → found types ['r1h', 'r2h']\n",
      "  • rxn_1948.sdf → found types ['r1h', 'r2h']\n",
      "  • rxn_1949.sdf → found types ['r1h', 'r2h']\n",
      "  • rxn_1950.sdf → found types ['r1h', 'r2h']\n",
      "    – skipping rxn_1950.sdf: RXN 'rxn_1950' not in CSV\n",
      "  • rxn_1951.sdf → found types ['r1h', 'r2h']\n",
      "  • rxn_1952.sdf → found types ['r1h', 'r2h']\n",
      "  • rxn_1954.sdf → found types ['r1h', 'r2h']\n",
      "  • rxn_1957.sdf → found types ['r1h', 'r2h']\n",
      "  • rxn_1958.sdf → found types ['r1h', 'r2h']\n",
      "  • rxn_1959.sdf → found types ['r1h', 'r2h']\n",
      "  • rxn_1960.sdf → found types ['r1h', 'r2h']\n",
      "  • rxn_1962.sdf → found types ['r1h', 'r2h']\n",
      "  • rxn_1963.sdf → found types ['r1h', 'r2h']\n",
      "  • rxn_1964.sdf → found types ['r1h', 'r2h']\n",
      "  • rxn_1965.sdf → found types ['r1h', 'r2h']\n",
      "  • rxn_1966.sdf → found types ['r1h', 'r2h']\n",
      "  • rxn_1967.sdf → found types ['r1h', 'r2h']\n",
      "  • rxn_1968.sdf → found types ['r1h', 'r2h']\n",
      "  • rxn_1969.sdf → found types ['r1h', 'r2h']\n",
      "  • rxn_197.sdf → found types ['r1h', 'r2h']\n",
      "  • rxn_1970.sdf → found types ['r1h', 'r2h']\n",
      "  • rxn_1974.sdf → found types ['r1h', 'r2h']\n",
      "  • rxn_1975.sdf → found types ['r1h', 'r2h']\n",
      "  • rxn_1977.sdf → found types ['r1h', 'r2h']\n",
      "  • rxn_1978.sdf → found types ['r1h', 'r2h']\n",
      "  • rxn_1979.sdf → found types ['r1h', 'r2h']\n",
      "  • rxn_1981.sdf → found types ['r1h', 'r2h']\n",
      "  • rxn_1982.sdf → found types ['r1h', 'r2h']\n",
      "  • rxn_1983.sdf → found types ['r1h', 'r2h']\n",
      "  • rxn_1984.sdf → found types ['r1h', 'r2h']\n",
      "  • rxn_1985.sdf → found types ['r1h', 'r2h']\n",
      "  • rxn_1986.sdf → found types ['r1h', 'r2h']\n",
      "  • rxn_1989.sdf → found types ['r1h', 'r2h']\n",
      "  • rxn_1991.sdf → found types ['r1h', 'r2h']\n",
      "  • rxn_1992.sdf → found types ['r1h', 'r2h']\n",
      "  • rxn_1994.sdf → found types ['r1h', 'r2h']\n",
      "    – skipping rxn_1994.sdf: RXN 'rxn_1994' not in CSV\n",
      "  • rxn_1995.sdf → found types ['r1h', 'r2h']\n",
      "  • rxn_1996.sdf → found types ['r1h', 'r2h']\n",
      "  • rxn_1997.sdf → found types ['r1h', 'r2h']\n",
      "  • rxn_1998.sdf → found types ['r1h', 'r2h']\n",
      "  • rxn_1999.sdf → found types ['r1h', 'r2h']\n",
      "  • rxn_2001.sdf → found types ['r1h', 'r2h']\n",
      "  • rxn_2002.sdf → found types ['r1h', 'r2h']\n",
      "  • rxn_2003.sdf → found types ['r1h', 'r2h']\n",
      "  • rxn_2004.sdf → found types ['r1h', 'r2h']\n",
      "  • rxn_2006.sdf → found types ['r1h', 'r2h']\n",
      "  • rxn_2007.sdf → found types ['r1h', 'r2h']\n",
      "  • rxn_2008.sdf → found types ['r1h', 'r2h']\n",
      "  • rxn_2009.sdf → found types ['r1h', 'r2h']\n",
      "  • rxn_201.sdf → found types ['r1h', 'r2h']\n",
      "  • rxn_2010.sdf → found types ['r1h', 'r2h']\n",
      "  • rxn_2012.sdf → found types ['r1h', 'r2h']\n",
      "  • rxn_2013.sdf → found types ['r1h', 'r2h']\n",
      "  • rxn_2015.sdf → found types ['r1h', 'r2h']\n",
      "  • rxn_2018.sdf → found types ['r1h', 'r2h']\n",
      "  • rxn_2019.sdf → found types ['r1h', 'r2h']\n",
      "  • rxn_2020.sdf → found types ['r1h', 'r2h']\n",
      "  • rxn_2021.sdf → found types ['r1h', 'r2h']\n",
      "  • rxn_2022.sdf → found types ['r1h', 'r2h']\n",
      "  • rxn_2023.sdf → found types ['r1h', 'r2h']\n",
      "  • rxn_2024.sdf → found types ['r1h', 'r2h']\n",
      "  • rxn_2025.sdf → found types ['r1h', 'r2h']\n",
      "  • rxn_2026.sdf → found types ['r1h', 'r2h']\n",
      "  • rxn_208.sdf → found types ['r1h', 'r2h']\n",
      "  • rxn_209.sdf → found types ['r1h', 'r2h']\n",
      "  • rxn_210.sdf → found types ['r1h', 'r2h']\n",
      "    – skipping rxn_210.sdf: RXN 'rxn_210' not in CSV\n",
      "  • rxn_213.sdf → found types ['r1h', 'r2h']\n",
      "  • rxn_215.sdf → found types ['r1h', 'r2h']\n",
      "  • rxn_218.sdf → found types ['r1h', 'r2h']\n",
      "  • rxn_223.sdf → found types ['r1h', 'r2h']\n",
      "    – skipping rxn_223.sdf: RXN 'rxn_223' not in CSV\n",
      "  • rxn_225.sdf → found types ['r1h', 'r2h']\n",
      "  • rxn_228.sdf → found types ['r1h', 'r2h']\n",
      "  • rxn_229.sdf → found types ['r1h', 'r2h']\n",
      "  • rxn_230.sdf → found types ['r1h', 'r2h']\n",
      "  • rxn_231.sdf → found types ['r1h', 'r2h']\n",
      "  • rxn_232.sdf → found types ['r1h', 'r2h']\n",
      "  • rxn_233.sdf → found types ['r1h', 'r2h']\n",
      "  • rxn_235.sdf → found types ['r1h', 'r2h']\n",
      "    – skipping rxn_235.sdf: RXN 'rxn_235' not in CSV\n",
      "  • rxn_238.sdf → found types ['r1h', 'r2h']\n",
      "  • rxn_239.sdf → found types ['r1h', 'r2h']\n",
      "  • rxn_240.sdf → found types ['r1h', 'r2h']\n",
      "  • rxn_247.sdf → found types ['r1h', 'r2h']\n",
      "    – skipping rxn_247.sdf: RXN 'rxn_247' not in CSV\n",
      "  • rxn_248.sdf → found types ['r1h', 'r2h']\n",
      "    – skipping rxn_248.sdf: RXN 'rxn_248' not in CSV\n",
      "  • rxn_249.sdf → found types ['r1h', 'r2h']\n",
      "  • rxn_250.sdf → found types ['r1h', 'r2h']\n",
      "    – skipping rxn_250.sdf: RXN 'rxn_250' not in CSV\n",
      "  • rxn_251.sdf → found types ['r1h', 'r2h']\n",
      "  • rxn_252.sdf → found types ['r1h', 'r2h']\n",
      "    – skipping rxn_252.sdf: RXN 'rxn_252' not in CSV\n",
      "  • rxn_253.sdf → found types ['r1h', 'r2h']\n",
      "  • rxn_254.sdf → found types ['r1h', 'r2h']\n",
      "    – skipping rxn_254.sdf: RXN 'rxn_254' not in CSV\n",
      "  • rxn_256.sdf → found types ['r1h', 'r2h']\n",
      "  • rxn_258.sdf → found types ['r1h', 'r2h']\n",
      "  • rxn_259.sdf → found types ['r1h', 'r2h']\n",
      "  • rxn_260.sdf → found types ['r1h', 'r2h']\n",
      "  • rxn_261.sdf → found types ['r1h', 'r2h']\n",
      "    – skipping rxn_261.sdf: RXN 'rxn_261' not in CSV\n",
      "  • rxn_262.sdf → found types ['r1h', 'r2h']\n",
      "    – skipping rxn_262.sdf: RXN 'rxn_262' not in CSV\n",
      "  • rxn_263.sdf → found types ['r1h', 'r2h']\n",
      "  • rxn_264.sdf → found types ['r1h', 'r2h']\n",
      "    – skipping rxn_264.sdf: RXN 'rxn_264' not in CSV\n",
      "  • rxn_265.sdf → found types ['r1h', 'r2h']\n",
      "    – skipping rxn_265.sdf: RXN 'rxn_265' not in CSV\n",
      "  • rxn_266.sdf → found types ['r1h', 'r2h']\n",
      "    – skipping rxn_266.sdf: RXN 'rxn_266' not in CSV\n",
      "  • rxn_268.sdf → found types ['r1h', 'r2h']\n",
      "  • rxn_269.sdf → found types ['r1h', 'r2h']\n",
      "  • rxn_270.sdf → found types ['r1h', 'r2h']\n",
      "  • rxn_275.sdf → found types ['r1h', 'r2h']\n",
      "    – skipping rxn_275.sdf: RXN 'rxn_275' not in CSV\n",
      "  • rxn_277.sdf → found types ['r1h', 'r2h']\n",
      "  • rxn_279.sdf → found types ['r1h', 'r2h']\n",
      "  • rxn_285.sdf → found types ['r1h', 'r2h']\n",
      "    – skipping rxn_285.sdf: RXN 'rxn_285' not in CSV\n",
      "  • rxn_286.sdf → found types ['r1h', 'r2h']\n",
      "    – skipping rxn_286.sdf: RXN 'rxn_286' not in CSV\n",
      "  • rxn_288.sdf → found types ['r1h', 'r2h']\n",
      "    – skipping rxn_288.sdf: RXN 'rxn_288' not in CSV\n",
      "  • rxn_296.sdf → found types ['r1h', 'r2h']\n",
      "  • rxn_297.sdf → found types ['r1h', 'r2h']\n",
      "  • rxn_298.sdf → found types ['r1h', 'r2h']\n",
      "  • rxn_299.sdf → found types ['r1h', 'r2h']\n",
      "  • rxn_3.sdf → found types ['r1h', 'r2h']\n",
      "  • rxn_30.sdf → found types ['r1h', 'r2h']\n",
      "    – skipping rxn_30.sdf: RXN 'rxn_30' not in CSV\n",
      "  • rxn_300.sdf → found types ['r1h', 'r2h']\n",
      "  • rxn_301.sdf → found types ['r1h', 'r2h']\n",
      "  • rxn_31.sdf → found types ['r1h', 'r2h']\n",
      "  • rxn_310.sdf → found types ['r1h', 'r2h']\n",
      "    – skipping rxn_310.sdf: RXN 'rxn_310' not in CSV\n",
      "  • rxn_3118.sdf → found types ['r1h', 'r2h']\n",
      "  • rxn_3120.sdf → found types ['r1h', 'r2h']\n",
      "  • rxn_3126.sdf → found types ['r1h', 'r2h']\n",
      "  • rxn_3128.sdf → found types ['r1h', 'r2h']\n",
      "  • rxn_3129.sdf → found types ['r1h', 'r2h']\n",
      "  • rxn_3132.sdf → found types ['r1h', 'r2h']\n",
      "  • rxn_314.sdf → found types ['r1h', 'r2h']\n",
      "  • rxn_3142.sdf → found types ['r1h', 'r2h']\n",
      "  • rxn_315.sdf → found types ['r1h', 'r2h']\n",
      "  • rxn_3156.sdf → found types ['r1h', 'r2h']\n",
      "  • rxn_3158.sdf → found types ['r1h', 'r2h']\n",
      "  • rxn_3160.sdf → found types ['r1h', 'r2h']\n",
      "  • rxn_3161.sdf → found types ['r1h', 'r2h']\n",
      "  • rxn_3164.sdf → found types ['r1h', 'r2h']\n",
      "  • rxn_317.sdf → found types ['r1h', 'r2h']\n",
      "  • rxn_3174.sdf → found types ['r1h', 'r2h']\n",
      "  • rxn_3178.sdf → found types ['r1h', 'r2h']\n",
      "  • rxn_318.sdf → found types ['r1h', 'r2h']\n",
      "  • rxn_3184.sdf → found types ['r1h', 'r2h']\n",
      "  • rxn_319.sdf → found types ['r1h', 'r2h']\n",
      "  • rxn_3193.sdf → found types ['r1h', 'r2h']\n",
      "  • rxn_3199.sdf → found types ['r1h', 'r2h']\n",
      "  • rxn_32.sdf → found types ['r1h', 'r2h']\n",
      "  • rxn_3201.sdf → found types ['r1h', 'r2h']\n",
      "  • rxn_3205.sdf → found types ['r1h', 'r2h']\n",
      "  • rxn_3206.sdf → found types ['r1h', 'r2h']\n",
      "  • rxn_321.sdf → found types ['r1h', 'r2h']\n",
      "  • rxn_3210.sdf → found types ['r1h', 'r2h']\n",
      "  • rxn_3211.sdf → found types ['r1h', 'r2h']\n",
      "  • rxn_3212.sdf → found types ['r1h', 'r2h']\n",
      "  • rxn_3213.sdf → found types ['r1h', 'r2h']\n",
      "  • rxn_3215.sdf → found types ['r1h', 'r2h']\n",
      "  • rxn_3216.sdf → found types ['r1h', 'r2h']\n",
      "  • rxn_3217.sdf → found types ['r1h', 'r2h']\n",
      "  • rxn_3219.sdf → found types ['r1h', 'r2h']\n",
      "  • rxn_322.sdf → found types ['r1h', 'r2h']\n",
      "  • rxn_3220.sdf → found types ['r1h', 'r2h']\n",
      "  • rxn_3223.sdf → found types ['r1h', 'r2h']\n",
      "  • rxn_3226.sdf → found types ['r1h', 'r2h']\n",
      "  • rxn_3227.sdf → found types ['r1h', 'r2h']\n",
      "  • rxn_3228.sdf → found types ['r1h', 'r2h']\n",
      "  • rxn_3229.sdf → found types ['r1h', 'r2h']\n",
      "  • rxn_3239.sdf → found types ['r1h', 'r2h']\n",
      "  • rxn_324.sdf → found types ['r1h', 'r2h']\n",
      "  • rxn_3242.sdf → found types ['r1h', 'r2h']\n",
      "  • rxn_3247.sdf → found types ['r1h', 'r2h']\n",
      "  • rxn_3248.sdf → found types ['r1h', 'r2h']\n",
      "  • rxn_325.sdf → found types ['r1h', 'r2h']\n",
      "  • rxn_326.sdf → found types ['r1h', 'r2h']\n",
      "  • rxn_327.sdf → found types ['r1h', 'r2h']\n",
      "  • rxn_328.sdf → found types ['r1h', 'r2h']\n",
      "  • rxn_330.sdf → found types ['r1h', 'r2h']\n",
      "  • rxn_331.sdf → found types ['r1h', 'r2h']\n",
      "  • rxn_332.sdf → found types ['r1h', 'r2h']\n",
      "  • rxn_334.sdf → found types ['r1h', 'r2h']\n",
      "  • rxn_335.sdf → found types ['r1h', 'r2h']\n",
      "  • rxn_337.sdf → found types ['r1h', 'r2h']\n",
      "  • rxn_34.sdf → found types ['r1h', 'r2h']\n",
      "  • rxn_342.sdf → found types ['r1h', 'r2h']\n",
      "    – skipping rxn_342.sdf: RXN 'rxn_342' not in CSV\n",
      "  • rxn_344.sdf → found types ['r1h', 'r2h']\n",
      "  • rxn_345.sdf → found types ['r1h', 'r2h']\n",
      "    – skipping rxn_345.sdf: RXN 'rxn_345' not in CSV\n",
      "  • rxn_347.sdf → found types ['r1h', 'r2h']\n",
      "  • rxn_348.sdf → found types ['r1h', 'r2h']\n",
      "  • rxn_356.sdf → found types ['r1h', 'r2h']\n",
      "  • rxn_357.sdf → found types ['r1h', 'r2h']\n",
      "  • rxn_36.sdf → found types ['r1h', 'r2h']\n",
      "  • rxn_361.sdf → found types ['r1h', 'r2h']\n",
      "  • rxn_363.sdf → found types ['r1h', 'r2h']\n",
      "  • rxn_365.sdf → found types ['r1h', 'r2h']\n",
      "  • rxn_366.sdf → found types ['r1h', 'r2h']\n",
      "  • rxn_368.sdf → found types ['r1h', 'r2h']\n",
      "  • rxn_369.sdf → found types ['r1h', 'r2h']\n",
      "  • rxn_37.sdf → found types ['r1h', 'r2h']\n",
      "  • rxn_372.sdf → found types ['r1h', 'r2h']\n",
      "    – skipping rxn_372.sdf: RXN 'rxn_372' not in CSV\n",
      "  • rxn_373.sdf → found types ['r1h', 'r2h']\n",
      "  • rxn_377.sdf → found types ['r1h', 'r2h']\n",
      "  • rxn_38.sdf → found types ['r1h', 'r2h']\n",
      "  • rxn_380.sdf → found types ['r1h', 'r2h']\n",
      "    – skipping rxn_380.sdf: RXN 'rxn_380' not in CSV\n",
      "  • rxn_383.sdf → found types ['r1h', 'r2h']\n",
      "  • rxn_386.sdf → found types ['r1h', 'r2h']\n",
      "  • rxn_387.sdf → found types ['r1h', 'r2h']\n",
      "  • rxn_388.sdf → found types ['r1h', 'r2h']\n",
      "  • rxn_389.sdf → found types ['r1h', 'r2h']\n",
      "  • rxn_390.sdf → found types ['r1h', 'r2h']\n",
      "  • rxn_391.sdf → found types ['r1h', 'r2h']\n",
      "  • rxn_392.sdf → found types ['r1h', 'r2h']\n",
      "  • rxn_396.sdf → found types ['r1h', 'r2h']\n",
      "  • rxn_398.sdf → found types ['r1h', 'r2h']\n",
      "  • rxn_399.sdf → found types ['r1h', 'r2h']\n",
      "  • rxn_400.sdf → found types ['r1h', 'r2h']\n",
      "  • rxn_406.sdf → found types ['r1h', 'r2h']\n",
      "  • rxn_407.sdf → found types ['r1h', 'r2h']\n",
      "  • rxn_409.sdf → found types ['r1h', 'r2h']\n",
      "  • rxn_41.sdf → found types ['r1h', 'r2h']\n",
      "  • rxn_410.sdf → found types ['r1h', 'r2h']\n",
      "  • rxn_413.sdf → found types ['r1h', 'r2h']\n",
      "  • rxn_414.sdf → found types ['r1h', 'r2h']\n",
      "  • rxn_415.sdf → found types ['r1h', 'r2h']\n",
      "  • rxn_417.sdf → found types ['r1h', 'r2h']\n",
      "  • rxn_418.sdf → found types ['r1h', 'r2h']\n",
      "  • rxn_419.sdf → found types ['r1h', 'r2h']\n",
      "  • rxn_42.sdf → found types ['r1h', 'r2h']\n",
      "  • rxn_420.sdf → found types ['r1h', 'r2h']\n",
      "  • rxn_422.sdf → found types ['r1h', 'r2h']\n",
      "  • rxn_424.sdf → found types ['r1h', 'r2h']\n",
      "  • rxn_425.sdf → found types ['r1h', 'r2h']\n",
      "  • rxn_426.sdf → found types ['r1h', 'r2h']\n",
      "    – skipping rxn_426.sdf: RXN 'rxn_426' not in CSV\n",
      "  • rxn_428.sdf → found types ['r1h', 'r2h']\n",
      "  • rxn_429.sdf → found types ['r1h', 'r2h']\n",
      "  • rxn_432.sdf → found types ['r1h', 'r2h']\n",
      "  • rxn_433.sdf → found types ['r1h', 'r2h']\n",
      "  • rxn_437.sdf → found types ['r1h', 'r2h']\n",
      "  • rxn_438.sdf → found types ['r1h', 'r2h']\n",
      "  • rxn_439.sdf → found types ['r1h', 'r2h']\n",
      "  • rxn_440.sdf → found types ['r1h', 'r2h']\n",
      "  • rxn_445.sdf → found types ['r1h', 'r2h']\n",
      "  • rxn_450.sdf → found types ['r1h', 'r2h']\n",
      "  • rxn_452.sdf → found types ['r1h', 'r2h']\n",
      "  • rxn_453.sdf → found types ['r1h', 'r2h']\n",
      "  • rxn_456.sdf → found types ['r1h', 'r2h']\n",
      "  • rxn_458.sdf → found types ['r1h', 'r2h']\n",
      "  • rxn_460.sdf → found types ['r1h', 'r2h']\n",
      "  • rxn_461.sdf → found types ['r1h', 'r2h']\n",
      "  • rxn_463.sdf → found types ['r1h', 'r2h']\n",
      "  • rxn_464.sdf → found types ['r1h', 'r2h']\n",
      "  • rxn_465.sdf → found types ['r1h', 'r2h']\n",
      "  • rxn_466.sdf → found types ['r1h', 'r2h']\n",
      "  • rxn_467.sdf → found types ['r1h', 'r2h']\n",
      "    – skipping rxn_467.sdf: RXN 'rxn_467' not in CSV\n",
      "  • rxn_468.sdf → found types ['r1h', 'r2h']\n",
      "  • rxn_473.sdf → found types ['r1h', 'r2h']\n",
      "  • rxn_474.sdf → found types ['r1h', 'r2h']\n",
      "  • rxn_475.sdf → found types ['r1h', 'r2h']\n",
      "  • rxn_476.sdf → found types ['r1h', 'r2h']\n",
      "  • rxn_480.sdf → found types ['r1h', 'r2h']\n",
      "  • rxn_481.sdf → found types ['r1h', 'r2h']\n",
      "  • rxn_482.sdf → found types ['r1h', 'r2h']\n",
      "  • rxn_483.sdf → found types ['r1h', 'r2h']\n",
      "  • rxn_484.sdf → found types ['r1h', 'r2h']\n",
      "  • rxn_485.sdf → found types ['r1h', 'r2h']\n",
      "  • rxn_486.sdf → found types ['r1h', 'r2h']\n",
      "  • rxn_487.sdf → found types ['r1h', 'r2h']\n",
      "  • rxn_490.sdf → found types ['r1h', 'r2h']\n",
      "    – skipping rxn_490.sdf: RXN 'rxn_490' not in CSV\n",
      "  • rxn_491.sdf → found types ['r1h', 'r2h']\n",
      "  • rxn_494.sdf → found types ['r1h', 'r2h']\n",
      "  • rxn_5.sdf → found types ['r1h', 'r2h']\n",
      "  • rxn_50.sdf → found types ['r1h', 'r2h']\n",
      "  • rxn_51.sdf → found types ['r1h', 'r2h']\n",
      "  • rxn_52.sdf → found types ['r1h', 'r2h']\n",
      "  • rxn_53.sdf → found types ['r1h', 'r2h']\n",
      "  • rxn_547.sdf → found types ['r1h', 'r2h']\n",
      "  • rxn_548.sdf → found types ['r1h', 'r2h']\n",
      "  • rxn_549.sdf → found types ['r1h', 'r2h']\n",
      "  • rxn_550.sdf → found types ['r1h', 'r2h']\n",
      "  • rxn_551.sdf → found types ['r1h', 'r2h']\n",
      "  • rxn_552.sdf → found types ['r1h', 'r2h']\n",
      "  • rxn_553.sdf → found types ['r1h', 'r2h']\n",
      "  • rxn_554.sdf → found types ['r1h', 'r2h']\n",
      "  • rxn_555.sdf → found types ['r1h', 'r2h']\n",
      "  • rxn_556.sdf → found types ['r1h', 'r2h']\n",
      "  • rxn_557.sdf → found types ['r1h', 'r2h']\n",
      "  • rxn_56.sdf → found types ['r1h', 'r2h']\n",
      "  • rxn_560.sdf → found types ['r1h', 'r2h']\n",
      "  • rxn_561.sdf → found types ['r1h', 'r2h']\n",
      "  • rxn_562.sdf → found types ['r1h', 'r2h']\n",
      "  • rxn_563.sdf → found types ['r1h', 'r2h']\n",
      "  • rxn_565.sdf → found types ['r1h', 'r2h']\n",
      "  • rxn_566.sdf → found types ['r1h', 'r2h']\n",
      "  • rxn_567.sdf → found types ['r1h', 'r2h']\n",
      "  • rxn_569.sdf → found types ['r1h', 'r2h']\n",
      "  • rxn_57.sdf → found types ['r1h', 'r2h']\n",
      "  • rxn_570.sdf → found types ['r1h', 'r2h']\n",
      "  • rxn_571.sdf → found types ['r1h', 'r2h']\n",
      "  • rxn_572.sdf → found types ['r1h', 'r2h']\n",
      "  • rxn_573.sdf → found types ['r1h', 'r2h']\n",
      "  • rxn_574.sdf → found types ['r1h', 'r2h']\n",
      "  • rxn_576.sdf → found types ['r1h', 'r2h']\n",
      "  • rxn_577.sdf → found types ['r1h', 'r2h']\n",
      "  • rxn_578.sdf → found types ['r1h', 'r2h']\n",
      "  • rxn_581.sdf → found types ['r1h', 'r2h']\n",
      "  • rxn_582.sdf → found types ['r1h', 'r2h']\n",
      "  • rxn_586.sdf → found types ['r1h', 'r2h']\n",
      "  • rxn_59.sdf → found types ['r1h', 'r2h']\n",
      "  • rxn_590.sdf → found types ['r1h', 'r2h']\n",
      "  • rxn_594.sdf → found types ['r1h', 'r2h']\n",
      "  • rxn_595.sdf → found types ['r1h', 'r2h']\n",
      "  • rxn_596.sdf → found types ['r1h', 'r2h']\n",
      "  • rxn_599.sdf → found types ['r1h', 'r2h']\n",
      "  • rxn_60.sdf → found types ['r1h', 'r2h']\n",
      "  • rxn_600.sdf → found types ['r1h', 'r2h']\n",
      "  • rxn_601.sdf → found types ['r1h', 'r2h']\n",
      "  • rxn_602.sdf → found types ['r1h', 'r2h']\n",
      "  • rxn_604.sdf → found types ['r1h', 'r2h']\n",
      "  • rxn_605.sdf → found types ['r1h', 'r2h']\n",
      "  • rxn_606.sdf → found types ['r1h', 'r2h']\n",
      "  • rxn_607.sdf → found types ['r1h', 'r2h']\n",
      "  • rxn_61.sdf → found types ['r1h', 'r2h']\n",
      "  • rxn_610.sdf → found types ['r1h', 'r2h']\n",
      "  • rxn_611.sdf → found types ['r1h', 'r2h']\n",
      "  • rxn_612.sdf → found types ['r1h', 'r2h']\n",
      "  • rxn_613.sdf → found types ['r1h', 'r2h']\n",
      "  • rxn_614.sdf → found types ['r1h', 'r2h']\n",
      "  • rxn_615.sdf → found types ['r1h', 'r2h']\n",
      "  • rxn_616.sdf → found types ['r1h', 'r2h']\n",
      "  • rxn_617.sdf → found types ['r1h', 'r2h']\n",
      "  • rxn_618.sdf → found types ['r1h', 'r2h']\n",
      "  • rxn_62.sdf → found types ['r1h', 'r2h']\n",
      "  • rxn_623.sdf → found types ['r1h', 'r2h']\n",
      "    – skipping rxn_623.sdf: RXN 'rxn_623' not in CSV\n",
      "  • rxn_624.sdf → found types ['r1h', 'r2h']\n",
      "    – skipping rxn_624.sdf: RXN 'rxn_624' not in CSV\n",
      "  • rxn_625.sdf → found types ['r1h', 'r2h']\n",
      "    – skipping rxn_625.sdf: RXN 'rxn_625' not in CSV\n",
      "  • rxn_629.sdf → found types ['r1h', 'r2h']\n",
      "  • rxn_635.sdf → found types ['r1h', 'r2h']\n",
      "    – skipping rxn_635.sdf: RXN 'rxn_635' not in CSV\n",
      "  • rxn_648.sdf → found types ['r1h', 'r2h']\n",
      "  • rxn_649.sdf → found types ['r1h', 'r2h']\n",
      "  • rxn_654.sdf → found types ['r1h', 'r2h']\n",
      "  • rxn_656.sdf → found types ['r1h', 'r2h']\n",
      "    – skipping rxn_656.sdf: RXN 'rxn_656' not in CSV\n",
      "  • rxn_659.sdf → found types ['r1h', 'r2h']\n",
      "  • rxn_660.sdf → found types ['r1h', 'r2h']\n",
      "  • rxn_667.sdf → found types ['r1h', 'r2h']\n",
      "    – skipping rxn_667.sdf: RXN 'rxn_667' not in CSV\n",
      "  • rxn_670.sdf → found types ['r1h', 'r2h']\n",
      "  • rxn_671.sdf → found types ['r1h', 'r2h']\n",
      "  • rxn_672.sdf → found types ['r1h', 'r2h']\n",
      "    – skipping rxn_672.sdf: RXN 'rxn_672' not in CSV\n",
      "  • rxn_673.sdf → found types ['r1h', 'r2h']\n",
      "  • rxn_675.sdf → found types ['r1h', 'r2h']\n",
      "  • rxn_676.sdf → found types ['r1h', 'r2h']\n",
      "  • rxn_68.sdf → found types ['r1h', 'r2h']\n",
      "  • rxn_680.sdf → found types ['r1h', 'r2h']\n",
      "  • rxn_681.sdf → found types ['r1h', 'r2h']\n",
      "  • rxn_682.sdf → found types ['r1h', 'r2h']\n",
      "    – skipping rxn_682.sdf: RXN 'rxn_682' not in CSV\n",
      "  • rxn_683.sdf → found types ['r1h', 'r2h']\n",
      "  • rxn_685.sdf → found types ['r1h', 'r2h']\n",
      "  • rxn_686.sdf → found types ['r1h', 'r2h']\n",
      "  • rxn_688.sdf → found types ['r1h', 'r2h']\n",
      "  • rxn_690.sdf → found types ['r1h', 'r2h']\n",
      "    – skipping rxn_690.sdf: RXN 'rxn_690' not in CSV\n",
      "  • rxn_691.sdf → found types ['r1h', 'r2h']\n",
      "  • rxn_693.sdf → found types ['r1h', 'r2h']\n",
      "  • rxn_694.sdf → found types ['r1h', 'r2h']\n",
      "  • rxn_695.sdf → found types ['r1h', 'r2h']\n",
      "  • rxn_697.sdf → found types ['r1h', 'r2h']\n",
      "    – skipping rxn_697.sdf: RXN 'rxn_697' not in CSV\n",
      "  • rxn_698.sdf → found types ['r1h', 'r2h']\n",
      "  • rxn_70.sdf → found types ['r1h', 'r2h']\n",
      "    – skipping rxn_70.sdf: RXN 'rxn_70' not in CSV\n",
      "  • rxn_701.sdf → found types ['r1h', 'r2h']\n",
      "    – skipping rxn_701.sdf: RXN 'rxn_701' not in CSV\n",
      "  • rxn_702.sdf → found types ['r1h', 'r2h']\n",
      "  • rxn_704.sdf → found types ['r1h', 'r2h']\n",
      "  • rxn_705.sdf → found types ['r1h', 'r2h']\n",
      "  • rxn_709.sdf → found types ['r1h', 'r2h']\n",
      "  • rxn_710.sdf → found types ['r1h', 'r2h']\n",
      "  • rxn_711.sdf → found types ['r1h', 'r2h']\n",
      "  • rxn_715.sdf → found types ['r1h', 'r2h']\n",
      "  • rxn_72.sdf → found types ['r1h', 'r2h']\n",
      "    – skipping rxn_72.sdf: RXN 'rxn_72' not in CSV\n",
      "  • rxn_721.sdf → found types ['r1h', 'r2h']\n",
      "  • rxn_722.sdf → found types ['r1h', 'r2h']\n",
      "  • rxn_723.sdf → found types ['r1h', 'r2h']\n",
      "  • rxn_724.sdf → found types ['r1h', 'r2h']\n",
      "  • rxn_731.sdf → found types ['r1h', 'r2h']\n",
      "    – skipping rxn_731.sdf: RXN 'rxn_731' not in CSV\n",
      "  • rxn_732.sdf → found types ['r1h', 'r2h']\n",
      "    – skipping rxn_732.sdf: RXN 'rxn_732' not in CSV\n",
      "  • rxn_733.sdf → found types ['r1h', 'r2h']\n",
      "    – skipping rxn_733.sdf: RXN 'rxn_733' not in CSV\n",
      "  • rxn_735.sdf → found types ['r1h', 'r2h']\n",
      "    – skipping rxn_735.sdf: RXN 'rxn_735' not in CSV\n",
      "  • rxn_738.sdf → found types ['r1h', 'r2h']\n",
      "  • rxn_739.sdf → found types ['r1h', 'r2h']\n",
      "  • rxn_740.sdf → found types ['r1h', 'r2h']\n",
      "  • rxn_741.sdf → found types ['r1h', 'r2h']\n",
      "  • rxn_742.sdf → found types ['r1h', 'r2h']\n",
      "  • rxn_743.sdf → found types ['r1h', 'r2h']\n",
      "  • rxn_744.sdf → found types ['r1h', 'r2h']\n",
      "  • rxn_745.sdf → found types ['r1h', 'r2h']\n",
      "  • rxn_746.sdf → found types ['r1h', 'r2h']\n",
      "  • rxn_748.sdf → found types ['r1h', 'r2h']\n",
      "  • rxn_751.sdf → found types ['r1h', 'r2h']\n",
      "  • rxn_752.sdf → found types ['r1h', 'r2h']\n",
      "  • rxn_753.sdf → found types ['r1h', 'r2h']\n",
      "    – skipping rxn_753.sdf: RXN 'rxn_753' not in CSV\n",
      "  • rxn_754.sdf → found types ['r1h', 'r2h']\n",
      "  • rxn_757.sdf → found types ['r1h', 'r2h']\n",
      "  • rxn_758.sdf → found types ['r1h', 'r2h']\n",
      "  • rxn_760.sdf → found types ['r1h', 'r2h']\n",
      "  • rxn_761.sdf → found types ['r1h', 'r2h']\n",
      "  • rxn_762.sdf → found types ['r1h', 'r2h']\n",
      "  • rxn_766.sdf → found types ['r1h', 'r2h']\n",
      "    – skipping rxn_766.sdf: RXN 'rxn_766' not in CSV\n",
      "  • rxn_770.sdf → found types ['r1h', 'r2h']\n",
      "  • rxn_771.sdf → found types ['r1h', 'r2h']\n",
      "  • rxn_772.sdf → found types ['r1h', 'r2h']\n",
      "  • rxn_773.sdf → found types ['r1h', 'r2h']\n",
      "  • rxn_775.sdf → found types ['r1h', 'r2h']\n",
      "  • rxn_776.sdf → found types ['r1h', 'r2h']\n",
      "  • rxn_778.sdf → found types ['r1h', 'r2h']\n",
      "  • rxn_779.sdf → found types ['r1h', 'r2h']\n",
      "  • rxn_780.sdf → found types ['r1h', 'r2h']\n",
      "  • rxn_781.sdf → found types ['r1h', 'r2h']\n",
      "  • rxn_785.sdf → found types ['r1h', 'r2h']\n",
      "    – skipping rxn_785.sdf: RXN 'rxn_785' not in CSV\n",
      "  • rxn_787.sdf → found types ['r1h', 'r2h']\n",
      "    – skipping rxn_787.sdf: RXN 'rxn_787' not in CSV\n",
      "  • rxn_790.sdf → found types ['r1h', 'r2h']\n",
      "    – skipping rxn_790.sdf: RXN 'rxn_790' not in CSV\n",
      "  • rxn_791.sdf → found types ['r1h', 'r2h']\n",
      "    – skipping rxn_791.sdf: RXN 'rxn_791' not in CSV\n",
      "  • rxn_792.sdf → found types ['r1h', 'r2h']\n",
      "    – skipping rxn_792.sdf: RXN 'rxn_792' not in CSV\n",
      "  • rxn_793.sdf → found types ['r1h', 'r2h']\n",
      "    – skipping rxn_793.sdf: RXN 'rxn_793' not in CSV\n",
      "  • rxn_795.sdf → found types ['r1h', 'r2h']\n",
      "    – skipping rxn_795.sdf: RXN 'rxn_795' not in CSV\n",
      "  • rxn_796.sdf → found types ['r1h', 'r2h']\n",
      "    – skipping rxn_796.sdf: RXN 'rxn_796' not in CSV\n",
      "  • rxn_797.sdf → found types ['r1h', 'r2h']\n",
      "    – skipping rxn_797.sdf: RXN 'rxn_797' not in CSV\n",
      "  • rxn_798.sdf → found types ['r1h', 'r2h']\n",
      "    – skipping rxn_798.sdf: RXN 'rxn_798' not in CSV\n",
      "  • rxn_799.sdf → found types ['r1h', 'r2h']\n",
      "    – skipping rxn_799.sdf: RXN 'rxn_799' not in CSV\n",
      "  • rxn_80.sdf → found types ['r1h', 'r2h']\n",
      "    – skipping rxn_80.sdf: RXN 'rxn_80' not in CSV\n",
      "  • rxn_801.sdf → found types ['r1h', 'r2h']\n",
      "    – skipping rxn_801.sdf: RXN 'rxn_801' not in CSV\n",
      "  • rxn_806.sdf → found types ['r1h', 'r2h']\n",
      "    – skipping rxn_806.sdf: RXN 'rxn_806' not in CSV\n",
      "  • rxn_807.sdf → found types ['r1h', 'r2h']\n",
      "    – skipping rxn_807.sdf: RXN 'rxn_807' not in CSV\n",
      "  • rxn_816.sdf → found types ['r1h', 'r2h']\n",
      "    – skipping rxn_816.sdf: RXN 'rxn_816' not in CSV\n",
      "  • rxn_818.sdf → found types ['r1h', 'r2h']\n",
      "    – skipping rxn_818.sdf: RXN 'rxn_818' not in CSV\n",
      "  • rxn_824.sdf → found types ['r1h', 'r2h']\n",
      "    – skipping rxn_824.sdf: RXN 'rxn_824' not in CSV\n",
      "  • rxn_825.sdf → found types ['r1h', 'r2h']\n",
      "    – skipping rxn_825.sdf: RXN 'rxn_825' not in CSV\n",
      "  • rxn_830.sdf → found types ['r1h', 'r2h']\n",
      "  • rxn_831.sdf → found types ['r1h', 'r2h']\n",
      "  • rxn_833.sdf → found types ['r1h', 'r2h']\n",
      "  • rxn_835.sdf → found types ['r1h', 'r2h']\n",
      "  • rxn_836.sdf → found types ['r1h', 'r2h']\n",
      "  • rxn_837.sdf → found types ['r1h', 'r2h']\n",
      "  • rxn_838.sdf → found types ['r1h', 'r2h']\n",
      "  • rxn_839.sdf → found types ['r1h', 'r2h']\n",
      "  • rxn_840.sdf → found types ['r1h', 'r2h']\n",
      "  • rxn_841.sdf → found types ['r1h', 'r2h']\n",
      "  • rxn_842.sdf → found types ['r1h', 'r2h']\n",
      "  • rxn_843.sdf → found types ['r1h', 'r2h']\n",
      "  • rxn_844.sdf → found types ['r1h', 'r2h']\n",
      "  • rxn_846.sdf → found types ['r1h', 'r2h']\n",
      "  • rxn_847.sdf → found types ['r1h', 'r2h']\n",
      "  • rxn_848.sdf → found types ['r1h', 'r2h']\n",
      "  • rxn_849.sdf → found types ['r1h', 'r2h']\n",
      "  • rxn_850.sdf → found types ['r1h', 'r2h']\n",
      "  • rxn_851.sdf → found types ['r1h', 'r2h']\n",
      "  • rxn_852.sdf → found types ['r1h', 'r2h']\n",
      "  • rxn_854.sdf → found types ['r1h', 'r2h']\n",
      "  • rxn_855.sdf → found types ['r1h', 'r2h']\n",
      "  • rxn_856.sdf → found types ['r1h', 'r2h']\n",
      "  • rxn_857.sdf → found types ['r1h', 'r2h']\n",
      "  • rxn_858.sdf → found types ['r1h', 'r2h']\n",
      "  • rxn_859.sdf → found types ['r1h', 'r2h']\n",
      "  • rxn_860.sdf → found types ['r1h', 'r2h']\n",
      "  • rxn_864.sdf → found types ['r1h', 'r2h']\n",
      "  • rxn_865.sdf → found types ['r1h', 'r2h']\n",
      "  • rxn_866.sdf → found types ['r1h', 'r2h']\n",
      "  • rxn_867.sdf → found types ['r1h', 'r2h']\n",
      "  • rxn_868.sdf → found types ['r1h', 'r2h']\n",
      "  • rxn_869.sdf → found types ['r1h', 'r2h']\n",
      "  • rxn_871.sdf → found types ['r1h', 'r2h']\n",
      "  • rxn_872.sdf → found types ['r1h', 'r2h']\n",
      "  • rxn_873.sdf → found types ['r1h', 'r2h']\n",
      "  • rxn_874.sdf → found types ['r1h', 'r2h']\n",
      "  • rxn_876.sdf → found types ['r1h', 'r2h']\n",
      "  • rxn_877.sdf → found types ['r1h', 'r2h']\n",
      "  • rxn_879.sdf → found types ['r1h', 'r2h']\n",
      "  • rxn_880.sdf → found types ['r1h', 'r2h']\n",
      "  • rxn_881.sdf → found types ['r1h', 'r2h']\n",
      "  • rxn_884.sdf → found types ['r1h', 'r2h']\n",
      "  • rxn_885.sdf → found types ['r1h', 'r2h']\n",
      "  • rxn_886.sdf → found types ['r1h', 'r2h']\n",
      "  • rxn_887.sdf → found types ['r1h', 'r2h']\n",
      "  • rxn_889.sdf → found types ['r1h', 'r2h']\n",
      "  • rxn_89.sdf → found types ['r1h', 'r2h']\n",
      "    – skipping rxn_89.sdf: RXN 'rxn_89' not in CSV\n",
      "  • rxn_890.sdf → found types ['r1h', 'r2h']\n",
      "  • rxn_891.sdf → found types ['r1h', 'r2h']\n",
      "  • rxn_892.sdf → found types ['r1h', 'r2h']\n",
      "  • rxn_895.sdf → found types ['r1h', 'r2h']\n",
      "  • rxn_896.sdf → found types ['r1h', 'r2h']\n",
      "  • rxn_897.sdf → found types ['r1h', 'r2h']\n",
      "  • rxn_898.sdf → found types ['r1h', 'r2h']\n",
      "  • rxn_899.sdf → found types ['r1h', 'r2h']\n",
      "  • rxn_90.sdf → found types ['r1h', 'r2h']\n",
      "    – skipping rxn_90.sdf: RXN 'rxn_90' not in CSV\n",
      "  • rxn_900.sdf → found types ['r1h', 'r2h']\n",
      "  • rxn_901.sdf → found types ['r1h', 'r2h']\n",
      "  • rxn_905.sdf → found types ['r1h', 'r2h']\n",
      "  • rxn_906.sdf → found types ['r1h', 'r2h']\n",
      "  • rxn_907.sdf → found types ['r1h', 'r2h']\n",
      "  • rxn_908.sdf → found types ['r1h', 'r2h']\n",
      "  • rxn_909.sdf → found types ['r1h', 'r2h']\n",
      "    – skipping rxn_909.sdf: RXN 'rxn_909' not in CSV\n",
      "  • rxn_91.sdf → found types ['r1h', 'r2h']\n",
      "  • rxn_910.sdf → found types ['r1h', 'r2h']\n",
      "  • rxn_911.sdf → found types ['r1h', 'r2h']\n",
      "  • rxn_912.sdf → found types ['r1h', 'r2h']\n",
      "  • rxn_914.sdf → found types ['r1h', 'r2h']\n",
      "  • rxn_915.sdf → found types ['r1h', 'r2h']\n",
      "  • rxn_916.sdf → found types ['r1h', 'r2h']\n",
      "  • rxn_917.sdf → found types ['r1h', 'r2h']\n",
      "  • rxn_919.sdf → found types ['r1h', 'r2h']\n",
      "  • rxn_92.sdf → found types ['r1h', 'r2h']\n",
      "  • rxn_920.sdf → found types ['r1h', 'r2h']\n",
      "  • rxn_921.sdf → found types ['r1h', 'r2h']\n",
      "  • rxn_922.sdf → found types ['r1h', 'r2h']\n",
      "  • rxn_924.sdf → found types ['r1h', 'r2h']\n",
      "  • rxn_926.sdf → found types ['r1h', 'r2h']\n",
      "  • rxn_927.sdf → found types ['r1h', 'r2h']\n",
      "  • rxn_928.sdf → found types ['r1h', 'r2h']\n",
      "  • rxn_929.sdf → found types ['r1h', 'r2h']\n",
      "  • rxn_93.sdf → found types ['r1h', 'r2h']\n",
      "  • rxn_930.sdf → found types ['r1h', 'r2h']\n",
      "  • rxn_931.sdf → found types ['r1h', 'r2h']\n",
      "  • rxn_933.sdf → found types ['r1h', 'r2h']\n",
      "  • rxn_934.sdf → found types ['r1h', 'r2h']\n",
      "  • rxn_935.sdf → found types ['r1h', 'r2h']\n",
      "  • rxn_936.sdf → found types ['r1h', 'r2h']\n",
      "  • rxn_938.sdf → found types ['r1h', 'r2h']\n",
      "  • rxn_94.sdf → found types ['r1h', 'r2h']\n",
      "  • rxn_940.sdf → found types ['r1h', 'r2h']\n",
      "  • rxn_943.sdf → found types ['r1h', 'r2h']\n",
      "  • rxn_944.sdf → found types ['r1h', 'r2h']\n",
      "  • rxn_948.sdf → found types ['r1h', 'r2h']\n",
      "  • rxn_949.sdf → found types ['r1h', 'r2h']\n",
      "  • rxn_95.sdf → found types ['r1h', 'r2h']\n",
      "  • rxn_950.sdf → found types ['r1h', 'r2h']\n",
      "  • rxn_954.sdf → found types ['r1h', 'r2h']\n",
      "  • rxn_96.sdf → found types ['r1h', 'r2h']\n",
      "  • rxn_960.sdf → found types ['r1h', 'r2h']\n",
      "  • rxn_962.sdf → found types ['r1h', 'r2h']\n",
      "  • rxn_964.sdf → found types ['r1h', 'r2h']\n",
      "  • rxn_965.sdf → found types ['r1h', 'r2h']\n",
      "  • rxn_966.sdf → found types ['r1h', 'r2h']\n",
      "  • rxn_969.sdf → found types ['r1h', 'r2h']\n",
      "  • rxn_97.sdf → found types ['r1h', 'r2h']\n",
      "  • rxn_973.sdf → found types ['r1h', 'r2h']\n",
      "  • rxn_974.sdf → found types ['r1h', 'r2h']\n",
      "  • rxn_978.sdf → found types ['r1h', 'r2h']\n",
      "  • rxn_98.sdf → found types ['r1h', 'r2h']\n",
      "  • rxn_982.sdf → found types ['r1h', 'r2h']\n",
      "  • rxn_983.sdf → found types ['r1h', 'r2h']\n",
      "  • rxn_984.sdf → found types ['r1h', 'r2h']\n",
      "  • rxn_985.sdf → found types ['r1h', 'r2h']\n",
      "  • rxn_987.sdf → found types ['r1h', 'r2h']\n",
      "  • rxn_99.sdf → found types ['r1h', 'r2h']\n",
      "  • rxn_991.sdf → found types ['r1h', 'r2h']\n",
      "  • rxn_993.sdf → found types ['r1h', 'r2h']\n",
      "  • rxn_996.sdf → found types ['r1h', 'r2h']\n",
      "  • rxn_997.sdf → found types ['r1h', 'r2h']\n",
      "  • rxn_998.sdf → found types ['r1h', 'r2h']\n",
      "  • rxn_999.sdf → found types ['r1h', 'r2h']\n",
      "  → Built 1696 EquiData examples\n"
     ]
    },
    {
     "name": "stderr",
     "output_type": "stream",
     "text": [
      "Done!\n"
     ]
    }
   ],
   "source": [
    "from data import EquiMultiMolDataset\n",
    "import os\n",
    "# 1) Prepare a root folder for PyG to use\n",
    "root = 'data/equi_dataset'\n",
    "os.makedirs(root, exist_ok=True)\n",
    "# 2) Point to your SDF files folder and the CSV of targets\n",
    "sdf_folder     = '/home/calvin/code/chemprop_phd_customised/habnet/data/processed/sdf_data'      # ← replace with your actual path\n",
    "target_csv     = '/home/calvin/code/chemprop_phd_customised/habnet/data/processed/target_data/target_data_sin_cos.csv'\n",
    "input_types    = ['r1h', 'r2h']       # ← the values of the SDF “type” property you want\n",
    "target_columns = ['psi_1_dihedral_sin', 'psi_1_dihedral_cos']    # ← your CSV columns for sin & cos\n",
    "\n",
    "# 3) Instantiate the dataset (this will auto-run process() if needed)\n",
    "equi_dataset = EquiMultiMolDataset(\n",
    "    root=root,\n",
    "    sdf_folder=sdf_folder,\n",
    "    target_csv=target_csv,\n",
    "    input_type=input_types,\n",
    "    target_columns=target_columns,\n",
    "    keep_hs=True,\n",
    "    sanitize=False,\n",
    "    force_reload=True\n",
    ")\n",
    "                                   "
   ]
  },
  {
   "cell_type": "code",
   "execution_count": 5,
   "id": "03cbce1a",
   "metadata": {},
   "outputs": [
    {
     "data": {
      "text/plain": [
       "EquiMultiMolDataset(1696)"
      ]
     },
     "execution_count": 5,
     "metadata": {},
     "output_type": "execute_result"
    }
   ],
   "source": [
    "equi_dataset"
   ]
  },
  {
   "cell_type": "code",
   "execution_count": 6,
   "id": "8d0b6721",
   "metadata": {},
   "outputs": [],
   "source": [
    "from dimenet import DimeNetPPEncoder\n",
    "\n",
    "encoder = DimeNetPPEncoder(hidden_channels=512,\n",
    "                           dropout=0.2, num_blocks=6,\n",
    "                           num_spherical=8, num_radial=7,\n",
    "                           cutoff=6.0)\n",
    "encoder = encoder.to(device)"
   ]
  },
  {
   "cell_type": "code",
   "execution_count": 7,
   "id": "4f5e1a02",
   "metadata": {},
   "outputs": [],
   "source": [
    "# import dataloader from pytorch - not torch_geometric\n",
    "from torch.utils.data import DataLoader\n",
    "from data import siamese_collate\n",
    "train_loader = DataLoader(equi_dataset, batch_size=1, shuffle=True, collate_fn=siamese_collate)"
   ]
  },
  {
   "cell_type": "code",
   "execution_count": 8,
   "id": "58c074e7",
   "metadata": {},
   "outputs": [],
   "source": [
    "from torch_geometric.loader import DataLoader\n",
    "\n",
    "# We need to split randomly into train/valid/test sets\n",
    "from torch.utils.data import random_split\n",
    "\n",
    "train_size = int(0.8 * len(equi_dataset))\n",
    "valid_size = int(0.1 * len(equi_dataset))\n",
    "test_size = len(equi_dataset) - train_size - valid_size\n",
    "train_dataset, valid_dataset, test_dataset = random_split(equi_dataset, [train_size, valid_size, test_size])\n",
    "# Create DataLoaders for each dataset\n",
    "train_loader = DataLoader(\n",
    "    train_dataset,\n",
    "    batch_size=16,\n",
    "    shuffle=True,\n",
    "    follow_batch=['z_s', 'z_t']\n",
    ")\n",
    "valid_loader = DataLoader(\n",
    "    valid_dataset,\n",
    "    batch_size=32,\n",
    "    shuffle=True,\n",
    "    follow_batch=['z_s', 'z_t']\n",
    ")\n",
    "test_loader = DataLoader(\n",
    "    test_dataset,\n",
    "    batch_size=32,\n",
    "    shuffle=True,\n",
    "    follow_batch=['z_s', 'z_t']\n",
    ")\n"
   ]
  },
  {
   "cell_type": "code",
   "execution_count": null,
   "id": "fde9e90e",
   "metadata": {},
   "outputs": [],
   "source": [
    "\n",
    "def train_epoch(model, loader, optimizer, loss_fn, metric_fn):\n",
    "    model.train()\n",
    "    total_loss = 0.0\n",
    "    total_err  = 0.0\n",
    "    n_samples  = 0\n",
    "\n",
    "    for batch in tqdm(loader, desc=\"Training\", leave=False):\n",
    "        batch = batch.to(device)\n",
    "        optimizer.zero_grad()\n",
    "\n",
    "        # forward + loss\n",
    "        out   = model(batch)              # [B,2]\n",
    "        loss  = loss_fn(out, batch.y)     # scalar\n",
    "        loss.backward()\n",
    "        optimizer.step()\n",
    "\n",
    "        # metric: mean abs angle error (degrees)\n",
    "        err = metric_fn(out, batch.y)     # scalar tensor\n",
    "\n",
    "        bsize = batch.y.size(0)\n",
    "        total_loss += loss.item() * bsize\n",
    "        total_err  += err.item()  * bsize\n",
    "        n_samples  += bsize\n",
    "\n",
    "    return total_loss / n_samples, total_err / n_samples\n",
    "\n",
    "def eval_epoch(model, loader, loss_fn, metric_fn):\n",
    "    model.eval()\n",
    "    total_loss = 0.0\n",
    "    total_err  = 0.0\n",
    "    n_samples  = 0\n",
    "\n",
    "    with torch.no_grad():\n",
    "        for batch in tqdm(loader, desc=\"Validation\", leave=False):\n",
    "            batch = batch.to(device)\n",
    "            out   = model(batch)\n",
    "            loss  = loss_fn(out, batch.y)\n",
    "            err   = metric_fn(out, batch.y)\n",
    "\n",
    "            bsize = batch.y.size(0)\n",
    "            total_loss += loss.item() * bsize\n",
    "            total_err  += err.item()  * bsize\n",
    "            n_samples  += bsize\n",
    "\n",
    "    return total_loss / n_samples, total_err / n_samples\n"
   ]
  },
  {
   "cell_type": "code",
   "execution_count": null,
   "id": "9800042f",
   "metadata": {},
   "outputs": [],
   "source": [
    "import argparse\n",
    "import json\n",
    "import os\n",
    "from datetime import datetime\n",
    "import yaml\n",
    "\n",
    "def save_experiment(config: dict,\n",
    "                    metrics: dict,\n",
    "                    out_dir: str = \"experiments\"):\n",
    "    \"\"\"\n",
    "    Dump one JSON per run, containing both hyper-parameters and\n",
    "    your final validation metrics.\n",
    "    \"\"\"\n",
    "    os.makedirs(out_dir, exist_ok=True)\n",
    "    # timestamped filename\n",
    "    ts = datetime.now().strftime(\"%Y%m%d-%H%M%S\")\n",
    "    fname = os.path.join(out_dir, f\"run_{ts}.json\")\n",
    "    payload = {\n",
    "        \"config\":  config,\n",
    "        \"metrics\": metrics,\n",
    "    }\n",
    "    with open(fname, \"w\") as f:\n",
    "        json.dump(payload, f, indent=2)\n",
    "    print(f\"👉 Saved experiment to {fname}\")\n",
    "\n",
    "# --- when you start training, assemble your hyper‐params: ---\n",
    "config = {\n",
    "    \"encoder_hidden\":    256,\n",
    "    \"num_blocks\":        4,\n",
    "    \"num_spherical\":     7,\n",
    "    \"num_radial\":        6,\n",
    "    \"cutoff\":            5.0,\n",
    "    \"fusion\":            \"diff-prod\",   # or \"cat\"\n",
    "    \"dropout\":           0.1,\n",
    "    \"batch_size\":        32,\n",
    "    \"lr\":                1e-4,\n",
    "    \"weight_decay\":      1e-5,\n",
    "    \"scheduler\":         \"CosineRestartsDecay(T0=20,decay=0.6)\",\n",
    "    \"loss\":              \"cosine_angle_loss\",\n",
    "    \"epochs\":            num_epochs\n",
    "}\n",
    "\n",
    "# ... inside your training loop you track best_val_error (degrees) etc ...\n",
    "metrics = {\n",
    "    \"best_val_loss\":   best_val_loss,\n",
    "    \"best_val_error\":  best_val_err,   # e.g. AngularErrorMetric in ° \n",
    "    \"final_val_loss\":  va_loss,\n",
    "    \"final_val_error\": va_err,\n",
    "}\n",
    "\n",
    "# at the end of training:\n",
    "save_experiment(config, metrics)\n",
    "\n",
    "# ─── parse config ────────────────────────────────────────────────────\n",
    "parser = argparse.ArgumentParser()\n",
    "parser.add_argument(\"--config\", type=str, required=True,\n",
    "                    help=\"Path to YAML config file\")\n",
    "args = parser.parse_args()\n",
    "\n",
    "with open(args.config, \"r\") as f:\n",
    "    cfg = yaml.safe_load(f)\n",
    "\n",
    "# ─── make experiment directory ────────────────────────────────────────\n",
    "ts = datetime.now().strftime(\"%Y%m%d-%H%M%S\")\n",
    "exp_name = f\"dimenetpp_{ts}\"\n",
    "out_dir = os.path.join(cfg[\"logging\"][\"output_root\"], exp_name)\n",
    "os.makedirs(out_dir, exist_ok=True)\n",
    "\n",
    "\n",
    "with open(os.path.join(out_dir, \"used_config.yaml\"), \"w\") as f:\n",
    "    yaml.safe_dump(cfg, f)"
   ]
  },
  {
   "cell_type": "code",
   "execution_count": null,
   "id": "d8e878c8",
   "metadata": {},
   "outputs": [
    {
     "name": "stdout",
     "output_type": "stream",
     "text": [
      "EquiDataBatch(y=[16, 2], z_s=[128], z_s_batch=[128], z_s_ptr=[17], pos_s=[128, 3], z_t=[165], z_t_batch=[165], z_t_ptr=[17], pos_t=[165, 3], id=[16])\n"
     ]
    }
   ],
   "source": [
    "# Set Seed\n",
    "seed = cfg[\"training\"][\"seed\"]\n",
    "seed_everything(seed)\n",
    "\n",
    "# Build the model\n",
    "enc_cfg = cfg[\"model\"]\n",
    "encoder = DimeNetPPEncoder(\n",
    "    hidden_channels=enc_cfg[\"hidden_channels\"],\n",
    "    num_blocks=enc_cfg[\"num_blocks\"],\n",
    "    num_spherical=enc_cfg[\"num_spherical\"],\n",
    "    num_radial=enc_cfg[\"num_radial\"],\n",
    "    cutoff=enc_cfg[\"cutoff\"],\n",
    "    dropout=enc_cfg[\"dropout\"],\n",
    ").to(device)\n",
    "\n",
    "model = SiameseDimeNet(\n",
    "    encoder=encoder,\n",
    "    fusion=cfg[\"model\"][\"fusion\"],\n",
    "    dropout=cfg[\"model\"][\"dropout\"],\n",
    ").to(device)\n",
    "\n",
    "# Build the optimizer & Scheduler\n",
    "tr_cfg = cfg[\"training\"]\n",
    "optimizer = torch.optim.AdamW(\n",
    "    model.parameters(),\n",
    "    lr=tr_cfg[\"lr\"],\n",
    "    weight_decay=tr_cfg[\"weight_decay\"],\n",
    ")\n",
    "sch_cfg = tr_cfg[\"scheduler\"]\n",
    "if sch_cfg[\"name\"] == \"CosineRestartsDecay\":\n",
    "    scheduler = torch.optim.lr_scheduler.CosineAnnealingWarmRestarts(\n",
    "        optimizer,\n",
    "        T_0=sch_cfg[\"T_0\"],\n",
    "        T_mult=sch_cfg[\"T_mult\"],\n",
    "        eta_min=sch_cfg[\"eta_min\"],\n",
    "    )\n",
    "else:\n",
    "    raise ValueError(f\"Unknown scheduler: {sch_cfg['name']}\")\n",
    "# ─── build the loss function ──────────────────────────────────────────\n",
    "loss_fn = cosine_angle_loss\n",
    "metric_fn = AngularErrorMetric(\n",
    "    in_degrees=True,)\n",
    "# Build data loaders\n",
    "\n",
    "## Randomly split the dataset into train/valid/test sets\n",
    "train_size = int(0.8 * len(equi_dataset))\n",
    "valid_size = int(0.1 * len(equi_dataset))\n",
    "test_size = len(equi_dataset) - train_size - valid_size\n",
    "train_dataset, valid_dataset, test_dataset = random_split(equi_dataset, [train_size, valid_size, test_size])\n",
    "# Create DataLoaders for each dataset\n",
    "train_loader = DataLoader(\n",
    "    train_dataset,\n",
    "    batch_size=cfg[\"training\"][\"batch_size\"],\n",
    "    shuffle=True,\n",
    "    follow_batch=['z_s', 'z_t']\n",
    ")\n",
    "valid_loader = DataLoader(\n",
    "    valid_dataset,\n",
    "    batch_size=cfg[\"training\"][\"batch_size\"],\n",
    "    shuffle=True,\n",
    "    follow_batch=['z_s', 'z_t']\n",
    ")\n",
    "test_loader = DataLoader(\n",
    "    test_dataset,\n",
    "    batch_size=cfg[\"training\"][\"batch_size\"],\n",
    "    shuffle=True,\n",
    "    follow_batch=['z_s', 'z_t']\n",
    ")\n",
    "\n",
    "\n",
    "\n"
   ]
  },
  {
   "cell_type": "code",
   "execution_count": 10,
   "id": "a8a430f2",
   "metadata": {},
   "outputs": [
    {
     "name": "stderr",
     "output_type": "stream",
     "text": [
      "Training:   0%|          | 0/85 [00:00<?, ?it/s]/home/calvin/miniforge3/envs/dmpnn_rocm/lib/python3.10/site-packages/torch/nn/modules/linear.py:125: UserWarning: Attempting to use hipBLASLt on an unsupported architecture! Overriding blas backend to hipblas (Triggered internally at /pytorch/aten/src/ATen/Context.cpp:310.)\n",
      "  return F.linear(input, self.weight, self.bias)\n",
      "                                                         \r"
     ]
    },
    {
     "name": "stdout",
     "output_type": "stream",
     "text": [
      "Epoch 01 | Train L=0.7585, Err=71.9° | Val   L=0.7352, Err=70.6° | LR=1.00e-04\n",
      " ↳ New best model saved!\n"
     ]
    },
    {
     "name": "stderr",
     "output_type": "stream",
     "text": [
      "                                                         \r"
     ]
    },
    {
     "name": "stdout",
     "output_type": "stream",
     "text": [
      "Epoch 02 | Train L=0.7192, Err=69.3° | Val   L=0.7241, Err=69.7° | LR=1.00e-04\n",
      " ↳ New best model saved!\n"
     ]
    },
    {
     "name": "stderr",
     "output_type": "stream",
     "text": [
      "                                                         \r"
     ]
    },
    {
     "name": "stdout",
     "output_type": "stream",
     "text": [
      "Epoch 03 | Train L=0.7097, Err=68.6° | Val   L=0.7324, Err=69.9° | LR=1.00e-04\n"
     ]
    },
    {
     "name": "stderr",
     "output_type": "stream",
     "text": [
      "                                                         \r"
     ]
    },
    {
     "name": "stdout",
     "output_type": "stream",
     "text": [
      "Epoch 04 | Train L=0.7068, Err=68.4° | Val   L=0.7066, Err=67.8° | LR=1.00e-04\n",
      " ↳ New best model saved!\n"
     ]
    },
    {
     "name": "stderr",
     "output_type": "stream",
     "text": [
      "                                                         \r"
     ]
    },
    {
     "name": "stdout",
     "output_type": "stream",
     "text": [
      "Epoch 05 | Train L=0.7009, Err=67.9° | Val   L=0.7268, Err=69.5° | LR=1.00e-04\n"
     ]
    },
    {
     "name": "stderr",
     "output_type": "stream",
     "text": [
      "                                                         \r"
     ]
    },
    {
     "name": "stdout",
     "output_type": "stream",
     "text": [
      "Epoch 06 | Train L=0.6901, Err=67.0° | Val   L=0.6876, Err=66.5° | LR=1.00e-04\n",
      " ↳ New best model saved!\n"
     ]
    },
    {
     "name": "stderr",
     "output_type": "stream",
     "text": [
      "                                                         \r"
     ]
    },
    {
     "name": "stdout",
     "output_type": "stream",
     "text": [
      "Epoch 07 | Train L=0.6752, Err=65.8° | Val   L=0.7240, Err=69.1° | LR=1.00e-04\n"
     ]
    },
    {
     "name": "stderr",
     "output_type": "stream",
     "text": [
      "                                                         \r"
     ]
    },
    {
     "name": "stdout",
     "output_type": "stream",
     "text": [
      "Epoch 08 | Train L=0.6726, Err=65.9° | Val   L=0.7402, Err=70.3° | LR=1.00e-04\n"
     ]
    },
    {
     "name": "stderr",
     "output_type": "stream",
     "text": [
      "                                                         \r"
     ]
    },
    {
     "name": "stdout",
     "output_type": "stream",
     "text": [
      "Epoch 09 | Train L=0.6641, Err=65.3° | Val   L=0.6869, Err=65.8° | LR=1.00e-04\n",
      " ↳ New best model saved!\n"
     ]
    },
    {
     "name": "stderr",
     "output_type": "stream",
     "text": [
      "                                                         \r"
     ]
    },
    {
     "name": "stdout",
     "output_type": "stream",
     "text": [
      "Epoch 10 | Train L=0.6536, Err=64.4° | Val   L=0.6819, Err=65.8° | LR=1.00e-04\n",
      " ↳ New best model saved!\n"
     ]
    },
    {
     "name": "stderr",
     "output_type": "stream",
     "text": [
      "                                                         \r"
     ]
    },
    {
     "name": "stdout",
     "output_type": "stream",
     "text": [
      "Epoch 11 | Train L=0.6523, Err=64.2° | Val   L=0.7021, Err=66.9° | LR=1.00e-04\n"
     ]
    },
    {
     "name": "stderr",
     "output_type": "stream",
     "text": [
      "                                                         \r"
     ]
    },
    {
     "name": "stdout",
     "output_type": "stream",
     "text": [
      "Epoch 12 | Train L=0.6404, Err=63.3° | Val   L=0.6821, Err=65.5° | LR=1.00e-04\n"
     ]
    },
    {
     "name": "stderr",
     "output_type": "stream",
     "text": [
      "                                                         \r"
     ]
    },
    {
     "name": "stdout",
     "output_type": "stream",
     "text": [
      "Epoch 13 | Train L=0.6594, Err=64.6° | Val   L=0.6966, Err=67.2° | LR=1.00e-04\n"
     ]
    },
    {
     "name": "stderr",
     "output_type": "stream",
     "text": [
      "                                                         \r"
     ]
    },
    {
     "name": "stdout",
     "output_type": "stream",
     "text": [
      "Epoch 14 | Train L=0.6452, Err=64.1° | Val   L=0.6809, Err=65.7° | LR=1.00e-04\n",
      " ↳ New best model saved!\n"
     ]
    },
    {
     "name": "stderr",
     "output_type": "stream",
     "text": [
      "                                                         \r"
     ]
    },
    {
     "name": "stdout",
     "output_type": "stream",
     "text": [
      "Epoch 15 | Train L=0.6280, Err=62.4° | Val   L=0.6729, Err=65.1° | LR=1.00e-04\n",
      " ↳ New best model saved!\n"
     ]
    },
    {
     "name": "stderr",
     "output_type": "stream",
     "text": [
      "                                                         \r"
     ]
    },
    {
     "name": "stdout",
     "output_type": "stream",
     "text": [
      "Epoch 16 | Train L=0.6233, Err=62.1° | Val   L=0.6536, Err=63.9° | LR=1.00e-04\n",
      " ↳ New best model saved!\n"
     ]
    },
    {
     "name": "stderr",
     "output_type": "stream",
     "text": [
      "                                                         \r"
     ]
    },
    {
     "name": "stdout",
     "output_type": "stream",
     "text": [
      "Epoch 17 | Train L=0.6078, Err=61.3° | Val   L=0.6046, Err=60.7° | LR=1.00e-04\n",
      " ↳ New best model saved!\n"
     ]
    },
    {
     "name": "stderr",
     "output_type": "stream",
     "text": [
      "                                                         \r"
     ]
    },
    {
     "name": "stdout",
     "output_type": "stream",
     "text": [
      "Epoch 18 | Train L=0.5964, Err=60.2° | Val   L=0.6320, Err=62.7° | LR=1.00e-04\n"
     ]
    },
    {
     "name": "stderr",
     "output_type": "stream",
     "text": [
      "                                                         \r"
     ]
    },
    {
     "name": "stdout",
     "output_type": "stream",
     "text": [
      "Epoch 19 | Train L=0.5988, Err=60.4° | Val   L=0.5889, Err=59.1° | LR=1.00e-04\n",
      " ↳ New best model saved!\n"
     ]
    },
    {
     "name": "stderr",
     "output_type": "stream",
     "text": [
      "                                                         \r"
     ]
    },
    {
     "name": "stdout",
     "output_type": "stream",
     "text": [
      "Epoch 20 | Train L=0.5899, Err=59.9° | Val   L=0.6219, Err=61.8° | LR=1.00e-04\n"
     ]
    },
    {
     "name": "stderr",
     "output_type": "stream",
     "text": [
      "                                                         \r"
     ]
    },
    {
     "name": "stdout",
     "output_type": "stream",
     "text": [
      "Epoch 21 | Train L=0.5852, Err=59.5° | Val   L=0.6164, Err=60.5° | LR=3.01e-05\n"
     ]
    },
    {
     "name": "stderr",
     "output_type": "stream",
     "text": [
      "                                                         \r"
     ]
    },
    {
     "name": "stdout",
     "output_type": "stream",
     "text": [
      "Epoch 22 | Train L=0.5610, Err=57.9° | Val   L=0.5401, Err=55.6° | LR=3.04e-05\n",
      " ↳ New best model saved!\n"
     ]
    },
    {
     "name": "stderr",
     "output_type": "stream",
     "text": [
      "                                                         \r"
     ]
    },
    {
     "name": "stdout",
     "output_type": "stream",
     "text": [
      "Epoch 23 | Train L=0.5504, Err=57.1° | Val   L=0.5259, Err=54.4° | LR=3.10e-05\n",
      " ↳ New best model saved!\n"
     ]
    },
    {
     "name": "stderr",
     "output_type": "stream",
     "text": [
      "                                                         \r"
     ]
    },
    {
     "name": "stdout",
     "output_type": "stream",
     "text": [
      "Epoch 24 | Train L=0.5482, Err=56.9° | Val   L=0.5255, Err=54.5° | LR=3.17e-05\n",
      " ↳ New best model saved!\n"
     ]
    },
    {
     "name": "stderr",
     "output_type": "stream",
     "text": [
      "                                                         \r"
     ]
    },
    {
     "name": "stdout",
     "output_type": "stream",
     "text": [
      "Epoch 25 | Train L=0.5328, Err=55.5° | Val   L=0.5354, Err=55.5° | LR=3.27e-05\n"
     ]
    },
    {
     "name": "stderr",
     "output_type": "stream",
     "text": [
      "                                                         \r"
     ]
    },
    {
     "name": "stdout",
     "output_type": "stream",
     "text": [
      "Epoch 26 | Train L=0.5366, Err=55.9° | Val   L=0.5288, Err=54.7° | LR=3.38e-05\n"
     ]
    },
    {
     "name": "stderr",
     "output_type": "stream",
     "text": [
      "                                                         \r"
     ]
    },
    {
     "name": "stdout",
     "output_type": "stream",
     "text": [
      "Epoch 27 | Train L=0.5277, Err=55.1° | Val   L=0.5464, Err=55.7° | LR=3.52e-05\n"
     ]
    },
    {
     "name": "stderr",
     "output_type": "stream",
     "text": [
      "                                                         \r"
     ]
    },
    {
     "name": "stdout",
     "output_type": "stream",
     "text": [
      "Epoch 28 | Train L=0.5400, Err=56.4° | Val   L=0.5291, Err=54.5° | LR=3.67e-05\n"
     ]
    },
    {
     "name": "stderr",
     "output_type": "stream",
     "text": [
      "                                                         \r"
     ]
    },
    {
     "name": "stdout",
     "output_type": "stream",
     "text": [
      "Epoch 29 | Train L=0.5175, Err=54.6° | Val   L=0.5373, Err=55.3° | LR=3.84e-05\n"
     ]
    },
    {
     "name": "stderr",
     "output_type": "stream",
     "text": [
      "                                                         \r"
     ]
    },
    {
     "name": "stdout",
     "output_type": "stream",
     "text": [
      "Epoch 30 | Train L=0.5169, Err=54.6° | Val   L=0.5393, Err=55.8° | LR=4.03e-05\n"
     ]
    },
    {
     "name": "stderr",
     "output_type": "stream",
     "text": [
      "                                                         \r"
     ]
    },
    {
     "name": "stdout",
     "output_type": "stream",
     "text": [
      "Epoch 31 | Train L=0.5181, Err=54.4° | Val   L=0.5384, Err=55.7° | LR=4.23e-05\n"
     ]
    },
    {
     "name": "stderr",
     "output_type": "stream",
     "text": [
      "                                                         \r"
     ]
    },
    {
     "name": "stdout",
     "output_type": "stream",
     "text": [
      "Epoch 32 | Train L=0.5129, Err=54.2° | Val   L=0.5445, Err=56.2° | LR=4.44e-05\n"
     ]
    },
    {
     "name": "stderr",
     "output_type": "stream",
     "text": [
      "                                                         \r"
     ]
    },
    {
     "name": "stdout",
     "output_type": "stream",
     "text": [
      "Epoch 33 | Train L=0.5070, Err=53.7° | Val   L=0.5341, Err=55.1° | LR=4.67e-05\n"
     ]
    },
    {
     "name": "stderr",
     "output_type": "stream",
     "text": [
      "                                                         \r"
     ]
    },
    {
     "name": "stdout",
     "output_type": "stream",
     "text": [
      "Epoch 34 | Train L=0.5042, Err=53.2° | Val   L=0.5134, Err=53.8° | LR=4.91e-05\n",
      " ↳ New best model saved!\n"
     ]
    },
    {
     "name": "stderr",
     "output_type": "stream",
     "text": [
      "                                                         \r"
     ]
    },
    {
     "name": "stdout",
     "output_type": "stream",
     "text": [
      "Epoch 35 | Train L=0.5020, Err=53.4° | Val   L=0.5329, Err=55.2° | LR=5.16e-05\n"
     ]
    },
    {
     "name": "stderr",
     "output_type": "stream",
     "text": [
      "                                                         \r"
     ]
    },
    {
     "name": "stdout",
     "output_type": "stream",
     "text": [
      "Epoch 36 | Train L=0.5051, Err=53.5° | Val   L=0.5468, Err=56.0° | LR=5.42e-05\n"
     ]
    },
    {
     "name": "stderr",
     "output_type": "stream",
     "text": [
      "                                                         \r"
     ]
    },
    {
     "name": "stdout",
     "output_type": "stream",
     "text": [
      "Epoch 37 | Train L=0.4901, Err=52.2° | Val   L=0.5397, Err=56.0° | LR=5.68e-05\n"
     ]
    },
    {
     "name": "stderr",
     "output_type": "stream",
     "text": [
      "                                                         \r"
     ]
    },
    {
     "name": "stdout",
     "output_type": "stream",
     "text": [
      "Epoch 38 | Train L=0.4924, Err=52.5° | Val   L=0.5257, Err=55.1° | LR=5.95e-05\n"
     ]
    },
    {
     "name": "stderr",
     "output_type": "stream",
     "text": [
      "                                                         \r"
     ]
    },
    {
     "name": "stdout",
     "output_type": "stream",
     "text": [
      "Epoch 39 | Train L=0.4978, Err=52.8° | Val   L=0.5264, Err=54.6° | LR=6.23e-05\n"
     ]
    },
    {
     "name": "stderr",
     "output_type": "stream",
     "text": [
      "                                                         \r"
     ]
    },
    {
     "name": "stdout",
     "output_type": "stream",
     "text": [
      "Epoch 40 | Train L=0.4875, Err=52.2° | Val   L=0.4981, Err=52.4° | LR=6.50e-05\n",
      " ↳ New best model saved!\n"
     ]
    },
    {
     "name": "stderr",
     "output_type": "stream",
     "text": [
      "                                                         \r"
     ]
    },
    {
     "name": "stdout",
     "output_type": "stream",
     "text": [
      "Epoch 41 | Train L=0.4969, Err=52.8° | Val   L=0.5268, Err=55.5° | LR=6.77e-05\n"
     ]
    },
    {
     "name": "stderr",
     "output_type": "stream",
     "text": [
      "                                                         \r"
     ]
    },
    {
     "name": "stdout",
     "output_type": "stream",
     "text": [
      "Epoch 42 | Train L=0.4802, Err=51.5° | Val   L=0.4958, Err=51.7° | LR=7.05e-05\n",
      " ↳ New best model saved!\n"
     ]
    },
    {
     "name": "stderr",
     "output_type": "stream",
     "text": [
      "                                                         \r"
     ]
    },
    {
     "name": "stdout",
     "output_type": "stream",
     "text": [
      "Epoch 43 | Train L=0.4848, Err=51.9° | Val   L=0.5233, Err=54.9° | LR=7.32e-05\n"
     ]
    },
    {
     "name": "stderr",
     "output_type": "stream",
     "text": [
      "                                                         \r"
     ]
    },
    {
     "name": "stdout",
     "output_type": "stream",
     "text": [
      "Epoch 44 | Train L=0.4944, Err=52.6° | Val   L=0.5155, Err=54.8° | LR=7.58e-05\n"
     ]
    },
    {
     "name": "stderr",
     "output_type": "stream",
     "text": [
      "                                                         \r"
     ]
    },
    {
     "name": "stdout",
     "output_type": "stream",
     "text": [
      "Epoch 45 | Train L=0.4699, Err=50.8° | Val   L=0.5202, Err=54.4° | LR=7.84e-05\n"
     ]
    },
    {
     "name": "stderr",
     "output_type": "stream",
     "text": [
      "                                                         \r"
     ]
    },
    {
     "name": "stdout",
     "output_type": "stream",
     "text": [
      "Epoch 46 | Train L=0.4781, Err=51.4° | Val   L=0.5242, Err=55.6° | LR=8.09e-05\n"
     ]
    },
    {
     "name": "stderr",
     "output_type": "stream",
     "text": [
      "                                                         \r"
     ]
    },
    {
     "name": "stdout",
     "output_type": "stream",
     "text": [
      "Epoch 47 | Train L=0.4847, Err=51.7° | Val   L=0.4915, Err=52.5° | LR=8.33e-05\n",
      " ↳ New best model saved!\n"
     ]
    },
    {
     "name": "stderr",
     "output_type": "stream",
     "text": [
      "                                                         \r"
     ]
    },
    {
     "name": "stdout",
     "output_type": "stream",
     "text": [
      "Epoch 48 | Train L=0.5387, Err=56.0° | Val   L=0.5322, Err=54.9° | LR=8.56e-05\n"
     ]
    },
    {
     "name": "stderr",
     "output_type": "stream",
     "text": [
      "                                                         \r"
     ]
    },
    {
     "name": "stdout",
     "output_type": "stream",
     "text": [
      "Epoch 49 | Train L=0.5263, Err=55.2° | Val   L=0.5298, Err=55.1° | LR=8.77e-05\n"
     ]
    },
    {
     "name": "stderr",
     "output_type": "stream",
     "text": [
      "                                                         \r"
     ]
    },
    {
     "name": "stdout",
     "output_type": "stream",
     "text": [
      "Epoch 50 | Train L=0.4941, Err=52.4° | Val   L=0.5153, Err=54.5° | LR=8.97e-05\n"
     ]
    },
    {
     "name": "stderr",
     "output_type": "stream",
     "text": [
      "                                                         \r"
     ]
    },
    {
     "name": "stdout",
     "output_type": "stream",
     "text": [
      "Epoch 51 | Train L=0.4868, Err=52.0° | Val   L=0.5115, Err=54.1° | LR=9.16e-05\n"
     ]
    },
    {
     "name": "stderr",
     "output_type": "stream",
     "text": [
      "                                                         \r"
     ]
    },
    {
     "name": "stdout",
     "output_type": "stream",
     "text": [
      "Epoch 52 | Train L=0.4733, Err=51.2° | Val   L=0.5131, Err=54.4° | LR=9.33e-05\n"
     ]
    },
    {
     "name": "stderr",
     "output_type": "stream",
     "text": [
      "                                                         \r"
     ]
    },
    {
     "name": "stdout",
     "output_type": "stream",
     "text": [
      "Epoch 53 | Train L=0.4795, Err=51.5° | Val   L=0.5395, Err=56.4° | LR=9.48e-05\n"
     ]
    },
    {
     "name": "stderr",
     "output_type": "stream",
     "text": [
      "                                                         \r"
     ]
    },
    {
     "name": "stdout",
     "output_type": "stream",
     "text": [
      "Epoch 54 | Train L=0.4849, Err=51.9° | Val   L=0.4952, Err=53.4° | LR=9.62e-05\n"
     ]
    },
    {
     "name": "stderr",
     "output_type": "stream",
     "text": [
      "                                                         \r"
     ]
    },
    {
     "name": "stdout",
     "output_type": "stream",
     "text": [
      "Epoch 55 | Train L=0.4699, Err=50.8° | Val   L=0.5032, Err=53.2° | LR=9.73e-05\n"
     ]
    },
    {
     "name": "stderr",
     "output_type": "stream",
     "text": [
      "                                                         \r"
     ]
    },
    {
     "name": "stdout",
     "output_type": "stream",
     "text": [
      "Epoch 56 | Train L=0.4866, Err=52.0° | Val   L=0.5038, Err=53.7° | LR=9.83e-05\n"
     ]
    },
    {
     "name": "stderr",
     "output_type": "stream",
     "text": [
      "                                                         \r"
     ]
    },
    {
     "name": "stdout",
     "output_type": "stream",
     "text": [
      "Epoch 57 | Train L=0.4652, Err=50.2° | Val   L=0.4976, Err=52.6° | LR=9.90e-05\n"
     ]
    },
    {
     "name": "stderr",
     "output_type": "stream",
     "text": [
      "                                                         \r"
     ]
    },
    {
     "name": "stdout",
     "output_type": "stream",
     "text": [
      "Epoch 58 | Train L=0.4816, Err=51.7° | Val   L=0.5315, Err=55.2° | LR=9.96e-05\n"
     ]
    },
    {
     "name": "stderr",
     "output_type": "stream",
     "text": [
      "                                                         \r"
     ]
    },
    {
     "name": "stdout",
     "output_type": "stream",
     "text": [
      "Epoch 59 | Train L=0.4651, Err=50.0° | Val   L=0.4950, Err=52.4° | LR=9.99e-05\n"
     ]
    },
    {
     "name": "stderr",
     "output_type": "stream",
     "text": [
      "                                                         \r"
     ]
    },
    {
     "name": "stdout",
     "output_type": "stream",
     "text": [
      "Epoch 60 | Train L=0.4357, Err=47.7° | Val   L=0.4708, Err=51.4° | LR=3.00e-05\n",
      " ↳ New best model saved!\n"
     ]
    },
    {
     "name": "stderr",
     "output_type": "stream",
     "text": [
      "                                                         \r"
     ]
    },
    {
     "name": "stdout",
     "output_type": "stream",
     "text": [
      "Epoch 61 | Train L=0.4250, Err=47.1° | Val   L=0.4884, Err=52.5° | LR=9.04e-06\n"
     ]
    },
    {
     "name": "stderr",
     "output_type": "stream",
     "text": [
      "                                                         \r"
     ]
    },
    {
     "name": "stdout",
     "output_type": "stream",
     "text": [
      "Epoch 62 | Train L=0.4131, Err=46.2° | Val   L=0.4806, Err=51.9° | LR=9.14e-06\n"
     ]
    },
    {
     "name": "stderr",
     "output_type": "stream",
     "text": [
      "                                                         \r"
     ]
    },
    {
     "name": "stdout",
     "output_type": "stream",
     "text": [
      "Epoch 63 | Train L=0.4070, Err=45.7° | Val   L=0.4779, Err=51.5° | LR=9.32e-06\n"
     ]
    },
    {
     "name": "stderr",
     "output_type": "stream",
     "text": [
      "                                                         \r"
     ]
    },
    {
     "name": "stdout",
     "output_type": "stream",
     "text": [
      "Epoch 64 | Train L=0.3983, Err=45.0° | Val   L=0.4723, Err=51.2° | LR=9.56e-06\n"
     ]
    },
    {
     "name": "stderr",
     "output_type": "stream",
     "text": [
      "                                                         \r"
     ]
    },
    {
     "name": "stdout",
     "output_type": "stream",
     "text": [
      "Epoch 65 | Train L=0.4019, Err=45.2° | Val   L=0.4682, Err=50.9° | LR=9.87e-06\n",
      " ↳ New best model saved!\n"
     ]
    },
    {
     "name": "stderr",
     "output_type": "stream",
     "text": [
      "                                                         \r"
     ]
    },
    {
     "name": "stdout",
     "output_type": "stream",
     "text": [
      "Epoch 66 | Train L=0.3946, Err=44.5° | Val   L=0.4747, Err=51.4° | LR=1.03e-05\n"
     ]
    },
    {
     "name": "stderr",
     "output_type": "stream",
     "text": [
      "                                                         \r"
     ]
    },
    {
     "name": "stdout",
     "output_type": "stream",
     "text": [
      "Epoch 67 | Train L=0.4007, Err=45.2° | Val   L=0.4721, Err=51.4° | LR=1.07e-05\n"
     ]
    },
    {
     "name": "stderr",
     "output_type": "stream",
     "text": [
      "                                                         \r"
     ]
    },
    {
     "name": "stdout",
     "output_type": "stream",
     "text": [
      "Epoch 68 | Train L=0.3966, Err=44.9° | Val   L=0.4788, Err=51.8° | LR=1.12e-05\n"
     ]
    },
    {
     "name": "stderr",
     "output_type": "stream",
     "text": [
      "                                                         \r"
     ]
    },
    {
     "name": "stdout",
     "output_type": "stream",
     "text": [
      "Epoch 69 | Train L=0.3899, Err=44.3° | Val   L=0.4977, Err=53.2° | LR=1.18e-05\n"
     ]
    },
    {
     "name": "stderr",
     "output_type": "stream",
     "text": [
      "                                                         \r"
     ]
    },
    {
     "name": "stdout",
     "output_type": "stream",
     "text": [
      "Epoch 70 | Train L=0.3908, Err=44.7° | Val   L=0.4989, Err=53.5° | LR=1.25e-05\n"
     ]
    },
    {
     "name": "stderr",
     "output_type": "stream",
     "text": [
      "                                                         \r"
     ]
    },
    {
     "name": "stdout",
     "output_type": "stream",
     "text": [
      "Epoch 71 | Train L=0.3840, Err=43.9° | Val   L=0.4892, Err=52.3° | LR=1.32e-05\n"
     ]
    },
    {
     "name": "stderr",
     "output_type": "stream",
     "text": [
      "                                                         \r"
     ]
    },
    {
     "name": "stdout",
     "output_type": "stream",
     "text": [
      "Epoch 72 | Train L=0.3851, Err=44.0° | Val   L=0.4873, Err=52.4° | LR=1.40e-05\n"
     ]
    },
    {
     "name": "stderr",
     "output_type": "stream",
     "text": [
      "                                                         \r"
     ]
    },
    {
     "name": "stdout",
     "output_type": "stream",
     "text": [
      "Epoch 73 | Train L=0.3846, Err=43.7° | Val   L=0.4950, Err=52.8° | LR=1.48e-05\n"
     ]
    },
    {
     "name": "stderr",
     "output_type": "stream",
     "text": [
      "                                                         \r"
     ]
    },
    {
     "name": "stdout",
     "output_type": "stream",
     "text": [
      "Epoch 74 | Train L=0.3852, Err=43.9° | Val   L=0.5062, Err=53.7° | LR=1.57e-05\n"
     ]
    },
    {
     "name": "stderr",
     "output_type": "stream",
     "text": [
      "                                                         \r"
     ]
    },
    {
     "name": "stdout",
     "output_type": "stream",
     "text": [
      "Epoch 75 | Train L=0.3863, Err=44.1° | Val   L=0.5020, Err=53.4° | LR=1.67e-05\n"
     ]
    },
    {
     "name": "stderr",
     "output_type": "stream",
     "text": [
      "                                                         \r"
     ]
    },
    {
     "name": "stdout",
     "output_type": "stream",
     "text": [
      "Epoch 76 | Train L=0.3830, Err=43.7° | Val   L=0.4922, Err=52.7° | LR=1.77e-05\n"
     ]
    },
    {
     "name": "stderr",
     "output_type": "stream",
     "text": [
      "                                                         \r"
     ]
    },
    {
     "name": "stdout",
     "output_type": "stream",
     "text": [
      "Epoch 77 | Train L=0.3773, Err=43.3° | Val   L=0.4877, Err=52.4° | LR=1.88e-05\n"
     ]
    },
    {
     "name": "stderr",
     "output_type": "stream",
     "text": [
      "                                                         \r"
     ]
    },
    {
     "name": "stdout",
     "output_type": "stream",
     "text": [
      "Epoch 78 | Train L=0.3774, Err=43.3° | Val   L=0.5002, Err=53.3° | LR=1.99e-05\n"
     ]
    },
    {
     "name": "stderr",
     "output_type": "stream",
     "text": [
      "                                                         \r"
     ]
    },
    {
     "name": "stdout",
     "output_type": "stream",
     "text": [
      "Epoch 79 | Train L=0.3707, Err=42.4° | Val   L=0.4919, Err=51.9° | LR=2.11e-05\n"
     ]
    },
    {
     "name": "stderr",
     "output_type": "stream",
     "text": [
      "                                                         \r"
     ]
    },
    {
     "name": "stdout",
     "output_type": "stream",
     "text": [
      "Epoch 80 | Train L=0.3717, Err=42.5° | Val   L=0.4956, Err=53.0° | LR=2.23e-05\n"
     ]
    },
    {
     "name": "stderr",
     "output_type": "stream",
     "text": [
      "                                                         \r"
     ]
    },
    {
     "name": "stdout",
     "output_type": "stream",
     "text": [
      "Epoch 81 | Train L=0.3739, Err=43.0° | Val   L=0.4870, Err=51.8° | LR=2.36e-05\n"
     ]
    },
    {
     "name": "stderr",
     "output_type": "stream",
     "text": [
      "                                                         \r"
     ]
    },
    {
     "name": "stdout",
     "output_type": "stream",
     "text": [
      "Epoch 82 | Train L=0.3650, Err=42.4° | Val   L=0.4900, Err=52.0° | LR=2.50e-05\n"
     ]
    },
    {
     "name": "stderr",
     "output_type": "stream",
     "text": [
      "                                                         \r"
     ]
    },
    {
     "name": "stdout",
     "output_type": "stream",
     "text": [
      "Epoch 83 | Train L=0.3626, Err=42.1° | Val   L=0.5101, Err=53.5° | LR=2.63e-05\n"
     ]
    },
    {
     "name": "stderr",
     "output_type": "stream",
     "text": [
      "                                                         \r"
     ]
    },
    {
     "name": "stdout",
     "output_type": "stream",
     "text": [
      "Epoch 84 | Train L=0.3937, Err=44.4° | Val   L=0.5032, Err=53.6° | LR=2.78e-05\n"
     ]
    },
    {
     "name": "stderr",
     "output_type": "stream",
     "text": [
      "                                                         \r"
     ]
    },
    {
     "name": "stdout",
     "output_type": "stream",
     "text": [
      "Epoch 85 | Train L=0.3702, Err=42.7° | Val   L=0.4891, Err=52.5° | LR=2.92e-05\n"
     ]
    },
    {
     "name": "stderr",
     "output_type": "stream",
     "text": [
      "                                                         \r"
     ]
    },
    {
     "ename": "KeyboardInterrupt",
     "evalue": "",
     "output_type": "error",
     "traceback": [
      "\u001b[0;31m---------------------------------------------------------------------------\u001b[0m",
      "\u001b[0;31mKeyboardInterrupt\u001b[0m                         Traceback (most recent call last)",
      "Cell \u001b[0;32mIn[10], line 80\u001b[0m\n\u001b[1;32m     77\u001b[0m \u001b[38;5;66;03m# 3) Training loop\u001b[39;00m\n\u001b[1;32m     79\u001b[0m \u001b[38;5;28;01mfor\u001b[39;00m epoch \u001b[38;5;129;01min\u001b[39;00m \u001b[38;5;28mrange\u001b[39m(\u001b[38;5;241m1\u001b[39m, num_epochs \u001b[38;5;241m+\u001b[39m \u001b[38;5;241m1\u001b[39m):\n\u001b[0;32m---> 80\u001b[0m     tr_loss, tr_err \u001b[38;5;241m=\u001b[39m \u001b[43mtrain_epoch\u001b[49m\u001b[43m(\u001b[49m\u001b[43mtrain_loader\u001b[49m\u001b[43m)\u001b[49m\n\u001b[1;32m     81\u001b[0m     va_loss, va_err \u001b[38;5;241m=\u001b[39m eval_epoch(valid_loader)\n\u001b[1;32m     83\u001b[0m     \u001b[38;5;66;03m# Step the scheduler once per epoch\u001b[39;00m\n\u001b[1;32m     84\u001b[0m     \u001b[38;5;66;03m# If your scheduler wants the epoch number, do: scheduler.step(epoch)\u001b[39;00m\n\u001b[1;32m     85\u001b[0m     \u001b[38;5;66;03m# Otherwise just:\u001b[39;00m\n",
      "Cell \u001b[0;32mIn[10], line 51\u001b[0m, in \u001b[0;36mtrain_epoch\u001b[0;34m(loader)\u001b[0m\n\u001b[1;32m     48\u001b[0m err \u001b[38;5;241m=\u001b[39m metric_fn(out, batch\u001b[38;5;241m.\u001b[39my)     \u001b[38;5;66;03m# scalar tensor\u001b[39;00m\n\u001b[1;32m     50\u001b[0m bsize \u001b[38;5;241m=\u001b[39m batch\u001b[38;5;241m.\u001b[39my\u001b[38;5;241m.\u001b[39msize(\u001b[38;5;241m0\u001b[39m)\n\u001b[0;32m---> 51\u001b[0m total_loss \u001b[38;5;241m+\u001b[39m\u001b[38;5;241m=\u001b[39m \u001b[43mloss\u001b[49m\u001b[38;5;241;43m.\u001b[39;49m\u001b[43mitem\u001b[49m\u001b[43m(\u001b[49m\u001b[43m)\u001b[49m \u001b[38;5;241m*\u001b[39m bsize\n\u001b[1;32m     52\u001b[0m total_err  \u001b[38;5;241m+\u001b[39m\u001b[38;5;241m=\u001b[39m err\u001b[38;5;241m.\u001b[39mitem()  \u001b[38;5;241m*\u001b[39m bsize\n\u001b[1;32m     53\u001b[0m n_samples  \u001b[38;5;241m+\u001b[39m\u001b[38;5;241m=\u001b[39m bsize\n",
      "\u001b[0;31mKeyboardInterrupt\u001b[0m: "
     ]
    }
   ],
   "source": [
    "\n",
    "model = SiameseDimeNet(\n",
    "    encoder=encoder)\n",
    "model = model.to(device)\n",
    "num_epochs  = 200\n",
    "learning_rate = 1e-4\n",
    "optimizer = torch.optim.AdamW(model.parameters(), lr=learning_rate, weight_decay=1e-5)\n",
    "# scheduler = torch.optim.lr_scheduler.ReduceLROnPlateau(\n",
    "#     optimizer, mode='min', factor=0.5, patience=5, verbose=True\n",
    "# )\n",
    "#scheduler = CosineAnnealingLR(optimizer, T_max=num_epochs, eta_min=1e-6)\n",
    "scheduler = CosineRestartsDecay(\n",
    "    optimizer,\n",
    "    T_0     = 20,\n",
    "    T_mult  = 2,\n",
    "    eta_min = 1e-4,\n",
    "    decay   = 0.3) \n",
    "\n",
    "\n",
    "import torch.nn.functional as F\n",
    "\n",
    "best_val_loss = float('inf')\n",
    "\n",
    "loss_fn = cosine_angle_loss\n",
    "metric_fn   = AngularErrorMetric(in_degrees=True)\n",
    "\n",
    "# 3) Training loop\n",
    "\n",
    "for epoch in range(1, num_epochs + 1):\n",
    "    tr_loss, tr_err = train_epoch(model, train_loader, optimizer, loss_fn, metric_fn)\n",
    "    va_loss, va_err = eval_epoch(model, valid_loader, loss_fn, metric_fn)\n",
    "\n",
    "    # Step the scheduler once per epoch\n",
    "    # If your scheduler wants the epoch number, do: scheduler.step(epoch)\n",
    "    # Otherwise just:\n",
    "    scheduler.step()\n",
    "\n",
    "    lr = scheduler.get_last_lr()[0]\n",
    "    print(f\"Epoch {epoch:02d} | \"\n",
    "          f\"Train L={tr_loss:.4f}, Err={tr_err:.1f}° | \"\n",
    "          f\"Val   L={va_loss:.4f}, Err={va_err:.1f}° | \"\n",
    "          f\"LR={lr:.2e}\")\n",
    "\n",
    "    # (Optional) save best‐model checkpoint\n",
    "    if va_loss < best_val_loss:\n",
    "        best_val_loss = va_loss\n",
    "        torch.save(model.state_dict(), 'best_dimenet_model.pt')\n",
    "        print(\" ↳ New best model saved!\")"
   ]
  },
  {
   "cell_type": "code",
   "execution_count": null,
   "id": "3243041c",
   "metadata": {},
   "outputs": [
    {
     "name": "stdout",
     "output_type": "stream",
     "text": [
      "EquiDataBatch(y=[32, 2], z_s=[334], z_s_batch=[334], z_s_ptr=[33], pos_s=[334, 3], z_t=[341], z_t_batch=[341], z_t_ptr=[33], pos_t=[341, 3], id=[32])\n"
     ]
    }
   ],
   "source": [
    "batch = next(iter(train_loader))\n",
    "print(batch)"
   ]
  },
  {
   "cell_type": "code",
   "execution_count": 16,
   "id": "70069f79",
   "metadata": {},
   "outputs": [
    {
     "name": "stdout",
     "output_type": "stream",
     "text": [
      "CUDA memory cleared\n"
     ]
    }
   ],
   "source": [
    "torch.cuda.empty_cache()\n",
    "print(\"CUDA memory cleared\")\n",
    "# Print CUDA memory summary\n"
   ]
  },
  {
   "cell_type": "code",
   "execution_count": 15,
   "id": "e3591dfb",
   "metadata": {},
   "outputs": [
    {
     "name": "stdout",
     "output_type": "stream",
     "text": [
      "CUDA memory summary:\n",
      "|===========================================================================|\n",
      "|                  PyTorch CUDA memory summary, device ID 0                 |\n",
      "|---------------------------------------------------------------------------|\n",
      "|            CUDA OOMs: 0            |        cudaMalloc retries: 10        |\n",
      "|===========================================================================|\n",
      "|        Metric         | Cur Usage  | Peak Usage | Tot Alloc  | Tot Freed  |\n",
      "|---------------------------------------------------------------------------|\n",
      "| Allocated memory      | 419315 KiB |   6020 MiB |  63448 GiB |  63448 GiB |\n",
      "|       from large pool |  79195 KiB |   5742 MiB |  60360 GiB |  60360 GiB |\n",
      "|       from small pool | 340120 KiB |    415 MiB |   3088 GiB |   3087 GiB |\n",
      "|---------------------------------------------------------------------------|\n",
      "| Active memory         | 419315 KiB |   6020 MiB |  63448 GiB |  63448 GiB |\n",
      "|       from large pool |  79195 KiB |   5742 MiB |  60360 GiB |  60360 GiB |\n",
      "|       from small pool | 340120 KiB |    415 MiB |   3088 GiB |   3087 GiB |\n",
      "|---------------------------------------------------------------------------|\n",
      "| Requested memory      | 417934 KiB |   6018 MiB |  63072 GiB |  63072 GiB |\n",
      "|       from large pool |  77824 KiB |   5740 MiB |  59990 GiB |  59990 GiB |\n",
      "|       from small pool | 340110 KiB |    415 MiB |   3082 GiB |   3081 GiB |\n",
      "|---------------------------------------------------------------------------|\n",
      "| GPU reserved memory   | 462848 KiB |   7774 MiB |  35546 MiB |  35094 MiB |\n",
      "|       from large pool | 106496 KiB |   7352 MiB |  33732 MiB |  33628 MiB |\n",
      "|       from small pool | 356352 KiB |    424 MiB |   1814 MiB |   1466 MiB |\n",
      "|---------------------------------------------------------------------------|\n",
      "| Non-releasable memory |  43533 KiB |   1851 MiB |  62088 GiB |  62088 GiB |\n",
      "|       from large pool |  27301 KiB |   1847 MiB |  58950 GiB |  58950 GiB |\n",
      "|       from small pool |  16232 KiB |     27 MiB |   3138 GiB |   3138 GiB |\n",
      "|---------------------------------------------------------------------------|\n",
      "| Allocations           |     900    |    1352    |   44933 K  |   44932 K  |\n",
      "|       from large pool |       6    |     492    |    9643 K  |    9643 K  |\n",
      "|       from small pool |     894    |    1113    |   35289 K  |   35288 K  |\n",
      "|---------------------------------------------------------------------------|\n",
      "| Active allocs         |     900    |    1352    |   44933 K  |   44932 K  |\n",
      "|       from large pool |       6    |     492    |    9643 K  |    9643 K  |\n",
      "|       from small pool |     894    |    1113    |   35289 K  |   35288 K  |\n",
      "|---------------------------------------------------------------------------|\n",
      "| GPU reserved segments |     178    |     377    |    1482    |    1304    |\n",
      "|       from large pool |       4    |     166    |     575    |     571    |\n",
      "|       from small pool |     174    |     212    |     907    |     733    |\n",
      "|---------------------------------------------------------------------------|\n",
      "| Non-releasable allocs |      56    |     216    |   26002 K  |   26002 K  |\n",
      "|       from large pool |       3    |     153    |    5828 K  |    5828 K  |\n",
      "|       from small pool |      53    |      83    |   20173 K  |   20173 K  |\n",
      "|---------------------------------------------------------------------------|\n",
      "| Oversize allocations  |       0    |       0    |       0    |       0    |\n",
      "|---------------------------------------------------------------------------|\n",
      "| Oversize GPU segments |       0    |       0    |       0    |       0    |\n",
      "|===========================================================================|\n",
      "\n"
     ]
    }
   ],
   "source": [
    "print(\"CUDA memory summary:\")\n",
    "print(torch.cuda.memory_summary(device=None, abbreviated=False))"
   ]
  },
  {
   "cell_type": "code",
   "execution_count": null,
   "id": "90e12bd5",
   "metadata": {},
   "outputs": [
    {
     "data": {
      "text/plain": [
       "tensor([[ 9.9498e-01,  1.0010e-01],\n",
       "        [-8.8480e-01,  4.6598e-01],\n",
       "        [-7.0213e-01, -7.1205e-01],\n",
       "        [-9.9791e-01,  6.4688e-02],\n",
       "        [ 7.9861e-02, -9.9681e-01],\n",
       "        [ 3.9891e-01, -9.1699e-01],\n",
       "        [-4.3020e-02,  9.9907e-01],\n",
       "        [-1.6591e-01,  9.8614e-01],\n",
       "        [ 1.8761e-01, -9.8224e-01],\n",
       "        [-9.6775e-01, -2.5191e-01],\n",
       "        [-7.0285e-01,  7.1134e-01],\n",
       "        [ 2.6074e-01,  9.6541e-01],\n",
       "        [-5.3904e-04,  1.0000e+00],\n",
       "        [-1.3275e-01, -9.9115e-01],\n",
       "        [-4.9938e-04,  1.0000e+00],\n",
       "        [-1.6487e-01, -9.8632e-01],\n",
       "        [ 8.2383e-01,  5.6684e-01],\n",
       "        [ 9.9917e-01,  4.0807e-02],\n",
       "        [ 1.1098e-01,  9.9382e-01],\n",
       "        [-9.3298e-01, -3.5993e-01],\n",
       "        [ 2.6962e-01,  9.6297e-01],\n",
       "        [-4.5483e-03, -9.9999e-01],\n",
       "        [-3.3019e-01,  9.4391e-01],\n",
       "        [ 3.2036e-01, -9.4730e-01],\n",
       "        [ 9.9998e-01,  6.6410e-03],\n",
       "        [ 1.0000e+00, -1.0429e-03],\n",
       "        [ 3.4122e-01, -9.3999e-01],\n",
       "        [-9.9093e-01, -1.3441e-01],\n",
       "        [ 5.7461e-01,  8.1843e-01],\n",
       "        [ 3.5273e-04,  1.0000e+00],\n",
       "        [-5.6821e-01,  8.2288e-01],\n",
       "        [-9.6160e-02,  9.9537e-01]])"
      ]
     },
     "execution_count": 12,
     "metadata": {},
     "output_type": "execute_result"
    }
   ],
   "source": [
    "batch.y"
   ]
  },
  {
   "cell_type": "code",
   "execution_count": null,
   "id": "a00369a2",
   "metadata": {},
   "outputs": [],
   "source": []
  }
 ],
 "metadata": {
  "kernelspec": {
   "display_name": "dmpnn_rocm",
   "language": "python",
   "name": "python3"
  },
  "language_info": {
   "codemirror_mode": {
    "name": "ipython",
    "version": 3
   },
   "file_extension": ".py",
   "mimetype": "text/x-python",
   "name": "python",
   "nbconvert_exporter": "python",
   "pygments_lexer": "ipython3",
   "version": "3.10.16"
  }
 },
 "nbformat": 4,
 "nbformat_minor": 5
}
